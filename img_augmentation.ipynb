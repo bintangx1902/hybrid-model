{
 "cells": [
  {
   "cell_type": "code",
   "id": "initial_id",
   "metadata": {
    "collapsed": true,
    "ExecuteTime": {
     "end_time": "2024-09-02T10:05:59.617826Z",
     "start_time": "2024-09-02T10:05:56.572486Z"
    }
   },
   "source": [
    "import tensorflow as tf\n",
    "import os\n",
    "import cv2 as cv"
   ],
   "outputs": [],
   "execution_count": 1
  },
  {
   "cell_type": "code",
   "source": [
    "aug = tf.keras.preprocessing.image.ImageDataGenerator(\n",
    "    rotation_range=30,\n",
    "    fill_mode=\"reflect\",\n",
    "    zoom_range=.3,\n",
    "    shear_range=.3,\n",
    "    rescale=1 / 255.\n",
    ")"
   ],
   "metadata": {
    "collapsed": false,
    "ExecuteTime": {
     "end_time": "2024-09-02T10:05:59.633525Z",
     "start_time": "2024-09-02T10:05:59.620495Z"
    }
   },
   "id": "22436c968265a50e",
   "outputs": [],
   "execution_count": 2
  },
  {
   "cell_type": "code",
   "source": [
    "# img = keras.utils.load_img(r'C:\\a-dev\\a_study\\dataset\\Dataset\\Data Sawi Ada Hama\\1.png')\n",
    "# x = keras.utils.img_to_array(img)\n",
    "# \n",
    "# x = x.reshape((1,) + x.shape)"
   ],
   "metadata": {
    "collapsed": false,
    "ExecuteTime": {
     "end_time": "2024-09-02T10:05:59.648493Z",
     "start_time": "2024-09-02T10:05:59.635481Z"
    }
   },
   "id": "ce172f8ec699c05c",
   "outputs": [],
   "execution_count": 3
  },
  {
   "cell_type": "code",
   "source": [
    "# i = 0\n",
    "# for bat in aug.flow(x, batch_size=1, save_to_dir='E:\\PEN', save_prefix='ada hama', save_format='jpg'):\n",
    "#     i += 1\n",
    "#     if i >= 3:\n",
    "#         break"
   ],
   "metadata": {
    "collapsed": false,
    "ExecuteTime": {
     "end_time": "2024-09-02T10:05:59.664510Z",
     "start_time": "2024-09-02T10:05:59.650493Z"
    }
   },
   "id": "696db6e9c86294e3",
   "outputs": [],
   "execution_count": 4
  },
  {
   "metadata": {
    "ExecuteTime": {
     "end_time": "2024-09-02T10:05:59.680496Z",
     "start_time": "2024-09-02T10:05:59.668513Z"
    }
   },
   "cell_type": "code",
   "source": [
    "main_dir = r'C:\\Users\\Bintang\\Desktop\\All\\1-7 Day'\n",
    "save_dir = r'D:\\PEN\\paddy'"
   ],
   "id": "df5dd67607e6d514",
   "outputs": [],
   "execution_count": 5
  },
  {
   "cell_type": "code",
   "source": [
    "for classes in os.listdir(main_dir):\n",
    "    in_class = os.path.join(main_dir, classes)\n",
    "    if not os.path.exists(os.path.join(save_dir, classes)):\n",
    "        os.makedirs(os.path.join(save_dir, classes), exist_ok=True)\n",
    "    target_dir = os.path.join(save_dir, classes)\n",
    "    for i in os.listdir(in_class):\n",
    "        img_path = os.path.join(in_class, i)\n",
    "        img = tf.keras.utils.load_img(img_path)\n",
    "        x = tf.keras.utils.img_to_array(img)\n",
    "\n",
    "        x = x.reshape((1,) + x.shape)\n",
    "        i = 0\n",
    "\n",
    "        for bat in aug.flow(x, batch_size=1, save_to_dir=target_dir, save_prefix=f\"{classes}_\", save_format='jpg'):\n",
    "            i += 1\n",
    "            if i >= 200:\n",
    "                break"
   ],
   "metadata": {
    "collapsed": false,
    "ExecuteTime": {
     "end_time": "2024-09-02T10:09:30.939531Z",
     "start_time": "2024-09-02T10:05:59.682495Z"
    }
   },
   "id": "6d3f162ad8e025a9",
   "outputs": [],
   "execution_count": 6
  },
  {
   "cell_type": "code",
   "source": "",
   "metadata": {
    "collapsed": false,
    "ExecuteTime": {
     "end_time": "2024-09-02T10:09:30.955517Z",
     "start_time": "2024-09-02T10:09:30.940515Z"
    }
   },
   "id": "296b2bbfb5eeb961",
   "outputs": [],
   "execution_count": 6
  }
 ],
 "metadata": {
  "kernelspec": {
   "display_name": "Python 3",
   "language": "python",
   "name": "python3"
  },
  "language_info": {
   "codemirror_mode": {
    "name": "ipython",
    "version": 2
   },
   "file_extension": ".py",
   "mimetype": "text/x-python",
   "name": "python",
   "nbconvert_exporter": "python",
   "pygments_lexer": "ipython2",
   "version": "2.7.6"
  }
 },
 "nbformat": 4,
 "nbformat_minor": 5
}
