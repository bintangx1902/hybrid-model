{
 "cells": [
  {
   "cell_type": "code",
   "id": "initial_id",
   "metadata": {
    "collapsed": true,
    "ExecuteTime": {
     "end_time": "2024-06-04T16:50:10.484331Z",
     "start_time": "2024-06-04T16:50:08.251416Z"
    }
   },
   "source": [
    "from tensorflow.keras.layers import *\n",
    "import tensorflow as tf\n",
    "import numpy as np\n",
    "import pandas as pd\n",
    "from matplotlib import pyplot as plt\n",
    "import seaborn as sns\n",
    "from sklearn.preprocessing import LabelEncoder\n",
    "from sklearn.model_selection import train_test_split"
   ],
   "outputs": [],
   "execution_count": 1
  },
  {
   "metadata": {
    "ExecuteTime": {
     "end_time": "2024-06-04T16:51:43.898673Z",
     "start_time": "2024-06-04T16:51:43.880681Z"
    }
   },
   "cell_type": "code",
   "source": [
    "def normalize_series(data, min, max):\n",
    "    data = data - min\n",
    "    data = data / max\n",
    "    return data\n",
    "\n",
    "\n",
    "# COMPLETE THE CODE IN THE FOLLOWING FUNCTION.\n",
    "def windowed_dataset(series, batch_size, window_size = 64, shuffle_buffer = 1_000):\n",
    "    series = tf.expand_dims(series, axis=-1)\n",
    "    ds = tf.data.Dataset.from_tensor_slices(series)\n",
    "    ds = ds.window(window_size + 1, shift=1, drop_remainder=True)\n",
    "    ds = ds.flat_map(lambda w: w.batch(window_size + 1))\n",
    "    ds = ds.shuffle(shuffle_buffer)\n",
    "    ds = ds.map(lambda w: (w[:-1], w[1:]))\n",
    "    return ds.batch(batch_size).prefetch(tf.data.AUTOTUNE)"
   ],
   "id": "d35ff86254db10a5",
   "outputs": [],
   "execution_count": 11
  },
  {
   "metadata": {
    "ExecuteTime": {
     "end_time": "2024-06-04T16:50:10.530876Z",
     "start_time": "2024-06-04T16:50:10.502231Z"
    }
   },
   "cell_type": "code",
   "source": "data = pd.read_csv('./dataset/clean-sensors.csv', infer_datetime_format=True, header=0, index_col='datetime')",
   "id": "e85d1f9a53145283",
   "outputs": [
    {
     "name": "stderr",
     "output_type": "stream",
     "text": [
      "C:\\Users\\Bintang\\AppData\\Local\\Temp\\ipykernel_12108\\3182949423.py:1: FutureWarning: The argument 'infer_datetime_format' is deprecated and will be removed in a future version. A strict version of it is now the default, see https://pandas.pydata.org/pdeps/0004-consistent-to-datetime-parsing.html. You can safely remove this argument.\n",
      "  data = pd.read_csv('./dataset/clean-sensors.csv', infer_datetime_format=True, header=0, index_col='datetime')\n"
     ]
    }
   ],
   "execution_count": 3
  },
  {
   "metadata": {
    "ExecuteTime": {
     "end_time": "2024-06-04T16:50:10.561411Z",
     "start_time": "2024-06-04T16:50:10.531889Z"
    }
   },
   "cell_type": "code",
   "source": "data.head()",
   "id": "a6f1b2fb23d31f3b",
   "outputs": [
    {
     "data": {
      "text/plain": [
       "                    Temperature  Humidity  Illumination  kat_temperature  \\\n",
       "datetime                                                                   \n",
       "03/07/2023 0:00:00         28.0        75         76.61                2   \n",
       "03/07/2023 0:01:00         28.0        75         75.33                2   \n",
       "03/07/2023 0:02:00         28.0        75         74.49                2   \n",
       "03/07/2023 0:03:00         28.0        75         74.49                2   \n",
       "03/07/2023 0:04:00         28.0        75         74.49                2   \n",
       "\n",
       "                    kat_humidity  kat_illumination  Kipas  Humidifier  LED  \n",
       "datetime                                                                    \n",
       "03/07/2023 0:00:00             2                 3      0           0    1  \n",
       "03/07/2023 0:01:00             2                 3      0           0    1  \n",
       "03/07/2023 0:02:00             2                 3      0           0    1  \n",
       "03/07/2023 0:03:00             2                 3      0           0    1  \n",
       "03/07/2023 0:04:00             2                 3      0           0    1  "
      ],
      "text/html": [
       "<div>\n",
       "<style scoped>\n",
       "    .dataframe tbody tr th:only-of-type {\n",
       "        vertical-align: middle;\n",
       "    }\n",
       "\n",
       "    .dataframe tbody tr th {\n",
       "        vertical-align: top;\n",
       "    }\n",
       "\n",
       "    .dataframe thead th {\n",
       "        text-align: right;\n",
       "    }\n",
       "</style>\n",
       "<table border=\"1\" class=\"dataframe\">\n",
       "  <thead>\n",
       "    <tr style=\"text-align: right;\">\n",
       "      <th></th>\n",
       "      <th>Temperature</th>\n",
       "      <th>Humidity</th>\n",
       "      <th>Illumination</th>\n",
       "      <th>kat_temperature</th>\n",
       "      <th>kat_humidity</th>\n",
       "      <th>kat_illumination</th>\n",
       "      <th>Kipas</th>\n",
       "      <th>Humidifier</th>\n",
       "      <th>LED</th>\n",
       "    </tr>\n",
       "    <tr>\n",
       "      <th>datetime</th>\n",
       "      <th></th>\n",
       "      <th></th>\n",
       "      <th></th>\n",
       "      <th></th>\n",
       "      <th></th>\n",
       "      <th></th>\n",
       "      <th></th>\n",
       "      <th></th>\n",
       "      <th></th>\n",
       "    </tr>\n",
       "  </thead>\n",
       "  <tbody>\n",
       "    <tr>\n",
       "      <th>03/07/2023 0:00:00</th>\n",
       "      <td>28.0</td>\n",
       "      <td>75</td>\n",
       "      <td>76.61</td>\n",
       "      <td>2</td>\n",
       "      <td>2</td>\n",
       "      <td>3</td>\n",
       "      <td>0</td>\n",
       "      <td>0</td>\n",
       "      <td>1</td>\n",
       "    </tr>\n",
       "    <tr>\n",
       "      <th>03/07/2023 0:01:00</th>\n",
       "      <td>28.0</td>\n",
       "      <td>75</td>\n",
       "      <td>75.33</td>\n",
       "      <td>2</td>\n",
       "      <td>2</td>\n",
       "      <td>3</td>\n",
       "      <td>0</td>\n",
       "      <td>0</td>\n",
       "      <td>1</td>\n",
       "    </tr>\n",
       "    <tr>\n",
       "      <th>03/07/2023 0:02:00</th>\n",
       "      <td>28.0</td>\n",
       "      <td>75</td>\n",
       "      <td>74.49</td>\n",
       "      <td>2</td>\n",
       "      <td>2</td>\n",
       "      <td>3</td>\n",
       "      <td>0</td>\n",
       "      <td>0</td>\n",
       "      <td>1</td>\n",
       "    </tr>\n",
       "    <tr>\n",
       "      <th>03/07/2023 0:03:00</th>\n",
       "      <td>28.0</td>\n",
       "      <td>75</td>\n",
       "      <td>74.49</td>\n",
       "      <td>2</td>\n",
       "      <td>2</td>\n",
       "      <td>3</td>\n",
       "      <td>0</td>\n",
       "      <td>0</td>\n",
       "      <td>1</td>\n",
       "    </tr>\n",
       "    <tr>\n",
       "      <th>03/07/2023 0:04:00</th>\n",
       "      <td>28.0</td>\n",
       "      <td>75</td>\n",
       "      <td>74.49</td>\n",
       "      <td>2</td>\n",
       "      <td>2</td>\n",
       "      <td>3</td>\n",
       "      <td>0</td>\n",
       "      <td>0</td>\n",
       "      <td>1</td>\n",
       "    </tr>\n",
       "  </tbody>\n",
       "</table>\n",
       "</div>"
      ]
     },
     "execution_count": 4,
     "metadata": {},
     "output_type": "execute_result"
    }
   ],
   "execution_count": 4
  },
  {
   "metadata": {
    "ExecuteTime": {
     "end_time": "2024-06-04T16:50:10.577121Z",
     "start_time": "2024-06-04T16:50:10.563428Z"
    }
   },
   "cell_type": "code",
   "source": "data.columns",
   "id": "2c482582294b21d6",
   "outputs": [
    {
     "data": {
      "text/plain": [
       "Index(['Temperature', 'Humidity', 'Illumination', 'kat_temperature',\n",
       "       'kat_humidity', 'kat_illumination', 'Kipas', 'Humidifier', 'LED'],\n",
       "      dtype='object')"
      ]
     },
     "execution_count": 5,
     "metadata": {},
     "output_type": "execute_result"
    }
   ],
   "execution_count": 5
  },
  {
   "metadata": {
    "ExecuteTime": {
     "end_time": "2024-06-04T16:50:10.592649Z",
     "start_time": "2024-06-04T16:50:10.579124Z"
    }
   },
   "cell_type": "code",
   "source": "data.info()",
   "id": "5ba0502c2c8260dd",
   "outputs": [
    {
     "name": "stdout",
     "output_type": "stream",
     "text": [
      "<class 'pandas.core.frame.DataFrame'>\n",
      "Index: 11507 entries, 03/07/2023 0:00:00 to 10/07/2023 23:59:00\n",
      "Data columns (total 9 columns):\n",
      " #   Column            Non-Null Count  Dtype  \n",
      "---  ------            --------------  -----  \n",
      " 0   Temperature       11507 non-null  float64\n",
      " 1   Humidity          11507 non-null  int64  \n",
      " 2   Illumination      11063 non-null  float64\n",
      " 3   kat_temperature   11507 non-null  int64  \n",
      " 4   kat_humidity      11507 non-null  int64  \n",
      " 5   kat_illumination  11507 non-null  int64  \n",
      " 6   Kipas             11507 non-null  int64  \n",
      " 7   Humidifier        11507 non-null  int64  \n",
      " 8   LED               11507 non-null  int64  \n",
      "dtypes: float64(2), int64(7)\n",
      "memory usage: 899.0+ KB\n"
     ]
    }
   ],
   "execution_count": 6
  },
  {
   "metadata": {
    "ExecuteTime": {
     "end_time": "2024-06-04T16:50:10.607879Z",
     "start_time": "2024-06-04T16:50:10.593642Z"
    }
   },
   "cell_type": "code",
   "source": [
    "data_fan = data.drop(['Humidifier', 'LED'], axis=1)\n",
    "data_humid = data.drop(['LED', 'Kipas'], axis=1)\n",
    "data_led = data.drop(['Kipas', 'Humidifier'], axis=1)"
   ],
   "id": "8bf63580e7507f23",
   "outputs": [],
   "execution_count": 7
  },
  {
   "metadata": {
    "ExecuteTime": {
     "end_time": "2024-06-04T16:50:10.623983Z",
     "start_time": "2024-06-04T16:50:10.608876Z"
    }
   },
   "cell_type": "code",
   "source": [
    "n_data_fan = normalize_series(data_fan.copy(), data_fan.min(axis=0), data_fan.max(axis=0))\n",
    "n_data_humid = normalize_series(data_humid.copy(), data_humid.min(axis=0), data_humid.max(axis=0))\n",
    "n_data_led = normalize_series(data_led.copy(), data_led.min(axis=0), data_led.max(axis=0))"
   ],
   "id": "31686f8cc7903852",
   "outputs": [],
   "execution_count": 8
  },
  {
   "metadata": {
    "ExecuteTime": {
     "end_time": "2024-06-04T16:50:10.638970Z",
     "start_time": "2024-06-04T16:50:10.624984Z"
    }
   },
   "cell_type": "code",
   "source": [
    "split_time = int(len(data) * 0.8)\n",
    "print(split_time)"
   ],
   "id": "506282435cefddae",
   "outputs": [
    {
     "name": "stdout",
     "output_type": "stream",
     "text": [
      "9205\n"
     ]
    }
   ],
   "execution_count": 9
  },
  {
   "metadata": {
    "ExecuteTime": {
     "end_time": "2024-06-04T16:50:10.654977Z",
     "start_time": "2024-06-04T16:50:10.646970Z"
    }
   },
   "cell_type": "code",
   "source": [
    "train_fan = n_data_fan[:split_time]\n",
    "valid_fan = n_data_fan[split_time:]\n",
    "\n",
    "train_led = n_data_led[:split_time]\n",
    "valid_led = n_data_led[split_time:]\n",
    "\n",
    "train_humid = n_data_humid[:split_time]\n",
    "valid_humid = n_data_humid[split_time:]"
   ],
   "id": "7469d247ab6d73b1",
   "outputs": [],
   "execution_count": 10
  },
  {
   "metadata": {
    "ExecuteTime": {
     "end_time": "2024-06-04T16:52:52.180096Z",
     "start_time": "2024-06-04T16:52:49.762154Z"
    }
   },
   "cell_type": "code",
   "source": [
    "train_series_fan = windowed_dataset(train_fan, 256)\n",
    "valid_series_fan = windowed_dataset(valid_fan, 256)\n",
    "\n",
    "train_series_humid = windowed_dataset(train_humid, 256)\n",
    "valid_series_humid = windowed_dataset(valid_humid, 256)\n",
    "\n",
    "train_series_led = windowed_dataset(train_led, 256)\n",
    "valid_series_led = windowed_dataset(valid_led, 256)"
   ],
   "id": "79c522e8f4895a3a",
   "outputs": [],
   "execution_count": 12
  },
  {
   "metadata": {},
   "cell_type": "code",
   "outputs": [],
   "execution_count": null,
   "source": "model =",
   "id": "442aaac6ee713e14"
  }
 ],
 "metadata": {
  "kernelspec": {
   "display_name": "Python 3",
   "language": "python",
   "name": "python3"
  },
  "language_info": {
   "codemirror_mode": {
    "name": "ipython",
    "version": 2
   },
   "file_extension": ".py",
   "mimetype": "text/x-python",
   "name": "python",
   "nbconvert_exporter": "python",
   "pygments_lexer": "ipython2",
   "version": "2.7.6"
  }
 },
 "nbformat": 4,
 "nbformat_minor": 5
}
