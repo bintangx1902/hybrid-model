{
 "cells": [
  {
   "cell_type": "code",
   "id": "initial_id",
   "metadata": {
    "collapsed": true,
    "ExecuteTime": {
     "end_time": "2024-06-12T17:15:56.056851Z",
     "start_time": "2024-06-12T17:15:53.294201Z"
    }
   },
   "source": [
    "from tensorflow.keras.layers import *\n",
    "import tensorflow as tf\n",
    "import numpy as np\n",
    "import pandas as pd\n",
    "from matplotlib import pyplot as plt\n",
    "import seaborn as sns\n",
    "from sklearn.preprocessing import StandardScaler\n",
    "from sklearn.model_selection import train_test_split\n",
    "from sklearn.metrics import classification_report, confusion_matrix"
   ],
   "outputs": [],
   "execution_count": 1
  },
  {
   "metadata": {
    "ExecuteTime": {
     "end_time": "2024-06-12T17:15:56.104400Z",
     "start_time": "2024-06-12T17:15:56.059826Z"
    }
   },
   "cell_type": "code",
   "source": "data = pd.read_csv('./dataset/data-final-1.csv', infer_datetime_format=True, header=0, index_col='datetime')",
   "id": "e85d1f9a53145283",
   "outputs": [
    {
     "name": "stderr",
     "output_type": "stream",
     "text": [
      "C:\\Users\\Bintang\\AppData\\Local\\Temp\\ipykernel_7892\\3605832206.py:1: FutureWarning: The argument 'infer_datetime_format' is deprecated and will be removed in a future version. A strict version of it is now the default, see https://pandas.pydata.org/pdeps/0004-consistent-to-datetime-parsing.html. You can safely remove this argument.\n",
      "  data = pd.read_csv('./dataset/data-final-1.csv', infer_datetime_format=True, header=0, index_col='datetime')\n"
     ]
    }
   ],
   "execution_count": 2
  },
  {
   "metadata": {
    "ExecuteTime": {
     "end_time": "2024-06-12T17:15:56.135688Z",
     "start_time": "2024-06-12T17:15:56.108960Z"
    }
   },
   "cell_type": "code",
   "source": "data.head()",
   "id": "a6f1b2fb23d31f3b",
   "outputs": [
    {
     "data": {
      "text/plain": [
       "                    Temperature  Humidity  Illumination  kat_temperature  \\\n",
       "datetime                                                                   \n",
       "03/07/2023 0:00:00         28.0        75         76.61                2   \n",
       "03/07/2023 0:01:00         28.0        75         75.33                2   \n",
       "03/07/2023 0:02:00         28.0        75         74.49                2   \n",
       "03/07/2023 0:03:00         28.0        75         74.49                2   \n",
       "03/07/2023 0:04:00         28.0        75         74.49                2   \n",
       "\n",
       "                    kat_humidity  kat_illumination  Kipas  Humidifier  LED  \n",
       "datetime                                                                    \n",
       "03/07/2023 0:00:00             2                 3      0           0    1  \n",
       "03/07/2023 0:01:00             2                 3      0           0    1  \n",
       "03/07/2023 0:02:00             2                 3      0           0    1  \n",
       "03/07/2023 0:03:00             2                 3      0           0    1  \n",
       "03/07/2023 0:04:00             2                 3      0           0    1  "
      ],
      "text/html": [
       "<div>\n",
       "<style scoped>\n",
       "    .dataframe tbody tr th:only-of-type {\n",
       "        vertical-align: middle;\n",
       "    }\n",
       "\n",
       "    .dataframe tbody tr th {\n",
       "        vertical-align: top;\n",
       "    }\n",
       "\n",
       "    .dataframe thead th {\n",
       "        text-align: right;\n",
       "    }\n",
       "</style>\n",
       "<table border=\"1\" class=\"dataframe\">\n",
       "  <thead>\n",
       "    <tr style=\"text-align: right;\">\n",
       "      <th></th>\n",
       "      <th>Temperature</th>\n",
       "      <th>Humidity</th>\n",
       "      <th>Illumination</th>\n",
       "      <th>kat_temperature</th>\n",
       "      <th>kat_humidity</th>\n",
       "      <th>kat_illumination</th>\n",
       "      <th>Kipas</th>\n",
       "      <th>Humidifier</th>\n",
       "      <th>LED</th>\n",
       "    </tr>\n",
       "    <tr>\n",
       "      <th>datetime</th>\n",
       "      <th></th>\n",
       "      <th></th>\n",
       "      <th></th>\n",
       "      <th></th>\n",
       "      <th></th>\n",
       "      <th></th>\n",
       "      <th></th>\n",
       "      <th></th>\n",
       "      <th></th>\n",
       "    </tr>\n",
       "  </thead>\n",
       "  <tbody>\n",
       "    <tr>\n",
       "      <th>03/07/2023 0:00:00</th>\n",
       "      <td>28.0</td>\n",
       "      <td>75</td>\n",
       "      <td>76.61</td>\n",
       "      <td>2</td>\n",
       "      <td>2</td>\n",
       "      <td>3</td>\n",
       "      <td>0</td>\n",
       "      <td>0</td>\n",
       "      <td>1</td>\n",
       "    </tr>\n",
       "    <tr>\n",
       "      <th>03/07/2023 0:01:00</th>\n",
       "      <td>28.0</td>\n",
       "      <td>75</td>\n",
       "      <td>75.33</td>\n",
       "      <td>2</td>\n",
       "      <td>2</td>\n",
       "      <td>3</td>\n",
       "      <td>0</td>\n",
       "      <td>0</td>\n",
       "      <td>1</td>\n",
       "    </tr>\n",
       "    <tr>\n",
       "      <th>03/07/2023 0:02:00</th>\n",
       "      <td>28.0</td>\n",
       "      <td>75</td>\n",
       "      <td>74.49</td>\n",
       "      <td>2</td>\n",
       "      <td>2</td>\n",
       "      <td>3</td>\n",
       "      <td>0</td>\n",
       "      <td>0</td>\n",
       "      <td>1</td>\n",
       "    </tr>\n",
       "    <tr>\n",
       "      <th>03/07/2023 0:03:00</th>\n",
       "      <td>28.0</td>\n",
       "      <td>75</td>\n",
       "      <td>74.49</td>\n",
       "      <td>2</td>\n",
       "      <td>2</td>\n",
       "      <td>3</td>\n",
       "      <td>0</td>\n",
       "      <td>0</td>\n",
       "      <td>1</td>\n",
       "    </tr>\n",
       "    <tr>\n",
       "      <th>03/07/2023 0:04:00</th>\n",
       "      <td>28.0</td>\n",
       "      <td>75</td>\n",
       "      <td>74.49</td>\n",
       "      <td>2</td>\n",
       "      <td>2</td>\n",
       "      <td>3</td>\n",
       "      <td>0</td>\n",
       "      <td>0</td>\n",
       "      <td>1</td>\n",
       "    </tr>\n",
       "  </tbody>\n",
       "</table>\n",
       "</div>"
      ]
     },
     "execution_count": 3,
     "metadata": {},
     "output_type": "execute_result"
    }
   ],
   "execution_count": 3
  },
  {
   "metadata": {
    "ExecuteTime": {
     "end_time": "2024-06-12T17:15:56.151174Z",
     "start_time": "2024-06-12T17:15:56.137623Z"
    }
   },
   "cell_type": "code",
   "source": "data.columns",
   "id": "2c482582294b21d6",
   "outputs": [
    {
     "data": {
      "text/plain": [
       "Index(['Temperature', 'Humidity', 'Illumination', 'kat_temperature',\n",
       "       'kat_humidity', 'kat_illumination', 'Kipas', 'Humidifier', 'LED'],\n",
       "      dtype='object')"
      ]
     },
     "execution_count": 4,
     "metadata": {},
     "output_type": "execute_result"
    }
   ],
   "execution_count": 4
  },
  {
   "metadata": {
    "ExecuteTime": {
     "end_time": "2024-06-12T17:15:56.182242Z",
     "start_time": "2024-06-12T17:15:56.153168Z"
    }
   },
   "cell_type": "code",
   "source": "data.info()",
   "id": "5ba0502c2c8260dd",
   "outputs": [
    {
     "name": "stdout",
     "output_type": "stream",
     "text": [
      "<class 'pandas.core.frame.DataFrame'>\n",
      "Index: 8866 entries, 03/07/2023 0:00:00 to 10/07/2023 23:16:00\n",
      "Data columns (total 9 columns):\n",
      " #   Column            Non-Null Count  Dtype  \n",
      "---  ------            --------------  -----  \n",
      " 0   Temperature       8866 non-null   float64\n",
      " 1   Humidity          8866 non-null   int64  \n",
      " 2   Illumination      8866 non-null   float64\n",
      " 3   kat_temperature   8866 non-null   int64  \n",
      " 4   kat_humidity      8866 non-null   int64  \n",
      " 5   kat_illumination  8866 non-null   int64  \n",
      " 6   Kipas             8866 non-null   int64  \n",
      " 7   Humidifier        8866 non-null   int64  \n",
      " 8   LED               8866 non-null   int64  \n",
      "dtypes: float64(2), int64(7)\n",
      "memory usage: 692.7+ KB\n"
     ]
    }
   ],
   "execution_count": 5
  },
  {
   "metadata": {
    "ExecuteTime": {
     "end_time": "2024-06-12T17:15:56.198292Z",
     "start_time": "2024-06-12T17:15:56.183241Z"
    }
   },
   "cell_type": "code",
   "source": "data = data[[col for col in data.columns if not col.startswith('kat_')]]",
   "id": "9733873346a607bb",
   "outputs": [],
   "execution_count": 6
  },
  {
   "metadata": {
    "ExecuteTime": {
     "end_time": "2024-06-12T17:15:56.244108Z",
     "start_time": "2024-06-12T17:15:56.200297Z"
    }
   },
   "cell_type": "code",
   "source": [
    "stats = data.describe()\n",
    "stats.pop('Kipas')\n",
    "stats.pop('LED') \n",
    "stats.pop('Humidifier')\n",
    "stats = stats.transpose()\n",
    "stats"
   ],
   "id": "8bf63580e7507f23",
   "outputs": [
    {
     "data": {
      "text/plain": [
       "               count       mean       std   min    25%    50%    75%    max\n",
       "Temperature   8866.0  29.948850  1.032873  27.6  28.90  30.20  30.80  32.80\n",
       "Humidity      8866.0  66.783555  4.345455  54.0  64.00  67.00  70.00  76.00\n",
       "Illumination  8866.0  73.429239  1.497201  69.6  72.82  73.24  73.65  80.59"
      ],
      "text/html": [
       "<div>\n",
       "<style scoped>\n",
       "    .dataframe tbody tr th:only-of-type {\n",
       "        vertical-align: middle;\n",
       "    }\n",
       "\n",
       "    .dataframe tbody tr th {\n",
       "        vertical-align: top;\n",
       "    }\n",
       "\n",
       "    .dataframe thead th {\n",
       "        text-align: right;\n",
       "    }\n",
       "</style>\n",
       "<table border=\"1\" class=\"dataframe\">\n",
       "  <thead>\n",
       "    <tr style=\"text-align: right;\">\n",
       "      <th></th>\n",
       "      <th>count</th>\n",
       "      <th>mean</th>\n",
       "      <th>std</th>\n",
       "      <th>min</th>\n",
       "      <th>25%</th>\n",
       "      <th>50%</th>\n",
       "      <th>75%</th>\n",
       "      <th>max</th>\n",
       "    </tr>\n",
       "  </thead>\n",
       "  <tbody>\n",
       "    <tr>\n",
       "      <th>Temperature</th>\n",
       "      <td>8866.0</td>\n",
       "      <td>29.948850</td>\n",
       "      <td>1.032873</td>\n",
       "      <td>27.6</td>\n",
       "      <td>28.90</td>\n",
       "      <td>30.20</td>\n",
       "      <td>30.80</td>\n",
       "      <td>32.80</td>\n",
       "    </tr>\n",
       "    <tr>\n",
       "      <th>Humidity</th>\n",
       "      <td>8866.0</td>\n",
       "      <td>66.783555</td>\n",
       "      <td>4.345455</td>\n",
       "      <td>54.0</td>\n",
       "      <td>64.00</td>\n",
       "      <td>67.00</td>\n",
       "      <td>70.00</td>\n",
       "      <td>76.00</td>\n",
       "    </tr>\n",
       "    <tr>\n",
       "      <th>Illumination</th>\n",
       "      <td>8866.0</td>\n",
       "      <td>73.429239</td>\n",
       "      <td>1.497201</td>\n",
       "      <td>69.6</td>\n",
       "      <td>72.82</td>\n",
       "      <td>73.24</td>\n",
       "      <td>73.65</td>\n",
       "      <td>80.59</td>\n",
       "    </tr>\n",
       "  </tbody>\n",
       "</table>\n",
       "</div>"
      ]
     },
     "execution_count": 7,
     "metadata": {},
     "output_type": "execute_result"
    }
   ],
   "execution_count": 7
  },
  {
   "metadata": {
    "ExecuteTime": {
     "end_time": "2024-06-12T17:15:56.260139Z",
     "start_time": "2024-06-12T17:15:56.245615Z"
    }
   },
   "cell_type": "code",
   "source": "train, test = train_test_split(data, test_size=.2, random_state=1)",
   "id": "7469d247ab6d73b1",
   "outputs": [],
   "execution_count": 8
  },
  {
   "metadata": {
    "ExecuteTime": {
     "end_time": "2024-06-12T17:15:56.275685Z",
     "start_time": "2024-06-12T17:15:56.262140Z"
    }
   },
   "cell_type": "code",
   "source": [
    "def norm_data(x):\n",
    "    return (x - stats['mean']) / stats['std']\n",
    "\n",
    "def format_output(data):\n",
    "    fan = np.array(data.pop('Kipas'))\n",
    "    humid = np.array(data.pop('Humidifier'))\n",
    "    led = np.array(data.pop('LED'))\n",
    "    return fan, humid, led    "
   ],
   "id": "3e8155928e77ac46",
   "outputs": [],
   "execution_count": 9
  },
  {
   "metadata": {
    "ExecuteTime": {
     "end_time": "2024-06-12T17:15:56.291212Z",
     "start_time": "2024-06-12T17:15:56.277693Z"
    }
   },
   "cell_type": "code",
   "source": [
    "train_label = format_output(train)\n",
    "test_label = format_output(test)"
   ],
   "id": "2f2f1ef8765cc10f",
   "outputs": [],
   "execution_count": 10
  },
  {
   "metadata": {
    "ExecuteTime": {
     "end_time": "2024-06-12T17:15:56.307215Z",
     "start_time": "2024-06-12T17:15:56.294213Z"
    }
   },
   "cell_type": "code",
   "source": "train_label",
   "id": "d3d9a773bc013571",
   "outputs": [
    {
     "data": {
      "text/plain": [
       "(array([0, 0, 0, ..., 0, 0, 0], dtype=int64),\n",
       " array([0, 1, 0, ..., 1, 0, 0], dtype=int64),\n",
       " array([1, 1, 1, ..., 1, 1, 0], dtype=int64))"
      ]
     },
     "execution_count": 11,
     "metadata": {},
     "output_type": "execute_result"
    }
   ],
   "execution_count": 11
  },
  {
   "metadata": {
    "ExecuteTime": {
     "end_time": "2024-06-12T17:15:56.322734Z",
     "start_time": "2024-06-12T17:15:56.309214Z"
    }
   },
   "cell_type": "code",
   "source": "len(train_label[0]) == len(train)",
   "id": "8e8dc4d8016454a2",
   "outputs": [
    {
     "data": {
      "text/plain": [
       "True"
      ]
     },
     "execution_count": 12,
     "metadata": {},
     "output_type": "execute_result"
    }
   ],
   "execution_count": 12
  },
  {
   "metadata": {
    "ExecuteTime": {
     "end_time": "2024-06-12T17:15:56.338397Z",
     "start_time": "2024-06-12T17:15:56.323739Z"
    }
   },
   "cell_type": "code",
   "source": [
    "scaler = StandardScaler()\n",
    "scaler.fit(train)"
   ],
   "id": "fe6edd6aa91c23e8",
   "outputs": [
    {
     "data": {
      "text/plain": [
       "StandardScaler()"
      ],
      "text/html": [
       "<style>#sk-container-id-1 {\n",
       "  /* Definition of color scheme common for light and dark mode */\n",
       "  --sklearn-color-text: black;\n",
       "  --sklearn-color-line: gray;\n",
       "  /* Definition of color scheme for unfitted estimators */\n",
       "  --sklearn-color-unfitted-level-0: #fff5e6;\n",
       "  --sklearn-color-unfitted-level-1: #f6e4d2;\n",
       "  --sklearn-color-unfitted-level-2: #ffe0b3;\n",
       "  --sklearn-color-unfitted-level-3: chocolate;\n",
       "  /* Definition of color scheme for fitted estimators */\n",
       "  --sklearn-color-fitted-level-0: #f0f8ff;\n",
       "  --sklearn-color-fitted-level-1: #d4ebff;\n",
       "  --sklearn-color-fitted-level-2: #b3dbfd;\n",
       "  --sklearn-color-fitted-level-3: cornflowerblue;\n",
       "\n",
       "  /* Specific color for light theme */\n",
       "  --sklearn-color-text-on-default-background: var(--sg-text-color, var(--theme-code-foreground, var(--jp-content-font-color1, black)));\n",
       "  --sklearn-color-background: var(--sg-background-color, var(--theme-background, var(--jp-layout-color0, white)));\n",
       "  --sklearn-color-border-box: var(--sg-text-color, var(--theme-code-foreground, var(--jp-content-font-color1, black)));\n",
       "  --sklearn-color-icon: #696969;\n",
       "\n",
       "  @media (prefers-color-scheme: dark) {\n",
       "    /* Redefinition of color scheme for dark theme */\n",
       "    --sklearn-color-text-on-default-background: var(--sg-text-color, var(--theme-code-foreground, var(--jp-content-font-color1, white)));\n",
       "    --sklearn-color-background: var(--sg-background-color, var(--theme-background, var(--jp-layout-color0, #111)));\n",
       "    --sklearn-color-border-box: var(--sg-text-color, var(--theme-code-foreground, var(--jp-content-font-color1, white)));\n",
       "    --sklearn-color-icon: #878787;\n",
       "  }\n",
       "}\n",
       "\n",
       "#sk-container-id-1 {\n",
       "  color: var(--sklearn-color-text);\n",
       "}\n",
       "\n",
       "#sk-container-id-1 pre {\n",
       "  padding: 0;\n",
       "}\n",
       "\n",
       "#sk-container-id-1 input.sk-hidden--visually {\n",
       "  border: 0;\n",
       "  clip: rect(1px 1px 1px 1px);\n",
       "  clip: rect(1px, 1px, 1px, 1px);\n",
       "  height: 1px;\n",
       "  margin: -1px;\n",
       "  overflow: hidden;\n",
       "  padding: 0;\n",
       "  position: absolute;\n",
       "  width: 1px;\n",
       "}\n",
       "\n",
       "#sk-container-id-1 div.sk-dashed-wrapped {\n",
       "  border: 1px dashed var(--sklearn-color-line);\n",
       "  margin: 0 0.4em 0.5em 0.4em;\n",
       "  box-sizing: border-box;\n",
       "  padding-bottom: 0.4em;\n",
       "  background-color: var(--sklearn-color-background);\n",
       "}\n",
       "\n",
       "#sk-container-id-1 div.sk-container {\n",
       "  /* jupyter's `normalize.less` sets `[hidden] { display: none; }`\n",
       "     but bootstrap.min.css set `[hidden] { display: none !important; }`\n",
       "     so we also need the `!important` here to be able to override the\n",
       "     default hidden behavior on the sphinx rendered scikit-learn.org.\n",
       "     See: https://github.com/scikit-learn/scikit-learn/issues/21755 */\n",
       "  display: inline-block !important;\n",
       "  position: relative;\n",
       "}\n",
       "\n",
       "#sk-container-id-1 div.sk-text-repr-fallback {\n",
       "  display: none;\n",
       "}\n",
       "\n",
       "div.sk-parallel-item,\n",
       "div.sk-serial,\n",
       "div.sk-item {\n",
       "  /* draw centered vertical line to link estimators */\n",
       "  background-image: linear-gradient(var(--sklearn-color-text-on-default-background), var(--sklearn-color-text-on-default-background));\n",
       "  background-size: 2px 100%;\n",
       "  background-repeat: no-repeat;\n",
       "  background-position: center center;\n",
       "}\n",
       "\n",
       "/* Parallel-specific style estimator block */\n",
       "\n",
       "#sk-container-id-1 div.sk-parallel-item::after {\n",
       "  content: \"\";\n",
       "  width: 100%;\n",
       "  border-bottom: 2px solid var(--sklearn-color-text-on-default-background);\n",
       "  flex-grow: 1;\n",
       "}\n",
       "\n",
       "#sk-container-id-1 div.sk-parallel {\n",
       "  display: flex;\n",
       "  align-items: stretch;\n",
       "  justify-content: center;\n",
       "  background-color: var(--sklearn-color-background);\n",
       "  position: relative;\n",
       "}\n",
       "\n",
       "#sk-container-id-1 div.sk-parallel-item {\n",
       "  display: flex;\n",
       "  flex-direction: column;\n",
       "}\n",
       "\n",
       "#sk-container-id-1 div.sk-parallel-item:first-child::after {\n",
       "  align-self: flex-end;\n",
       "  width: 50%;\n",
       "}\n",
       "\n",
       "#sk-container-id-1 div.sk-parallel-item:last-child::after {\n",
       "  align-self: flex-start;\n",
       "  width: 50%;\n",
       "}\n",
       "\n",
       "#sk-container-id-1 div.sk-parallel-item:only-child::after {\n",
       "  width: 0;\n",
       "}\n",
       "\n",
       "/* Serial-specific style estimator block */\n",
       "\n",
       "#sk-container-id-1 div.sk-serial {\n",
       "  display: flex;\n",
       "  flex-direction: column;\n",
       "  align-items: center;\n",
       "  background-color: var(--sklearn-color-background);\n",
       "  padding-right: 1em;\n",
       "  padding-left: 1em;\n",
       "}\n",
       "\n",
       "\n",
       "/* Toggleable style: style used for estimator/Pipeline/ColumnTransformer box that is\n",
       "clickable and can be expanded/collapsed.\n",
       "- Pipeline and ColumnTransformer use this feature and define the default style\n",
       "- Estimators will overwrite some part of the style using the `sk-estimator` class\n",
       "*/\n",
       "\n",
       "/* Pipeline and ColumnTransformer style (default) */\n",
       "\n",
       "#sk-container-id-1 div.sk-toggleable {\n",
       "  /* Default theme specific background. It is overwritten whether we have a\n",
       "  specific estimator or a Pipeline/ColumnTransformer */\n",
       "  background-color: var(--sklearn-color-background);\n",
       "}\n",
       "\n",
       "/* Toggleable label */\n",
       "#sk-container-id-1 label.sk-toggleable__label {\n",
       "  cursor: pointer;\n",
       "  display: block;\n",
       "  width: 100%;\n",
       "  margin-bottom: 0;\n",
       "  padding: 0.5em;\n",
       "  box-sizing: border-box;\n",
       "  text-align: center;\n",
       "}\n",
       "\n",
       "#sk-container-id-1 label.sk-toggleable__label-arrow:before {\n",
       "  /* Arrow on the left of the label */\n",
       "  content: \"▸\";\n",
       "  float: left;\n",
       "  margin-right: 0.25em;\n",
       "  color: var(--sklearn-color-icon);\n",
       "}\n",
       "\n",
       "#sk-container-id-1 label.sk-toggleable__label-arrow:hover:before {\n",
       "  color: var(--sklearn-color-text);\n",
       "}\n",
       "\n",
       "/* Toggleable content - dropdown */\n",
       "\n",
       "#sk-container-id-1 div.sk-toggleable__content {\n",
       "  max-height: 0;\n",
       "  max-width: 0;\n",
       "  overflow: hidden;\n",
       "  text-align: left;\n",
       "  /* unfitted */\n",
       "  background-color: var(--sklearn-color-unfitted-level-0);\n",
       "}\n",
       "\n",
       "#sk-container-id-1 div.sk-toggleable__content.fitted {\n",
       "  /* fitted */\n",
       "  background-color: var(--sklearn-color-fitted-level-0);\n",
       "}\n",
       "\n",
       "#sk-container-id-1 div.sk-toggleable__content pre {\n",
       "  margin: 0.2em;\n",
       "  border-radius: 0.25em;\n",
       "  color: var(--sklearn-color-text);\n",
       "  /* unfitted */\n",
       "  background-color: var(--sklearn-color-unfitted-level-0);\n",
       "}\n",
       "\n",
       "#sk-container-id-1 div.sk-toggleable__content.fitted pre {\n",
       "  /* unfitted */\n",
       "  background-color: var(--sklearn-color-fitted-level-0);\n",
       "}\n",
       "\n",
       "#sk-container-id-1 input.sk-toggleable__control:checked~div.sk-toggleable__content {\n",
       "  /* Expand drop-down */\n",
       "  max-height: 200px;\n",
       "  max-width: 100%;\n",
       "  overflow: auto;\n",
       "}\n",
       "\n",
       "#sk-container-id-1 input.sk-toggleable__control:checked~label.sk-toggleable__label-arrow:before {\n",
       "  content: \"▾\";\n",
       "}\n",
       "\n",
       "/* Pipeline/ColumnTransformer-specific style */\n",
       "\n",
       "#sk-container-id-1 div.sk-label input.sk-toggleable__control:checked~label.sk-toggleable__label {\n",
       "  color: var(--sklearn-color-text);\n",
       "  background-color: var(--sklearn-color-unfitted-level-2);\n",
       "}\n",
       "\n",
       "#sk-container-id-1 div.sk-label.fitted input.sk-toggleable__control:checked~label.sk-toggleable__label {\n",
       "  background-color: var(--sklearn-color-fitted-level-2);\n",
       "}\n",
       "\n",
       "/* Estimator-specific style */\n",
       "\n",
       "/* Colorize estimator box */\n",
       "#sk-container-id-1 div.sk-estimator input.sk-toggleable__control:checked~label.sk-toggleable__label {\n",
       "  /* unfitted */\n",
       "  background-color: var(--sklearn-color-unfitted-level-2);\n",
       "}\n",
       "\n",
       "#sk-container-id-1 div.sk-estimator.fitted input.sk-toggleable__control:checked~label.sk-toggleable__label {\n",
       "  /* fitted */\n",
       "  background-color: var(--sklearn-color-fitted-level-2);\n",
       "}\n",
       "\n",
       "#sk-container-id-1 div.sk-label label.sk-toggleable__label,\n",
       "#sk-container-id-1 div.sk-label label {\n",
       "  /* The background is the default theme color */\n",
       "  color: var(--sklearn-color-text-on-default-background);\n",
       "}\n",
       "\n",
       "/* On hover, darken the color of the background */\n",
       "#sk-container-id-1 div.sk-label:hover label.sk-toggleable__label {\n",
       "  color: var(--sklearn-color-text);\n",
       "  background-color: var(--sklearn-color-unfitted-level-2);\n",
       "}\n",
       "\n",
       "/* Label box, darken color on hover, fitted */\n",
       "#sk-container-id-1 div.sk-label.fitted:hover label.sk-toggleable__label.fitted {\n",
       "  color: var(--sklearn-color-text);\n",
       "  background-color: var(--sklearn-color-fitted-level-2);\n",
       "}\n",
       "\n",
       "/* Estimator label */\n",
       "\n",
       "#sk-container-id-1 div.sk-label label {\n",
       "  font-family: monospace;\n",
       "  font-weight: bold;\n",
       "  display: inline-block;\n",
       "  line-height: 1.2em;\n",
       "}\n",
       "\n",
       "#sk-container-id-1 div.sk-label-container {\n",
       "  text-align: center;\n",
       "}\n",
       "\n",
       "/* Estimator-specific */\n",
       "#sk-container-id-1 div.sk-estimator {\n",
       "  font-family: monospace;\n",
       "  border: 1px dotted var(--sklearn-color-border-box);\n",
       "  border-radius: 0.25em;\n",
       "  box-sizing: border-box;\n",
       "  margin-bottom: 0.5em;\n",
       "  /* unfitted */\n",
       "  background-color: var(--sklearn-color-unfitted-level-0);\n",
       "}\n",
       "\n",
       "#sk-container-id-1 div.sk-estimator.fitted {\n",
       "  /* fitted */\n",
       "  background-color: var(--sklearn-color-fitted-level-0);\n",
       "}\n",
       "\n",
       "/* on hover */\n",
       "#sk-container-id-1 div.sk-estimator:hover {\n",
       "  /* unfitted */\n",
       "  background-color: var(--sklearn-color-unfitted-level-2);\n",
       "}\n",
       "\n",
       "#sk-container-id-1 div.sk-estimator.fitted:hover {\n",
       "  /* fitted */\n",
       "  background-color: var(--sklearn-color-fitted-level-2);\n",
       "}\n",
       "\n",
       "/* Specification for estimator info (e.g. \"i\" and \"?\") */\n",
       "\n",
       "/* Common style for \"i\" and \"?\" */\n",
       "\n",
       ".sk-estimator-doc-link,\n",
       "a:link.sk-estimator-doc-link,\n",
       "a:visited.sk-estimator-doc-link {\n",
       "  float: right;\n",
       "  font-size: smaller;\n",
       "  line-height: 1em;\n",
       "  font-family: monospace;\n",
       "  background-color: var(--sklearn-color-background);\n",
       "  border-radius: 1em;\n",
       "  height: 1em;\n",
       "  width: 1em;\n",
       "  text-decoration: none !important;\n",
       "  margin-left: 1ex;\n",
       "  /* unfitted */\n",
       "  border: var(--sklearn-color-unfitted-level-1) 1pt solid;\n",
       "  color: var(--sklearn-color-unfitted-level-1);\n",
       "}\n",
       "\n",
       ".sk-estimator-doc-link.fitted,\n",
       "a:link.sk-estimator-doc-link.fitted,\n",
       "a:visited.sk-estimator-doc-link.fitted {\n",
       "  /* fitted */\n",
       "  border: var(--sklearn-color-fitted-level-1) 1pt solid;\n",
       "  color: var(--sklearn-color-fitted-level-1);\n",
       "}\n",
       "\n",
       "/* On hover */\n",
       "div.sk-estimator:hover .sk-estimator-doc-link:hover,\n",
       ".sk-estimator-doc-link:hover,\n",
       "div.sk-label-container:hover .sk-estimator-doc-link:hover,\n",
       ".sk-estimator-doc-link:hover {\n",
       "  /* unfitted */\n",
       "  background-color: var(--sklearn-color-unfitted-level-3);\n",
       "  color: var(--sklearn-color-background);\n",
       "  text-decoration: none;\n",
       "}\n",
       "\n",
       "div.sk-estimator.fitted:hover .sk-estimator-doc-link.fitted:hover,\n",
       ".sk-estimator-doc-link.fitted:hover,\n",
       "div.sk-label-container:hover .sk-estimator-doc-link.fitted:hover,\n",
       ".sk-estimator-doc-link.fitted:hover {\n",
       "  /* fitted */\n",
       "  background-color: var(--sklearn-color-fitted-level-3);\n",
       "  color: var(--sklearn-color-background);\n",
       "  text-decoration: none;\n",
       "}\n",
       "\n",
       "/* Span, style for the box shown on hovering the info icon */\n",
       ".sk-estimator-doc-link span {\n",
       "  display: none;\n",
       "  z-index: 9999;\n",
       "  position: relative;\n",
       "  font-weight: normal;\n",
       "  right: .2ex;\n",
       "  padding: .5ex;\n",
       "  margin: .5ex;\n",
       "  width: min-content;\n",
       "  min-width: 20ex;\n",
       "  max-width: 50ex;\n",
       "  color: var(--sklearn-color-text);\n",
       "  box-shadow: 2pt 2pt 4pt #999;\n",
       "  /* unfitted */\n",
       "  background: var(--sklearn-color-unfitted-level-0);\n",
       "  border: .5pt solid var(--sklearn-color-unfitted-level-3);\n",
       "}\n",
       "\n",
       ".sk-estimator-doc-link.fitted span {\n",
       "  /* fitted */\n",
       "  background: var(--sklearn-color-fitted-level-0);\n",
       "  border: var(--sklearn-color-fitted-level-3);\n",
       "}\n",
       "\n",
       ".sk-estimator-doc-link:hover span {\n",
       "  display: block;\n",
       "}\n",
       "\n",
       "/* \"?\"-specific style due to the `<a>` HTML tag */\n",
       "\n",
       "#sk-container-id-1 a.estimator_doc_link {\n",
       "  float: right;\n",
       "  font-size: 1rem;\n",
       "  line-height: 1em;\n",
       "  font-family: monospace;\n",
       "  background-color: var(--sklearn-color-background);\n",
       "  border-radius: 1rem;\n",
       "  height: 1rem;\n",
       "  width: 1rem;\n",
       "  text-decoration: none;\n",
       "  /* unfitted */\n",
       "  color: var(--sklearn-color-unfitted-level-1);\n",
       "  border: var(--sklearn-color-unfitted-level-1) 1pt solid;\n",
       "}\n",
       "\n",
       "#sk-container-id-1 a.estimator_doc_link.fitted {\n",
       "  /* fitted */\n",
       "  border: var(--sklearn-color-fitted-level-1) 1pt solid;\n",
       "  color: var(--sklearn-color-fitted-level-1);\n",
       "}\n",
       "\n",
       "/* On hover */\n",
       "#sk-container-id-1 a.estimator_doc_link:hover {\n",
       "  /* unfitted */\n",
       "  background-color: var(--sklearn-color-unfitted-level-3);\n",
       "  color: var(--sklearn-color-background);\n",
       "  text-decoration: none;\n",
       "}\n",
       "\n",
       "#sk-container-id-1 a.estimator_doc_link.fitted:hover {\n",
       "  /* fitted */\n",
       "  background-color: var(--sklearn-color-fitted-level-3);\n",
       "}\n",
       "</style><div id=\"sk-container-id-1\" class=\"sk-top-container\"><div class=\"sk-text-repr-fallback\"><pre>StandardScaler()</pre><b>In a Jupyter environment, please rerun this cell to show the HTML representation or trust the notebook. <br />On GitHub, the HTML representation is unable to render, please try loading this page with nbviewer.org.</b></div><div class=\"sk-container\" hidden><div class=\"sk-item\"><div class=\"sk-estimator fitted sk-toggleable\"><input class=\"sk-toggleable__control sk-hidden--visually\" id=\"sk-estimator-id-1\" type=\"checkbox\" checked><label for=\"sk-estimator-id-1\" class=\"sk-toggleable__label fitted sk-toggleable__label-arrow fitted\">&nbsp;&nbsp;StandardScaler<a class=\"sk-estimator-doc-link fitted\" rel=\"noreferrer\" target=\"_blank\" href=\"https://scikit-learn.org/1.4/modules/generated/sklearn.preprocessing.StandardScaler.html\">?<span>Documentation for StandardScaler</span></a><span class=\"sk-estimator-doc-link fitted\">i<span>Fitted</span></span></label><div class=\"sk-toggleable__content fitted\"><pre>StandardScaler()</pre></div> </div></div></div></div>"
      ]
     },
     "execution_count": 13,
     "metadata": {},
     "output_type": "execute_result"
    }
   ],
   "execution_count": 13
  },
  {
   "metadata": {
    "ExecuteTime": {
     "end_time": "2024-06-12T17:15:56.353919Z",
     "start_time": "2024-06-12T17:15:56.340397Z"
    }
   },
   "cell_type": "code",
   "source": [
    "x_train_scaler = scaler.transform(train)\n",
    "x_test_scaler = scaler.transform(test)"
   ],
   "id": "c1d98415322a3d32",
   "outputs": [],
   "execution_count": 14
  },
  {
   "metadata": {
    "ExecuteTime": {
     "end_time": "2024-06-12T17:15:56.370517Z",
     "start_time": "2024-06-12T17:15:56.355428Z"
    }
   },
   "cell_type": "code",
   "source": [
    "x_train_norm: pd.DataFrame = norm_data(train)\n",
    "x_test_norm: pd.DataFrame = norm_data(test)"
   ],
   "id": "433736895c18e37c",
   "outputs": [],
   "execution_count": 15
  },
  {
   "metadata": {
    "ExecuteTime": {
     "end_time": "2024-06-12T17:15:56.386499Z",
     "start_time": "2024-06-12T17:15:56.371464Z"
    }
   },
   "cell_type": "code",
   "source": "x_train_scaler",
   "id": "2d83fb7b0abf298e",
   "outputs": [
    {
     "data": {
      "text/plain": [
       "array([[ 0.24941899,  0.04644368, -0.12928453],\n",
       "       [ 0.24941899, -1.11089493, -0.95804148],\n",
       "       [-0.14080371,  0.50937912, -0.12928453],\n",
       "       ...,\n",
       "       [ 1.32253143, -2.03676582,  1.26757195],\n",
       "       [ 0.83475305, -0.87942721, -0.12928453],\n",
       "       [ 0.83475305, -0.18502404, -0.12928453]])"
      ]
     },
     "execution_count": 16,
     "metadata": {},
     "output_type": "execute_result"
    }
   ],
   "execution_count": 16
  },
  {
   "metadata": {
    "ExecuteTime": {
     "end_time": "2024-06-12T17:15:56.402620Z",
     "start_time": "2024-06-12T17:15:56.387501Z"
    }
   },
   "cell_type": "code",
   "source": [
    "x_train_norm = x_train_norm.to_numpy()\n",
    "x_test_norm = x_test_norm.to_numpy()"
   ],
   "id": "2eecd25ced38fc0",
   "outputs": [],
   "execution_count": 17
  },
  {
   "metadata": {
    "ExecuteTime": {
     "end_time": "2024-06-12T17:15:56.417669Z",
     "start_time": "2024-06-12T17:15:56.403620Z"
    }
   },
   "cell_type": "code",
   "source": "type(x_train_norm)",
   "id": "e1a80adde97ece85",
   "outputs": [
    {
     "data": {
      "text/plain": [
       "numpy.ndarray"
      ]
     },
     "execution_count": 18,
     "metadata": {},
     "output_type": "execute_result"
    }
   ],
   "execution_count": 18
  },
  {
   "metadata": {
    "ExecuteTime": {
     "end_time": "2024-06-12T17:15:56.433025Z",
     "start_time": "2024-06-12T17:15:56.419677Z"
    }
   },
   "cell_type": "code",
   "source": "x_train_norm",
   "id": "ab2c2c8230f435ab",
   "outputs": [
    {
     "data": {
      "text/plain": [
       "array([[ 0.24315722,  0.04980947, -0.12639499],\n",
       "       [ 0.24315722, -1.10081791, -0.95460728],\n",
       "       [-0.14411218,  0.51006043, -0.12639499],\n",
       "       ...,\n",
       "       [ 1.30814806, -2.02131982,  1.26954347],\n",
       "       [ 0.82406131, -0.87069243, -0.12639499],\n",
       "       [ 0.82406131, -0.180316  , -0.12639499]])"
      ]
     },
     "execution_count": 19,
     "metadata": {},
     "output_type": "execute_result"
    }
   ],
   "execution_count": 19
  },
  {
   "metadata": {
    "ExecuteTime": {
     "end_time": "2024-06-12T17:15:56.448076Z",
     "start_time": "2024-06-12T17:15:56.434024Z"
    }
   },
   "cell_type": "code",
   "source": [
    "print(\"Shape of x_train before reshaping:\", x_train_norm.shape)\n",
    "print(\"Shape of x_test before reshaping:\", x_test_norm.shape)\n",
    "\n",
    "# Reshape the data to be 3D for LSTM input\n",
    "x_train_norm = x_train_norm.reshape((x_train_norm.shape[0], 1, x_train_norm.shape[1]))\n",
    "x_test_norm = x_test_norm.reshape((x_test_norm.shape[0], 1, x_test_norm.shape[1]))\n",
    "\n",
    "# Check the shape after reshaping\n",
    "print(\"Shape of x_train after reshaping:\", x_train_norm.shape)\n",
    "print(\"Shape of x_test after reshaping:\", x_test_norm.shape)\n"
   ],
   "id": "c9ec0aab05c8a57d",
   "outputs": [
    {
     "name": "stdout",
     "output_type": "stream",
     "text": [
      "Shape of x_train before reshaping: (7092, 3)\n",
      "Shape of x_test before reshaping: (1774, 3)\n",
      "Shape of x_train after reshaping: (7092, 1, 3)\n",
      "Shape of x_test after reshaping: (1774, 1, 3)\n"
     ]
    }
   ],
   "execution_count": 20
  },
  {
   "metadata": {
    "ExecuteTime": {
     "end_time": "2024-06-12T17:15:56.463609Z",
     "start_time": "2024-06-12T17:15:56.450075Z"
    }
   },
   "cell_type": "code",
   "source": [
    "inputs = Input(shape=(x_train_norm.shape[1], x_train_norm.shape[2]))\n",
    "bc = tf.keras.losses.BinaryCrossentropy()\n",
    "opt = tf.keras.optimizers.SGD(learning_rate=.0001, momentum=.9)"
   ],
   "id": "442aaac6ee713e14",
   "outputs": [],
   "execution_count": 21
  },
  {
   "metadata": {},
   "cell_type": "markdown",
   "source": "# Siamese neural network",
   "id": "b274ed32d7e4f729"
  },
  {
   "metadata": {
    "ExecuteTime": {
     "end_time": "2024-06-12T17:15:56.479162Z",
     "start_time": "2024-06-12T17:15:56.464611Z"
    }
   },
   "cell_type": "code",
   "source": [
    "def base_model(input_layer):\n",
    "    x = Conv1D(32, 5, 1, 'causal', activation='relu')(input_layer)\n",
    "    x = LSTM(64, return_sequences=True)(x)\n",
    "    x = LSTM(64, return_sequences=True)(x)\n",
    "    x = Flatten()(x)\n",
    "    x = Dense(64, activation='relu')(x)\n",
    "    return x\n",
    "    "
   ],
   "id": "7aacfcca24562f7f",
   "outputs": [],
   "execution_count": 22
  },
  {
   "metadata": {
    "ExecuteTime": {
     "end_time": "2024-06-12T17:15:56.494703Z",
     "start_time": "2024-06-12T17:15:56.480162Z"
    }
   },
   "cell_type": "code",
   "source": [
    "def final_model(input_layer):\n",
    "    x = base_model(input_layer)\n",
    "    fan_output = Dense(1, activation='sigmoid', name='fan_output')(x)\n",
    "    led_output = Dense(1, activation='sigmoid', name='led_output')(x)   \n",
    "    humid = Dense(1, activation='sigmoid', name='humid_output')(x)\n",
    "    return tf.keras.Model(inputs=input_layer, outputs=[fan_output, led_output, humid])"
   ],
   "id": "f89e572867fcd4bc",
   "outputs": [],
   "execution_count": 23
  },
  {
   "metadata": {
    "ExecuteTime": {
     "end_time": "2024-06-12T17:15:59.213937Z",
     "start_time": "2024-06-12T17:15:56.496194Z"
    }
   },
   "cell_type": "code",
   "source": [
    "model = final_model(inputs)\n",
    "model.compile(\n",
    "    loss= {\n",
    "        'fan_output': bc, \n",
    "        'led_output': bc, \n",
    "        'humid_output': bc, \n",
    "    },\n",
    "    optimizer=opt,\n",
    "    metrics={\n",
    "        'fan_output': 'accuracy', \n",
    "        'led_output': 'accuracy', \n",
    "        'humid_output': 'accuracy',\n",
    "    }\n",
    ")"
   ],
   "id": "318437a5447110fd",
   "outputs": [],
   "execution_count": 24
  },
  {
   "metadata": {
    "ExecuteTime": {
     "end_time": "2024-06-12T17:15:59.415576Z",
     "start_time": "2024-06-12T17:15:59.215443Z"
    }
   },
   "cell_type": "code",
   "source": "tf.keras.utils.plot_model(model, show_shapes=True)",
   "id": "f0730a34e3bf28b0",
   "outputs": [
    {
     "data": {
      "image/png": "[encoded data removed]",
      "text/plain": [
       "<IPython.core.display.Image object>"
      ]
     },
     "execution_count": 25,
     "metadata": {},
     "output_type": "execute_result"
    }
   ],
   "execution_count": 25
  },
  {
   "metadata": {
    "ExecuteTime": {
     "end_time": "2024-06-12T17:17:20.368823Z",
     "start_time": "2024-06-12T17:15:59.417097Z"
    }
   },
   "cell_type": "code",
   "source": [
    "H = model.fit(\n",
    "    x=x_train_norm,\n",
    "    y=train_label,\n",
    "    epochs=25,\n",
    "    # validation_data=(x_test, test_label),\n",
    "    validation_split=.2,\n",
    "    verbose=2\n",
    ")"
   ],
   "id": "2a35867326a92bd",
   "outputs": [
    {
     "name": "stdout",
     "output_type": "stream",
     "text": [
      "Epoch 1/25\n",
      "178/178 - 9s - loss: 2.0354 - fan_output_loss: 0.6661 - led_output_loss: 0.6861 - humid_output_loss: 0.6832 - fan_output_accuracy: 0.9815 - led_output_accuracy: 0.7485 - humid_output_accuracy: 0.7998 - val_loss: 1.9841 - val_fan_output_loss: 0.6348 - val_led_output_loss: 0.6784 - val_humid_output_loss: 0.6709 - val_fan_output_accuracy: 0.9958 - val_led_output_accuracy: 0.7717 - val_humid_output_accuracy: 0.8217 - 9s/epoch - 51ms/step\n",
      "Epoch 2/25\n",
      "178/178 - 3s - loss: 1.9336 - fan_output_loss: 0.6036 - led_output_loss: 0.6711 - humid_output_loss: 0.6589 - fan_output_accuracy: 0.9958 - led_output_accuracy: 0.7671 - humid_output_accuracy: 0.8257 - val_loss: 1.8838 - val_fan_output_loss: 0.5729 - val_led_output_loss: 0.6630 - val_humid_output_loss: 0.6479 - val_fan_output_accuracy: 0.9958 - val_led_output_accuracy: 0.7717 - val_humid_output_accuracy: 0.8217 - 3s/epoch - 16ms/step\n",
      "Epoch 3/25\n",
      "178/178 - 3s - loss: 1.8383 - fan_output_loss: 0.5451 - led_output_loss: 0.6565 - humid_output_loss: 0.6368 - fan_output_accuracy: 0.9958 - led_output_accuracy: 0.7671 - humid_output_accuracy: 0.8257 - val_loss: 1.7937 - val_fan_output_loss: 0.5179 - val_led_output_loss: 0.6486 - val_humid_output_loss: 0.6272 - val_fan_output_accuracy: 0.9958 - val_led_output_accuracy: 0.7717 - val_humid_output_accuracy: 0.8217 - 3s/epoch - 18ms/step\n",
      "Epoch 4/25\n",
      "178/178 - 3s - loss: 1.7531 - fan_output_loss: 0.4933 - led_output_loss: 0.6431 - humid_output_loss: 0.6167 - fan_output_accuracy: 0.9958 - led_output_accuracy: 0.7671 - humid_output_accuracy: 0.8257 - val_loss: 1.7130 - val_fan_output_loss: 0.4691 - val_led_output_loss: 0.6358 - val_humid_output_loss: 0.6082 - val_fan_output_accuracy: 0.9958 - val_led_output_accuracy: 0.7717 - val_humid_output_accuracy: 0.8217 - 3s/epoch - 16ms/step\n",
      "Epoch 5/25\n",
      "178/178 - 3s - loss: 1.6762 - fan_output_loss: 0.4470 - led_output_loss: 0.6309 - humid_output_loss: 0.5983 - fan_output_accuracy: 0.9958 - led_output_accuracy: 0.7671 - humid_output_accuracy: 0.8257 - val_loss: 1.6401 - val_fan_output_loss: 0.4253 - val_led_output_loss: 0.6237 - val_humid_output_loss: 0.5911 - val_fan_output_accuracy: 0.9958 - val_led_output_accuracy: 0.7717 - val_humid_output_accuracy: 0.8217 - 3s/epoch - 15ms/step\n",
      "Epoch 6/25\n",
      "178/178 - 3s - loss: 1.6069 - fan_output_loss: 0.4056 - led_output_loss: 0.6197 - humid_output_loss: 0.5816 - fan_output_accuracy: 0.9958 - led_output_accuracy: 0.7671 - humid_output_accuracy: 0.8257 - val_loss: 1.5741 - val_fan_output_loss: 0.3861 - val_led_output_loss: 0.6128 - val_humid_output_loss: 0.5753 - val_fan_output_accuracy: 0.9958 - val_led_output_accuracy: 0.7717 - val_humid_output_accuracy: 0.8217 - 3s/epoch - 16ms/step\n",
      "Epoch 7/25\n",
      "178/178 - 3s - loss: 1.5440 - fan_output_loss: 0.3682 - led_output_loss: 0.6094 - humid_output_loss: 0.5664 - fan_output_accuracy: 0.9958 - led_output_accuracy: 0.7671 - humid_output_accuracy: 0.8257 - val_loss: 1.5144 - val_fan_output_loss: 0.3507 - val_led_output_loss: 0.6027 - val_humid_output_loss: 0.5611 - val_fan_output_accuracy: 0.9958 - val_led_output_accuracy: 0.7717 - val_humid_output_accuracy: 0.8217 - 3s/epoch - 19ms/step\n",
      "Epoch 8/25\n",
      "178/178 - 3s - loss: 1.4870 - fan_output_loss: 0.3346 - led_output_loss: 0.6000 - humid_output_loss: 0.5524 - fan_output_accuracy: 0.9958 - led_output_accuracy: 0.7671 - humid_output_accuracy: 0.8257 - val_loss: 1.4604 - val_fan_output_loss: 0.3188 - val_led_output_loss: 0.5936 - val_humid_output_loss: 0.5480 - val_fan_output_accuracy: 0.9958 - val_led_output_accuracy: 0.7717 - val_humid_output_accuracy: 0.8217 - 3s/epoch - 17ms/step\n",
      "Epoch 9/25\n",
      "178/178 - 3s - loss: 1.4356 - fan_output_loss: 0.3044 - led_output_loss: 0.5915 - humid_output_loss: 0.5397 - fan_output_accuracy: 0.9958 - led_output_accuracy: 0.7671 - humid_output_accuracy: 0.8257 - val_loss: 1.4116 - val_fan_output_loss: 0.2901 - val_led_output_loss: 0.5852 - val_humid_output_loss: 0.5363 - val_fan_output_accuracy: 0.9958 - val_led_output_accuracy: 0.7717 - val_humid_output_accuracy: 0.8217 - 3s/epoch - 19ms/step\n",
      "Epoch 10/25\n",
      "178/178 - 3s - loss: 1.3894 - fan_output_loss: 0.2771 - led_output_loss: 0.5839 - humid_output_loss: 0.5283 - fan_output_accuracy: 0.9958 - led_output_accuracy: 0.7671 - humid_output_accuracy: 0.8257 - val_loss: 1.3680 - val_fan_output_loss: 0.2644 - val_led_output_loss: 0.5778 - val_humid_output_loss: 0.5259 - val_fan_output_accuracy: 0.9958 - val_led_output_accuracy: 0.7717 - val_humid_output_accuracy: 0.8217 - 3s/epoch - 19ms/step\n",
      "Epoch 11/25\n",
      "178/178 - 3s - loss: 1.3482 - fan_output_loss: 0.2528 - led_output_loss: 0.5772 - humid_output_loss: 0.5183 - fan_output_accuracy: 0.9958 - led_output_accuracy: 0.7671 - humid_output_accuracy: 0.8257 - val_loss: 1.3293 - val_fan_output_loss: 0.2413 - val_led_output_loss: 0.5713 - val_humid_output_loss: 0.5167 - val_fan_output_accuracy: 0.9958 - val_led_output_accuracy: 0.7717 - val_humid_output_accuracy: 0.8217 - 3s/epoch - 17ms/step\n",
      "Epoch 12/25\n",
      "178/178 - 3s - loss: 1.3115 - fan_output_loss: 0.2309 - led_output_loss: 0.5712 - humid_output_loss: 0.5094 - fan_output_accuracy: 0.9958 - led_output_accuracy: 0.7671 - humid_output_accuracy: 0.8257 - val_loss: 1.2947 - val_fan_output_loss: 0.2207 - val_led_output_loss: 0.5655 - val_humid_output_loss: 0.5086 - val_fan_output_accuracy: 0.9958 - val_led_output_accuracy: 0.7717 - val_humid_output_accuracy: 0.8217 - 3s/epoch - 17ms/step\n",
      "Epoch 13/25\n",
      "178/178 - 3s - loss: 1.2791 - fan_output_loss: 0.2114 - led_output_loss: 0.5661 - humid_output_loss: 0.5016 - fan_output_accuracy: 0.9958 - led_output_accuracy: 0.7671 - humid_output_accuracy: 0.8257 - val_loss: 1.2644 - val_fan_output_loss: 0.2023 - val_led_output_loss: 0.5605 - val_humid_output_loss: 0.5016 - val_fan_output_accuracy: 0.9958 - val_led_output_accuracy: 0.7717 - val_humid_output_accuracy: 0.8217 - 3s/epoch - 17ms/step\n",
      "Epoch 14/25\n",
      "178/178 - 3s - loss: 1.2506 - fan_output_loss: 0.1940 - led_output_loss: 0.5617 - humid_output_loss: 0.4949 - fan_output_accuracy: 0.9958 - led_output_accuracy: 0.7671 - humid_output_accuracy: 0.8257 - val_loss: 1.2378 - val_fan_output_loss: 0.1859 - val_led_output_loss: 0.5562 - val_humid_output_loss: 0.4956 - val_fan_output_accuracy: 0.9958 - val_led_output_accuracy: 0.7717 - val_humid_output_accuracy: 0.8217 - 3s/epoch - 17ms/step\n",
      "Epoch 15/25\n",
      "178/178 - 3s - loss: 1.2256 - fan_output_loss: 0.1786 - led_output_loss: 0.5579 - humid_output_loss: 0.4892 - fan_output_accuracy: 0.9958 - led_output_accuracy: 0.7671 - humid_output_accuracy: 0.8257 - val_loss: 1.2144 - val_fan_output_loss: 0.1714 - val_led_output_loss: 0.5524 - val_humid_output_loss: 0.4906 - val_fan_output_accuracy: 0.9958 - val_led_output_accuracy: 0.7717 - val_humid_output_accuracy: 0.8217 - 3s/epoch - 16ms/step\n",
      "Epoch 16/25\n",
      "178/178 - 3s - loss: 1.2038 - fan_output_loss: 0.1648 - led_output_loss: 0.5547 - humid_output_loss: 0.4843 - fan_output_accuracy: 0.9958 - led_output_accuracy: 0.7671 - humid_output_accuracy: 0.8257 - val_loss: 1.1942 - val_fan_output_loss: 0.1584 - val_led_output_loss: 0.5495 - val_humid_output_loss: 0.4863 - val_fan_output_accuracy: 0.9958 - val_led_output_accuracy: 0.7717 - val_humid_output_accuracy: 0.8217 - 3s/epoch - 16ms/step\n",
      "Epoch 17/25\n",
      "178/178 - 3s - loss: 1.1849 - fan_output_loss: 0.1526 - led_output_loss: 0.5521 - humid_output_loss: 0.4801 - fan_output_accuracy: 0.9958 - led_output_accuracy: 0.7671 - humid_output_accuracy: 0.8257 - val_loss: 1.1766 - val_fan_output_loss: 0.1469 - val_led_output_loss: 0.5470 - val_humid_output_loss: 0.4827 - val_fan_output_accuracy: 0.9958 - val_led_output_accuracy: 0.7717 - val_humid_output_accuracy: 0.8217 - 3s/epoch - 16ms/step\n",
      "Epoch 18/25\n",
      "178/178 - 3s - loss: 1.1685 - fan_output_loss: 0.1418 - led_output_loss: 0.5500 - humid_output_loss: 0.4767 - fan_output_accuracy: 0.9958 - led_output_accuracy: 0.7671 - humid_output_accuracy: 0.8257 - val_loss: 1.1614 - val_fan_output_loss: 0.1367 - val_led_output_loss: 0.5448 - val_humid_output_loss: 0.4798 - val_fan_output_accuracy: 0.9958 - val_led_output_accuracy: 0.7717 - val_humid_output_accuracy: 0.8217 - 3s/epoch - 16ms/step\n",
      "Epoch 19/25\n",
      "178/178 - 3s - loss: 1.1542 - fan_output_loss: 0.1321 - led_output_loss: 0.5482 - humid_output_loss: 0.4739 - fan_output_accuracy: 0.9958 - led_output_accuracy: 0.7671 - humid_output_accuracy: 0.8257 - val_loss: 1.1481 - val_fan_output_loss: 0.1276 - val_led_output_loss: 0.5431 - val_humid_output_loss: 0.4774 - val_fan_output_accuracy: 0.9958 - val_led_output_accuracy: 0.7717 - val_humid_output_accuracy: 0.8217 - 3s/epoch - 17ms/step\n",
      "Epoch 20/25\n",
      "178/178 - 3s - loss: 1.1419 - fan_output_loss: 0.1235 - led_output_loss: 0.5468 - humid_output_loss: 0.4716 - fan_output_accuracy: 0.9958 - led_output_accuracy: 0.7671 - humid_output_accuracy: 0.8257 - val_loss: 1.1367 - val_fan_output_loss: 0.1195 - val_led_output_loss: 0.5417 - val_humid_output_loss: 0.4755 - val_fan_output_accuracy: 0.9958 - val_led_output_accuracy: 0.7717 - val_humid_output_accuracy: 0.8217 - 3s/epoch - 17ms/step\n",
      "Epoch 21/25\n",
      "178/178 - 3s - loss: 1.1313 - fan_output_loss: 0.1159 - led_output_loss: 0.5456 - humid_output_loss: 0.4698 - fan_output_accuracy: 0.9958 - led_output_accuracy: 0.7671 - humid_output_accuracy: 0.8257 - val_loss: 1.1268 - val_fan_output_loss: 0.1123 - val_led_output_loss: 0.5406 - val_humid_output_loss: 0.4739 - val_fan_output_accuracy: 0.9958 - val_led_output_accuracy: 0.7717 - val_humid_output_accuracy: 0.8217 - 3s/epoch - 17ms/step\n",
      "Epoch 22/25\n",
      "178/178 - 3s - loss: 1.1220 - fan_output_loss: 0.1090 - led_output_loss: 0.5447 - humid_output_loss: 0.4682 - fan_output_accuracy: 0.9958 - led_output_accuracy: 0.7671 - humid_output_accuracy: 0.8257 - val_loss: 1.1182 - val_fan_output_loss: 0.1058 - val_led_output_loss: 0.5397 - val_humid_output_loss: 0.4727 - val_fan_output_accuracy: 0.9958 - val_led_output_accuracy: 0.7717 - val_humid_output_accuracy: 0.8217 - 3s/epoch - 16ms/step\n",
      "Epoch 23/25\n",
      "178/178 - 3s - loss: 1.1139 - fan_output_loss: 0.1029 - led_output_loss: 0.5440 - humid_output_loss: 0.4670 - fan_output_accuracy: 0.9958 - led_output_accuracy: 0.7671 - humid_output_accuracy: 0.8257 - val_loss: 1.1107 - val_fan_output_loss: 0.1000 - val_led_output_loss: 0.5390 - val_humid_output_loss: 0.4717 - val_fan_output_accuracy: 0.9958 - val_led_output_accuracy: 0.7717 - val_humid_output_accuracy: 0.8217 - 3s/epoch - 17ms/step\n",
      "Epoch 24/25\n",
      "178/178 - 3s - loss: 1.1069 - fan_output_loss: 0.0974 - led_output_loss: 0.5435 - humid_output_loss: 0.4660 - fan_output_accuracy: 0.9958 - led_output_accuracy: 0.7671 - humid_output_accuracy: 0.8257 - val_loss: 1.1041 - val_fan_output_loss: 0.0948 - val_led_output_loss: 0.5384 - val_humid_output_loss: 0.4709 - val_fan_output_accuracy: 0.9958 - val_led_output_accuracy: 0.7717 - val_humid_output_accuracy: 0.8217 - 3s/epoch - 16ms/step\n",
      "Epoch 25/25\n",
      "178/178 - 3s - loss: 1.1007 - fan_output_loss: 0.0925 - led_output_loss: 0.5431 - humid_output_loss: 0.4652 - fan_output_accuracy: 0.9958 - led_output_accuracy: 0.7671 - humid_output_accuracy: 0.8257 - val_loss: 1.0984 - val_fan_output_loss: 0.0902 - val_led_output_loss: 0.5380 - val_humid_output_loss: 0.4703 - val_fan_output_accuracy: 0.9958 - val_led_output_accuracy: 0.7717 - val_humid_output_accuracy: 0.8217 - 3s/epoch - 16ms/step\n"
     ]
    }
   ],
   "execution_count": 26
  },
  {
   "metadata": {
    "ExecuteTime": {
     "end_time": "2024-06-12T17:17:22.237973Z",
     "start_time": "2024-06-12T17:17:21.588584Z"
    }
   },
   "cell_type": "code",
   "source": "loss, fan_loss, led_loss, humid_loss, fan_acc, led_acc, humid_acc = model.evaluate(x_test_norm, test_label)  ",
   "id": "4725c106ee8966c9",
   "outputs": [
    {
     "name": "stdout",
     "output_type": "stream",
     "text": [
      "56/56 [==============================] - 1s 10ms/step - loss: 1.1285 - fan_output_loss: 0.0979 - led_output_loss: 0.5551 - humid_output_loss: 0.4755 - fan_output_accuracy: 0.9927 - led_output_accuracy: 0.7559 - humid_output_accuracy: 0.8179\n"
     ]
    }
   ],
   "execution_count": 28
  },
  {
   "metadata": {
    "ExecuteTime": {
     "end_time": "2024-06-12T17:17:22.253494Z",
     "start_time": "2024-06-12T17:17:22.239970Z"
    }
   },
   "cell_type": "code",
   "source": [
    "print(\n",
    "    f\"fan loss : {fan_loss * 100 :.2f}\",\n",
    "    f\"led loss : {led_loss * 100 :.2f}\",\n",
    "    f\"humid loss : {humid_loss * 100 :.2f} \\n\",\n",
    "    f\"total loss : {loss * 100 :.2f} \\n\",\n",
    "    f\"fan accuracy : {fan_acc * 100 :.2f}\",\n",
    "    f\"led accuracy : {led_acc * 100 :.2f}\",\n",
    "    f\"humid accuracy : {humid_acc * 100 :.2f}\",\n",
    "    sep='\\n'\n",
    ")"
   ],
   "id": "4d0fd476e3fcfdc",
   "outputs": [
    {
     "name": "stdout",
     "output_type": "stream",
     "text": [
      "fan loss : 9.79\n",
      "led loss : 55.51\n",
      "humid loss : 47.55 \n",
      "\n",
      "total loss : 112.85 \n",
      "\n",
      "fan accuracy : 99.27\n",
      "led accuracy : 75.59\n",
      "humid accuracy : 81.79\n"
     ]
    }
   ],
   "execution_count": 29
  },
  {
   "metadata": {
    "ExecuteTime": {
     "end_time": "2024-06-12T17:17:22.723781Z",
     "start_time": "2024-06-12T17:17:22.256561Z"
    }
   },
   "cell_type": "code",
   "source": "predictions_norm = model.predict(x_test_norm)",
   "id": "7d750afd297bfacc",
   "outputs": [
    {
     "name": "stdout",
     "output_type": "stream",
     "text": [
      "56/56 [==============================] - 0s 6ms/step\n"
     ]
    }
   ],
   "execution_count": 30
  },
  {
   "metadata": {
    "ExecuteTime": {
     "end_time": "2024-06-12T17:17:22.739536Z",
     "start_time": "2024-06-12T17:17:22.724784Z"
    }
   },
   "cell_type": "code",
   "source": "len(test_label[0]) == len(predictions_norm[0]) ",
   "id": "6417bd8b40eecb63",
   "outputs": [
    {
     "data": {
      "text/plain": [
       "True"
      ]
     },
     "execution_count": 31,
     "metadata": {},
     "output_type": "execute_result"
    }
   ],
   "execution_count": 31
  },
  {
   "metadata": {
    "ExecuteTime": {
     "end_time": "2024-06-12T17:17:22.755753Z",
     "start_time": "2024-06-12T17:17:22.741547Z"
    }
   },
   "cell_type": "code",
   "source": [
    "def plot_confusion_matrix(cm, title, labels=[0, 1], ax=None):\n",
    "    if ax is None:\n",
    "        ax = plt.gca()\n",
    "    sns.heatmap(cm, annot=True, cmap='Blues', fmt='g', ax=ax)\n",
    "    ax.set_title(title, pad=20, fontsize=20, fontweight=\"bold\")\n",
    "    ax.set_ylabel('Actual')\n",
    "    ax.set_xlabel('Predicted')"
   ],
   "id": "2a3a1638bf79b66a",
   "outputs": [],
   "execution_count": 32
  },
  {
   "metadata": {
    "ExecuteTime": {
     "end_time": "2024-06-12T17:17:22.771716Z",
     "start_time": "2024-06-12T17:17:22.757663Z"
    }
   },
   "cell_type": "code",
   "source": [
    "cm_fan = confusion_matrix(np.array(test_label[0]), np.round(predictions_norm[0]))\n",
    "cm_led = confusion_matrix(test_label[1], np.round(predictions_norm[1]))\n",
    "cm_humid = confusion_matrix(test_label[2], np.round(predictions_norm[2]))"
   ],
   "id": "2e097e57b6f22701",
   "outputs": [],
   "execution_count": 33
  },
  {
   "metadata": {
    "ExecuteTime": {
     "end_time": "2024-06-12T17:17:22.787791Z",
     "start_time": "2024-06-12T17:17:22.772713Z"
    }
   },
   "cell_type": "code",
   "source": "to_print = [[cm_fan, 'Fan'], [cm_led, \"LED\"], [cm_humid, 'Humidifier']]",
   "id": "d91f7b4e18880ac6",
   "outputs": [],
   "execution_count": 34
  },
  {
   "metadata": {
    "ExecuteTime": {
     "end_time": "2024-06-12T17:17:23.740962Z",
     "start_time": "2024-06-12T17:17:22.793788Z"
    }
   },
   "cell_type": "code",
   "source": [
    "fig, axes = plt.subplots(1, 3, figsize=(18, 6))\n",
    "\n",
    "for idx, var in enumerate(to_print):\n",
    "    plot_confusion_matrix(var[0], var[1], ax=axes[idx])\n",
    "    \n",
    "plt.tight_layout()\n",
    "plt.show()"
   ],
   "id": "c3aff0f65ede9f8c",
   "outputs": [
    {
     "data": {
      "text/plain": [
       "<Figure size 1800x600 with 6 Axes>"
      ],
      "image/png": "[encoded data removed]"
     },
     "metadata": {},
     "output_type": "display_data"
    }
   ],
   "execution_count": 35
  },
  {
   "metadata": {
    "ExecuteTime": {
     "end_time": "2024-06-12T17:17:24.509837Z",
     "start_time": "2024-06-12T17:17:23.741959Z"
    }
   },
   "cell_type": "code",
   "source": [
    "model = final_model(inputs)\n",
    "model.compile(\n",
    "    loss= {\n",
    "        'fan_output': bc, \n",
    "        'led_output': bc, \n",
    "        'humid_output': bc, \n",
    "    },\n",
    "    optimizer=opt,\n",
    "    metrics={\n",
    "        'fan_output': 'accuracy', \n",
    "        'led_output': 'accuracy', \n",
    "        'humid_output': 'accuracy',\n",
    "    }\n",
    ")"
   ],
   "id": "525d9b35bd2dddea",
   "outputs": [],
   "execution_count": 36
  },
  {
   "metadata": {
    "ExecuteTime": {
     "end_time": "2024-06-12T17:17:24.549480Z",
     "start_time": "2024-06-12T17:17:24.511266Z"
    }
   },
   "cell_type": "code",
   "source": [
    "print(\"Shape of x_train before reshaping:\", x_train_scaler.shape)\n",
    "print(\"Shape of x_test before reshaping:\", x_test_scaler.shape)\n",
    "\n",
    "# Reshape the data to be 3D for LSTM input\n",
    "x_train_scaler = x_train_scaler.reshape((x_train_scaler.shape[0], 1, x_train_scaler.shape[1]))\n",
    "x_test_scaler = x_test_scaler.reshape((x_test_scaler.shape[0], 1, x_test_scaler.shape[1]))\n",
    "\n",
    "# Check the shape after reshaping\n",
    "print(\"Shape of x_train after reshaping:\", x_train_scaler.shape)\n",
    "print(\"Shape of x_test after reshaping:\", x_test_scaler.shape)\n"
   ],
   "id": "e3a36ca8548175f8",
   "outputs": [
    {
     "name": "stdout",
     "output_type": "stream",
     "text": [
      "Shape of x_train before reshaping: (7092, 3)\n",
      "Shape of x_test before reshaping: (1774, 3)\n",
      "Shape of x_train after reshaping: (7092, 1, 3)\n",
      "Shape of x_test after reshaping: (1774, 1, 3)\n"
     ]
    }
   ],
   "execution_count": 37
  },
  {
   "metadata": {
    "ExecuteTime": {
     "end_time": "2024-06-12T17:18:45.250670Z",
     "start_time": "2024-06-12T17:17:24.553484Z"
    }
   },
   "cell_type": "code",
   "source": [
    "H = model.fit(\n",
    "    x=x_train_scaler,\n",
    "    y=train_label,\n",
    "    epochs=25,\n",
    "    # validation_data=(x_test, test_label),\n",
    "    validation_split=.2,\n",
    "    verbose=2\n",
    ")"
   ],
   "id": "89c9d9d7f662d55",
   "outputs": [
    {
     "name": "stdout",
     "output_type": "stream",
     "text": [
      "Epoch 1/25\n",
      "178/178 - 7s - loss: 2.0241 - fan_output_loss: 0.6598 - led_output_loss: 0.6848 - humid_output_loss: 0.6796 - fan_output_accuracy: 0.9958 - led_output_accuracy: 0.7462 - humid_output_accuracy: 0.7908 - val_loss: 1.9611 - val_fan_output_loss: 0.6227 - val_led_output_loss: 0.6748 - val_humid_output_loss: 0.6635 - val_fan_output_accuracy: 0.9958 - val_led_output_accuracy: 0.7717 - val_humid_output_accuracy: 0.8217 - 7s/epoch - 41ms/step\n",
      "Epoch 2/25\n",
      "178/178 - 3s - loss: 1.9038 - fan_output_loss: 0.5891 - led_output_loss: 0.6662 - humid_output_loss: 0.6485 - fan_output_accuracy: 0.9958 - led_output_accuracy: 0.7671 - humid_output_accuracy: 0.8257 - val_loss: 1.8481 - val_fan_output_loss: 0.5565 - val_led_output_loss: 0.6569 - val_humid_output_loss: 0.6346 - val_fan_output_accuracy: 0.9958 - val_led_output_accuracy: 0.7717 - val_humid_output_accuracy: 0.8217 - 3s/epoch - 16ms/step\n",
      "Epoch 3/25\n",
      "178/178 - 3s - loss: 1.7973 - fan_output_loss: 0.5267 - led_output_loss: 0.6500 - humid_output_loss: 0.6206 - fan_output_accuracy: 0.9958 - led_output_accuracy: 0.7671 - humid_output_accuracy: 0.8257 - val_loss: 1.7481 - val_fan_output_loss: 0.4976 - val_led_output_loss: 0.6418 - val_humid_output_loss: 0.6087 - val_fan_output_accuracy: 0.9958 - val_led_output_accuracy: 0.7717 - val_humid_output_accuracy: 0.8217 - 3s/epoch - 15ms/step\n",
      "Epoch 4/25\n",
      "178/178 - 3s - loss: 1.7032 - fan_output_loss: 0.4714 - led_output_loss: 0.6358 - humid_output_loss: 0.5960 - fan_output_accuracy: 0.9958 - led_output_accuracy: 0.7671 - humid_output_accuracy: 0.8257 - val_loss: 1.6600 - val_fan_output_loss: 0.4458 - val_led_output_loss: 0.6279 - val_humid_output_loss: 0.5863 - val_fan_output_accuracy: 0.9958 - val_led_output_accuracy: 0.7717 - val_humid_output_accuracy: 0.8217 - 3s/epoch - 15ms/step\n",
      "Epoch 5/25\n",
      "178/178 - 3s - loss: 1.6201 - fan_output_loss: 0.4226 - led_output_loss: 0.6229 - humid_output_loss: 0.5746 - fan_output_accuracy: 0.9958 - led_output_accuracy: 0.7671 - humid_output_accuracy: 0.8257 - val_loss: 1.5819 - val_fan_output_loss: 0.3999 - val_led_output_loss: 0.6152 - val_humid_output_loss: 0.5668 - val_fan_output_accuracy: 0.9958 - val_led_output_accuracy: 0.7717 - val_humid_output_accuracy: 0.8217 - 3s/epoch - 17ms/step\n",
      "Epoch 6/25\n",
      "178/178 - 3s - loss: 1.5465 - fan_output_loss: 0.3793 - led_output_loss: 0.6112 - humid_output_loss: 0.5560 - fan_output_accuracy: 0.9958 - led_output_accuracy: 0.7671 - humid_output_accuracy: 0.8257 - val_loss: 1.5126 - val_fan_output_loss: 0.3591 - val_led_output_loss: 0.6038 - val_humid_output_loss: 0.5497 - val_fan_output_accuracy: 0.9958 - val_led_output_accuracy: 0.7717 - val_humid_output_accuracy: 0.8217 - 3s/epoch - 16ms/step\n",
      "Epoch 7/25\n",
      "178/178 - 3s - loss: 1.4814 - fan_output_loss: 0.3409 - led_output_loss: 0.6007 - humid_output_loss: 0.5398 - fan_output_accuracy: 0.9958 - led_output_accuracy: 0.7671 - humid_output_accuracy: 0.8257 - val_loss: 1.4516 - val_fan_output_loss: 0.3229 - val_led_output_loss: 0.5936 - val_humid_output_loss: 0.5351 - val_fan_output_accuracy: 0.9958 - val_led_output_accuracy: 0.7717 - val_humid_output_accuracy: 0.8217 - 3s/epoch - 17ms/step\n",
      "Epoch 8/25\n",
      "178/178 - 3s - loss: 1.4239 - fan_output_loss: 0.3067 - led_output_loss: 0.5912 - humid_output_loss: 0.5259 - fan_output_accuracy: 0.9958 - led_output_accuracy: 0.7671 - humid_output_accuracy: 0.8257 - val_loss: 1.3979 - val_fan_output_loss: 0.2909 - val_led_output_loss: 0.5845 - val_humid_output_loss: 0.5225 - val_fan_output_accuracy: 0.9958 - val_led_output_accuracy: 0.7717 - val_humid_output_accuracy: 0.8217 - 3s/epoch - 16ms/step\n",
      "Epoch 9/25\n",
      "178/178 - 3s - loss: 1.3736 - fan_output_loss: 0.2766 - led_output_loss: 0.5829 - humid_output_loss: 0.5141 - fan_output_accuracy: 0.9958 - led_output_accuracy: 0.7671 - humid_output_accuracy: 0.8257 - val_loss: 1.3509 - val_fan_output_loss: 0.2627 - val_led_output_loss: 0.5764 - val_humid_output_loss: 0.5119 - val_fan_output_accuracy: 0.9958 - val_led_output_accuracy: 0.7717 - val_humid_output_accuracy: 0.8217 - 3s/epoch - 15ms/step\n",
      "Epoch 10/25\n",
      "178/178 - 3s - loss: 1.3297 - fan_output_loss: 0.2501 - led_output_loss: 0.5756 - humid_output_loss: 0.5041 - fan_output_accuracy: 0.9958 - led_output_accuracy: 0.7671 - humid_output_accuracy: 0.8257 - val_loss: 1.3101 - val_fan_output_loss: 0.2378 - val_led_output_loss: 0.5693 - val_humid_output_loss: 0.5030 - val_fan_output_accuracy: 0.9958 - val_led_output_accuracy: 0.7717 - val_humid_output_accuracy: 0.8217 - 3s/epoch - 16ms/step\n",
      "Epoch 11/25\n",
      "178/178 - 3s - loss: 1.2917 - fan_output_loss: 0.2267 - led_output_loss: 0.5693 - humid_output_loss: 0.4957 - fan_output_accuracy: 0.9958 - led_output_accuracy: 0.7671 - humid_output_accuracy: 0.8257 - val_loss: 1.2748 - val_fan_output_loss: 0.2159 - val_led_output_loss: 0.5633 - val_humid_output_loss: 0.4957 - val_fan_output_accuracy: 0.9958 - val_led_output_accuracy: 0.7717 - val_humid_output_accuracy: 0.8217 - 3s/epoch - 15ms/step\n",
      "Epoch 12/25\n",
      "178/178 - 3s - loss: 1.2588 - fan_output_loss: 0.2062 - led_output_loss: 0.5639 - humid_output_loss: 0.4888 - fan_output_accuracy: 0.9958 - led_output_accuracy: 0.7671 - humid_output_accuracy: 0.8257 - val_loss: 1.2445 - val_fan_output_loss: 0.1967 - val_led_output_loss: 0.5581 - val_humid_output_loss: 0.4897 - val_fan_output_accuracy: 0.9958 - val_led_output_accuracy: 0.7717 - val_humid_output_accuracy: 0.8217 - 3s/epoch - 16ms/step\n",
      "Epoch 13/25\n",
      "178/178 - 3s - loss: 1.2307 - fan_output_loss: 0.1882 - led_output_loss: 0.5594 - humid_output_loss: 0.4831 - fan_output_accuracy: 0.9958 - led_output_accuracy: 0.7671 - humid_output_accuracy: 0.8257 - val_loss: 1.2186 - val_fan_output_loss: 0.1799 - val_led_output_loss: 0.5538 - val_humid_output_loss: 0.4848 - val_fan_output_accuracy: 0.9958 - val_led_output_accuracy: 0.7717 - val_humid_output_accuracy: 0.8217 - 3s/epoch - 18ms/step\n",
      "Epoch 14/25\n",
      "178/178 - 3s - loss: 1.2065 - fan_output_loss: 0.1724 - led_output_loss: 0.5557 - humid_output_loss: 0.4784 - fan_output_accuracy: 0.9958 - led_output_accuracy: 0.7671 - humid_output_accuracy: 0.8257 - val_loss: 1.1961 - val_fan_output_loss: 0.1651 - val_led_output_loss: 0.5502 - val_humid_output_loss: 0.4809 - val_fan_output_accuracy: 0.9958 - val_led_output_accuracy: 0.7717 - val_humid_output_accuracy: 0.8217 - 3s/epoch - 17ms/step\n",
      "Epoch 15/25\n",
      "178/178 - 3s - loss: 1.1859 - fan_output_loss: 0.1585 - led_output_loss: 0.5526 - humid_output_loss: 0.4748 - fan_output_accuracy: 0.9958 - led_output_accuracy: 0.7671 - humid_output_accuracy: 0.8257 - val_loss: 1.1772 - val_fan_output_loss: 0.1521 - val_led_output_loss: 0.5473 - val_humid_output_loss: 0.4778 - val_fan_output_accuracy: 0.9958 - val_led_output_accuracy: 0.7717 - val_humid_output_accuracy: 0.8217 - 3s/epoch - 17ms/step\n",
      "Epoch 16/25\n",
      "178/178 - 4s - loss: 1.1683 - fan_output_loss: 0.1464 - led_output_loss: 0.5501 - humid_output_loss: 0.4718 - fan_output_accuracy: 0.9958 - led_output_accuracy: 0.7671 - humid_output_accuracy: 0.8257 - val_loss: 1.1609 - val_fan_output_loss: 0.1407 - val_led_output_loss: 0.5449 - val_humid_output_loss: 0.4753 - val_fan_output_accuracy: 0.9958 - val_led_output_accuracy: 0.7717 - val_humid_output_accuracy: 0.8217 - 4s/epoch - 20ms/step\n",
      "Epoch 17/25\n",
      "178/178 - 3s - loss: 1.1533 - fan_output_loss: 0.1357 - led_output_loss: 0.5481 - humid_output_loss: 0.4694 - fan_output_accuracy: 0.9958 - led_output_accuracy: 0.7671 - humid_output_accuracy: 0.8257 - val_loss: 1.1472 - val_fan_output_loss: 0.1307 - val_led_output_loss: 0.5430 - val_humid_output_loss: 0.4735 - val_fan_output_accuracy: 0.9958 - val_led_output_accuracy: 0.7717 - val_humid_output_accuracy: 0.8217 - 3s/epoch - 18ms/step\n",
      "Epoch 18/25\n",
      "178/178 - 3s - loss: 1.1405 - fan_output_loss: 0.1262 - led_output_loss: 0.5466 - humid_output_loss: 0.4677 - fan_output_accuracy: 0.9958 - led_output_accuracy: 0.7671 - humid_output_accuracy: 0.8257 - val_loss: 1.1353 - val_fan_output_loss: 0.1218 - val_led_output_loss: 0.5415 - val_humid_output_loss: 0.4721 - val_fan_output_accuracy: 0.9958 - val_led_output_accuracy: 0.7717 - val_humid_output_accuracy: 0.8217 - 3s/epoch - 17ms/step\n",
      "Epoch 19/25\n",
      "178/178 - 3s - loss: 1.1295 - fan_output_loss: 0.1179 - led_output_loss: 0.5454 - humid_output_loss: 0.4662 - fan_output_accuracy: 0.9958 - led_output_accuracy: 0.7671 - humid_output_accuracy: 0.8257 - val_loss: 1.1253 - val_fan_output_loss: 0.1140 - val_led_output_loss: 0.5403 - val_humid_output_loss: 0.4710 - val_fan_output_accuracy: 0.9958 - val_led_output_accuracy: 0.7717 - val_humid_output_accuracy: 0.8217 - 3s/epoch - 18ms/step\n",
      "Epoch 20/25\n",
      "178/178 - 4s - loss: 1.1201 - fan_output_loss: 0.1105 - led_output_loss: 0.5444 - humid_output_loss: 0.4652 - fan_output_accuracy: 0.9958 - led_output_accuracy: 0.7671 - humid_output_accuracy: 0.8257 - val_loss: 1.1165 - val_fan_output_loss: 0.1071 - val_led_output_loss: 0.5393 - val_humid_output_loss: 0.4702 - val_fan_output_accuracy: 0.9958 - val_led_output_accuracy: 0.7717 - val_humid_output_accuracy: 0.8217 - 4s/epoch - 20ms/step\n",
      "Epoch 21/25\n",
      "178/178 - 4s - loss: 1.1119 - fan_output_loss: 0.1040 - led_output_loss: 0.5436 - humid_output_loss: 0.4643 - fan_output_accuracy: 0.9958 - led_output_accuracy: 0.7671 - humid_output_accuracy: 0.8257 - val_loss: 1.1090 - val_fan_output_loss: 0.1009 - val_led_output_loss: 0.5386 - val_humid_output_loss: 0.4696 - val_fan_output_accuracy: 0.9958 - val_led_output_accuracy: 0.7717 - val_humid_output_accuracy: 0.8217 - 4s/epoch - 20ms/step\n",
      "Epoch 22/25\n",
      "178/178 - 3s - loss: 1.1050 - fan_output_loss: 0.0982 - led_output_loss: 0.5431 - humid_output_loss: 0.4637 - fan_output_accuracy: 0.9958 - led_output_accuracy: 0.7671 - humid_output_accuracy: 0.8257 - val_loss: 1.1026 - val_fan_output_loss: 0.0954 - val_led_output_loss: 0.5380 - val_humid_output_loss: 0.4691 - val_fan_output_accuracy: 0.9958 - val_led_output_accuracy: 0.7717 - val_humid_output_accuracy: 0.8217 - 3s/epoch - 18ms/step\n",
      "Epoch 23/25\n",
      "178/178 - 4s - loss: 1.0989 - fan_output_loss: 0.0930 - led_output_loss: 0.5426 - humid_output_loss: 0.4633 - fan_output_accuracy: 0.9958 - led_output_accuracy: 0.7671 - humid_output_accuracy: 0.8257 - val_loss: 1.0969 - val_fan_output_loss: 0.0905 - val_led_output_loss: 0.5375 - val_humid_output_loss: 0.4688 - val_fan_output_accuracy: 0.9958 - val_led_output_accuracy: 0.7717 - val_humid_output_accuracy: 0.8217 - 4s/epoch - 20ms/step\n",
      "Epoch 24/25\n",
      "178/178 - 3s - loss: 1.0935 - fan_output_loss: 0.0883 - led_output_loss: 0.5423 - humid_output_loss: 0.4630 - fan_output_accuracy: 0.9958 - led_output_accuracy: 0.7671 - humid_output_accuracy: 0.8257 - val_loss: 1.0919 - val_fan_output_loss: 0.0861 - val_led_output_loss: 0.5371 - val_humid_output_loss: 0.4686 - val_fan_output_accuracy: 0.9958 - val_led_output_accuracy: 0.7717 - val_humid_output_accuracy: 0.8217 - 3s/epoch - 17ms/step\n",
      "Epoch 25/25\n",
      "178/178 - 3s - loss: 1.0889 - fan_output_loss: 0.0842 - led_output_loss: 0.5420 - humid_output_loss: 0.4627 - fan_output_accuracy: 0.9958 - led_output_accuracy: 0.7671 - humid_output_accuracy: 0.8257 - val_loss: 1.0875 - val_fan_output_loss: 0.0822 - val_led_output_loss: 0.5369 - val_humid_output_loss: 0.4685 - val_fan_output_accuracy: 0.9958 - val_led_output_accuracy: 0.7717 - val_humid_output_accuracy: 0.8217 - 3s/epoch - 17ms/step\n"
     ]
    }
   ],
   "execution_count": 38
  },
  {
   "metadata": {
    "ExecuteTime": {
     "end_time": "2024-06-12T17:19:39.514886Z",
     "start_time": "2024-06-12T17:19:37.250157Z"
    }
   },
   "cell_type": "code",
   "source": "predictions_scaler = model.predict(x_test_scaler)",
   "id": "5c4fe8fcf584b844",
   "outputs": [
    {
     "name": "stdout",
     "output_type": "stream",
     "text": [
      "56/56 [==============================] - 2s 6ms/step\n"
     ]
    }
   ],
   "execution_count": 39
  },
  {
   "metadata": {
    "ExecuteTime": {
     "end_time": "2024-06-12T17:19:39.545694Z",
     "start_time": "2024-06-12T17:19:39.517093Z"
    }
   },
   "cell_type": "code",
   "source": [
    "cm_fan = confusion_matrix(np.array(test_label[0]), np.round(predictions_scaler[0]))\n",
    "cm_led = confusion_matrix(test_label[1], np.round(predictions_scaler[1]))\n",
    "cm_humid = confusion_matrix(test_label[2], np.round(predictions_scaler[2]))"
   ],
   "id": "9e5fd7c77cde715c",
   "outputs": [],
   "execution_count": 40
  },
  {
   "metadata": {
    "ExecuteTime": {
     "end_time": "2024-06-12T17:20:12.608786Z",
     "start_time": "2024-06-12T17:20:11.771517Z"
    }
   },
   "cell_type": "code",
   "source": "loss, fan_loss, led_loss, humid_loss, fan_acc, led_acc, humid_acc = model.evaluate(x_test_norm, test_label)  ",
   "id": "942ce8e815037a5",
   "outputs": [
    {
     "name": "stdout",
     "output_type": "stream",
     "text": [
      "56/56 [==============================] - 1s 9ms/step - loss: 1.1187 - fan_output_loss: 0.0903 - led_output_loss: 0.5544 - humid_output_loss: 0.4740 - fan_output_accuracy: 0.9927 - led_output_accuracy: 0.7559 - humid_output_accuracy: 0.8179\n"
     ]
    }
   ],
   "execution_count": 42
  },
  {
   "metadata": {
    "ExecuteTime": {
     "end_time": "2024-06-12T17:20:12.890290Z",
     "start_time": "2024-06-12T17:20:12.873869Z"
    }
   },
   "cell_type": "code",
   "source": [
    "print(\n",
    "    f\"fan loss : {fan_loss * 100 :.2f}\",\n",
    "    f\"led loss : {led_loss * 100 :.2f}\",\n",
    "    f\"humid loss : {humid_loss * 100 :.2f} \\n\",\n",
    "    f\"total loss : {loss * 100 :.2f} \\n\",\n",
    "    f\"fan accuracy : {fan_acc * 100 :.2f}\",\n",
    "    f\"led accuracy : {led_acc * 100 :.2f}\",\n",
    "    f\"humid accuracy : {humid_acc * 100 :.2f}\",\n",
    "    sep='\\n'\n",
    ")"
   ],
   "id": "4c2b789b2f3a06f6",
   "outputs": [
    {
     "name": "stdout",
     "output_type": "stream",
     "text": [
      "fan loss : 9.03\n",
      "led loss : 55.44\n",
      "humid loss : 47.40 \n",
      "\n",
      "total loss : 111.87 \n",
      "\n",
      "fan accuracy : 99.27\n",
      "led accuracy : 75.59\n",
      "humid accuracy : 81.79\n"
     ]
    }
   ],
   "execution_count": 43
  },
  {
   "metadata": {
    "ExecuteTime": {
     "end_time": "2024-06-12T17:20:19.279034Z",
     "start_time": "2024-06-12T17:20:19.264341Z"
    }
   },
   "cell_type": "code",
   "source": "to_print = [[cm_fan, 'Fan'], [cm_led, \"LED\"], [cm_humid, 'Humidifier']]",
   "id": "67d3cabc11e7c97c",
   "outputs": [],
   "execution_count": 44
  },
  {
   "metadata": {
    "ExecuteTime": {
     "end_time": "2024-06-12T17:20:21.665589Z",
     "start_time": "2024-06-12T17:20:20.232745Z"
    }
   },
   "cell_type": "code",
   "source": [
    "fig, axes = plt.subplots(1, 3, figsize=(18, 6))\n",
    "\n",
    "for idx, var in enumerate(to_print):\n",
    "    plot_confusion_matrix(var[0], var[1], ax=axes[idx])\n",
    "    \n",
    "plt.tight_layout()\n",
    "plt.show()"
   ],
   "id": "51667e493f0cbc0b",
   "outputs": [
    {
     "data": {
      "text/plain": [
       "<Figure size 1800x600 with 6 Axes>"
      ],
      "image/png": "[encoded data removed]"
     },
     "metadata": {},
     "output_type": "display_data"
    }
   ],
   "execution_count": 45
  },
  {
   "metadata": {},
   "cell_type": "code",
   "outputs": [],
   "execution_count": null,
   "source": "",
   "id": "951c45fe13579628"
  }
 ],
 "metadata": {
  "kernelspec": {
   "display_name": "Python 3",
   "language": "python",
   "name": "python3"
  },
  "language_info": {
   "codemirror_mode": {
    "name": "ipython",
    "version": 2
   },
   "file_extension": ".py",
   "mimetype": "text/x-python",
   "name": "python",
   "nbconvert_exporter": "python",
   "pygments_lexer": "ipython2",
   "version": "2.7.6"
  }
 },
 "nbformat": 4,
 "nbformat_minor": 5
}
