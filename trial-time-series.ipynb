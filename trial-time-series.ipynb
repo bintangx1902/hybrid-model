{
 "cells": [
  {
   "cell_type": "code",
   "id": "initial_id",
   "metadata": {
    "collapsed": true,
    "ExecuteTime": {
     "end_time": "2024-06-07T17:30:33.738822Z",
     "start_time": "2024-06-07T17:30:31.242590Z"
    }
   },
   "source": [
    "from tensorflow.keras.layers import *\n",
    "import tensorflow as tf\n",
    "import numpy as np\n",
    "import pandas as pd\n",
    "from matplotlib import pyplot as plt\n",
    "import seaborn as sns\n",
    "from sklearn.preprocessing import LabelEncoder\n",
    "from sklearn.model_selection import train_test_split"
   ],
   "outputs": [],
   "execution_count": 1
  },
  {
   "metadata": {
    "ExecuteTime": {
     "end_time": "2024-06-07T17:30:33.786261Z",
     "start_time": "2024-06-07T17:30:33.739823Z"
    }
   },
   "cell_type": "code",
   "source": "data = pd.read_csv('./dataset/clean-sensors.csv', infer_datetime_format=True, header=0, index_col='datetime')",
   "id": "e85d1f9a53145283",
   "outputs": [
    {
     "name": "stderr",
     "output_type": "stream",
     "text": [
      "C:\\Users\\Bintang\\AppData\\Local\\Temp\\ipykernel_25492\\3182949423.py:1: FutureWarning: The argument 'infer_datetime_format' is deprecated and will be removed in a future version. A strict version of it is now the default, see https://pandas.pydata.org/pdeps/0004-consistent-to-datetime-parsing.html. You can safely remove this argument.\n",
      "  data = pd.read_csv('./dataset/clean-sensors.csv', infer_datetime_format=True, header=0, index_col='datetime')\n"
     ]
    }
   ],
   "execution_count": 2
  },
  {
   "metadata": {
    "ExecuteTime": {
     "end_time": "2024-06-07T17:30:33.818261Z",
     "start_time": "2024-06-07T17:30:33.792273Z"
    }
   },
   "cell_type": "code",
   "source": "data.head()",
   "id": "a6f1b2fb23d31f3b",
   "outputs": [
    {
     "data": {
      "text/plain": [
       "                    Temperature  Humidity  Illumination  kat_temperature  \\\n",
       "datetime                                                                   \n",
       "03/07/2023 0:00:00         28.0        75         76.61                2   \n",
       "03/07/2023 0:01:00         28.0        75         75.33                2   \n",
       "03/07/2023 0:02:00         28.0        75         74.49                2   \n",
       "03/07/2023 0:03:00         28.0        75         74.49                2   \n",
       "03/07/2023 0:04:00         28.0        75         74.49                2   \n",
       "\n",
       "                    kat_humidity  kat_illumination  Kipas  Humidifier  LED  \n",
       "datetime                                                                    \n",
       "03/07/2023 0:00:00             2                 3      0           0    1  \n",
       "03/07/2023 0:01:00             2                 3      0           0    1  \n",
       "03/07/2023 0:02:00             2                 3      0           0    1  \n",
       "03/07/2023 0:03:00             2                 3      0           0    1  \n",
       "03/07/2023 0:04:00             2                 3      0           0    1  "
      ],
      "text/html": [
       "<div>\n",
       "<style scoped>\n",
       "    .dataframe tbody tr th:only-of-type {\n",
       "        vertical-align: middle;\n",
       "    }\n",
       "\n",
       "    .dataframe tbody tr th {\n",
       "        vertical-align: top;\n",
       "    }\n",
       "\n",
       "    .dataframe thead th {\n",
       "        text-align: right;\n",
       "    }\n",
       "</style>\n",
       "<table border=\"1\" class=\"dataframe\">\n",
       "  <thead>\n",
       "    <tr style=\"text-align: right;\">\n",
       "      <th></th>\n",
       "      <th>Temperature</th>\n",
       "      <th>Humidity</th>\n",
       "      <th>Illumination</th>\n",
       "      <th>kat_temperature</th>\n",
       "      <th>kat_humidity</th>\n",
       "      <th>kat_illumination</th>\n",
       "      <th>Kipas</th>\n",
       "      <th>Humidifier</th>\n",
       "      <th>LED</th>\n",
       "    </tr>\n",
       "    <tr>\n",
       "      <th>datetime</th>\n",
       "      <th></th>\n",
       "      <th></th>\n",
       "      <th></th>\n",
       "      <th></th>\n",
       "      <th></th>\n",
       "      <th></th>\n",
       "      <th></th>\n",
       "      <th></th>\n",
       "      <th></th>\n",
       "    </tr>\n",
       "  </thead>\n",
       "  <tbody>\n",
       "    <tr>\n",
       "      <th>03/07/2023 0:00:00</th>\n",
       "      <td>28.0</td>\n",
       "      <td>75</td>\n",
       "      <td>76.61</td>\n",
       "      <td>2</td>\n",
       "      <td>2</td>\n",
       "      <td>3</td>\n",
       "      <td>0</td>\n",
       "      <td>0</td>\n",
       "      <td>1</td>\n",
       "    </tr>\n",
       "    <tr>\n",
       "      <th>03/07/2023 0:01:00</th>\n",
       "      <td>28.0</td>\n",
       "      <td>75</td>\n",
       "      <td>75.33</td>\n",
       "      <td>2</td>\n",
       "      <td>2</td>\n",
       "      <td>3</td>\n",
       "      <td>0</td>\n",
       "      <td>0</td>\n",
       "      <td>1</td>\n",
       "    </tr>\n",
       "    <tr>\n",
       "      <th>03/07/2023 0:02:00</th>\n",
       "      <td>28.0</td>\n",
       "      <td>75</td>\n",
       "      <td>74.49</td>\n",
       "      <td>2</td>\n",
       "      <td>2</td>\n",
       "      <td>3</td>\n",
       "      <td>0</td>\n",
       "      <td>0</td>\n",
       "      <td>1</td>\n",
       "    </tr>\n",
       "    <tr>\n",
       "      <th>03/07/2023 0:03:00</th>\n",
       "      <td>28.0</td>\n",
       "      <td>75</td>\n",
       "      <td>74.49</td>\n",
       "      <td>2</td>\n",
       "      <td>2</td>\n",
       "      <td>3</td>\n",
       "      <td>0</td>\n",
       "      <td>0</td>\n",
       "      <td>1</td>\n",
       "    </tr>\n",
       "    <tr>\n",
       "      <th>03/07/2023 0:04:00</th>\n",
       "      <td>28.0</td>\n",
       "      <td>75</td>\n",
       "      <td>74.49</td>\n",
       "      <td>2</td>\n",
       "      <td>2</td>\n",
       "      <td>3</td>\n",
       "      <td>0</td>\n",
       "      <td>0</td>\n",
       "      <td>1</td>\n",
       "    </tr>\n",
       "  </tbody>\n",
       "</table>\n",
       "</div>"
      ]
     },
     "execution_count": 3,
     "metadata": {},
     "output_type": "execute_result"
    }
   ],
   "execution_count": 3
  },
  {
   "metadata": {
    "ExecuteTime": {
     "end_time": "2024-06-07T17:30:33.834277Z",
     "start_time": "2024-06-07T17:30:33.821270Z"
    }
   },
   "cell_type": "code",
   "source": "data.columns",
   "id": "2c482582294b21d6",
   "outputs": [
    {
     "data": {
      "text/plain": [
       "Index(['Temperature', 'Humidity', 'Illumination', 'kat_temperature',\n",
       "       'kat_humidity', 'kat_illumination', 'Kipas', 'Humidifier', 'LED'],\n",
       "      dtype='object')"
      ]
     },
     "execution_count": 4,
     "metadata": {},
     "output_type": "execute_result"
    }
   ],
   "execution_count": 4
  },
  {
   "metadata": {
    "ExecuteTime": {
     "end_time": "2024-06-07T17:30:33.866263Z",
     "start_time": "2024-06-07T17:30:33.838274Z"
    }
   },
   "cell_type": "code",
   "source": "data.info()",
   "id": "5ba0502c2c8260dd",
   "outputs": [
    {
     "name": "stdout",
     "output_type": "stream",
     "text": [
      "<class 'pandas.core.frame.DataFrame'>\n",
      "Index: 11507 entries, 03/07/2023 0:00:00 to 10/07/2023 23:59:00\n",
      "Data columns (total 9 columns):\n",
      " #   Column            Non-Null Count  Dtype  \n",
      "---  ------            --------------  -----  \n",
      " 0   Temperature       11507 non-null  float64\n",
      " 1   Humidity          11507 non-null  int64  \n",
      " 2   Illumination      11063 non-null  float64\n",
      " 3   kat_temperature   11507 non-null  int64  \n",
      " 4   kat_humidity      11507 non-null  int64  \n",
      " 5   kat_illumination  11507 non-null  int64  \n",
      " 6   Kipas             11507 non-null  int64  \n",
      " 7   Humidifier        11507 non-null  int64  \n",
      " 8   LED               11507 non-null  int64  \n",
      "dtypes: float64(2), int64(7)\n",
      "memory usage: 899.0+ KB\n"
     ]
    }
   ],
   "execution_count": 5
  },
  {
   "metadata": {
    "ExecuteTime": {
     "end_time": "2024-06-07T17:30:33.882265Z",
     "start_time": "2024-06-07T17:30:33.868265Z"
    }
   },
   "cell_type": "code",
   "source": "data = data.drop(['kat_humidity', 'kat_illumination', 'kat_temperature'], axis=1)",
   "id": "9733873346a607bb",
   "outputs": [],
   "execution_count": 6
  },
  {
   "metadata": {
    "ExecuteTime": {
     "end_time": "2024-06-07T17:30:33.929265Z",
     "start_time": "2024-06-07T17:30:33.884263Z"
    }
   },
   "cell_type": "code",
   "source": [
    "stats = data.describe()\n",
    "stats.pop('Kipas')\n",
    "stats.pop('LED') \n",
    "stats.pop('Humidifier')\n",
    "stats = stats.transpose()\n",
    "stats"
   ],
   "id": "8bf63580e7507f23",
   "outputs": [
    {
     "data": {
      "text/plain": [
       "                count        mean         std    min    25%    50%    75%  \\\n",
       "Temperature   11507.0   30.018954    1.249807  27.20  28.90  30.20  30.80   \n",
       "Humidity      11507.0   66.055618    5.500173  51.00  62.00  67.00  70.00   \n",
       "Illumination  11063.0  147.412321  201.545117  28.89  73.24  73.24  76.61   \n",
       "\n",
       "                  max  \n",
       "Temperature     33.30  \n",
       "Humidity        76.00  \n",
       "Illumination  1508.57  "
      ],
      "text/html": [
       "<div>\n",
       "<style scoped>\n",
       "    .dataframe tbody tr th:only-of-type {\n",
       "        vertical-align: middle;\n",
       "    }\n",
       "\n",
       "    .dataframe tbody tr th {\n",
       "        vertical-align: top;\n",
       "    }\n",
       "\n",
       "    .dataframe thead th {\n",
       "        text-align: right;\n",
       "    }\n",
       "</style>\n",
       "<table border=\"1\" class=\"dataframe\">\n",
       "  <thead>\n",
       "    <tr style=\"text-align: right;\">\n",
       "      <th></th>\n",
       "      <th>count</th>\n",
       "      <th>mean</th>\n",
       "      <th>std</th>\n",
       "      <th>min</th>\n",
       "      <th>25%</th>\n",
       "      <th>50%</th>\n",
       "      <th>75%</th>\n",
       "      <th>max</th>\n",
       "    </tr>\n",
       "  </thead>\n",
       "  <tbody>\n",
       "    <tr>\n",
       "      <th>Temperature</th>\n",
       "      <td>11507.0</td>\n",
       "      <td>30.018954</td>\n",
       "      <td>1.249807</td>\n",
       "      <td>27.20</td>\n",
       "      <td>28.90</td>\n",
       "      <td>30.20</td>\n",
       "      <td>30.80</td>\n",
       "      <td>33.30</td>\n",
       "    </tr>\n",
       "    <tr>\n",
       "      <th>Humidity</th>\n",
       "      <td>11507.0</td>\n",
       "      <td>66.055618</td>\n",
       "      <td>5.500173</td>\n",
       "      <td>51.00</td>\n",
       "      <td>62.00</td>\n",
       "      <td>67.00</td>\n",
       "      <td>70.00</td>\n",
       "      <td>76.00</td>\n",
       "    </tr>\n",
       "    <tr>\n",
       "      <th>Illumination</th>\n",
       "      <td>11063.0</td>\n",
       "      <td>147.412321</td>\n",
       "      <td>201.545117</td>\n",
       "      <td>28.89</td>\n",
       "      <td>73.24</td>\n",
       "      <td>73.24</td>\n",
       "      <td>76.61</td>\n",
       "      <td>1508.57</td>\n",
       "    </tr>\n",
       "  </tbody>\n",
       "</table>\n",
       "</div>"
      ]
     },
     "execution_count": 7,
     "metadata": {},
     "output_type": "execute_result"
    }
   ],
   "execution_count": 7
  },
  {
   "metadata": {
    "ExecuteTime": {
     "end_time": "2024-06-07T17:30:33.945282Z",
     "start_time": "2024-06-07T17:30:33.931263Z"
    }
   },
   "cell_type": "code",
   "source": "train, test = train_test_split(data, test_size=.2, random_state=1)",
   "id": "7469d247ab6d73b1",
   "outputs": [],
   "execution_count": 8
  },
  {
   "metadata": {
    "ExecuteTime": {
     "end_time": "2024-06-07T17:30:33.961265Z",
     "start_time": "2024-06-07T17:30:33.949265Z"
    }
   },
   "cell_type": "code",
   "source": [
    "n_features = len(train.columns)\n",
    "train.shape"
   ],
   "id": "5eeb3a5c0d797f29",
   "outputs": [
    {
     "data": {
      "text/plain": [
       "(9205, 6)"
      ]
     },
     "execution_count": 9,
     "metadata": {},
     "output_type": "execute_result"
    }
   ],
   "execution_count": 9
  },
  {
   "metadata": {
    "ExecuteTime": {
     "end_time": "2024-06-07T17:30:33.977267Z",
     "start_time": "2024-06-07T17:30:33.964265Z"
    }
   },
   "cell_type": "code",
   "source": [
    "def format_output(data):\n",
    "    fan = np.array(data.pop('Kipas'))\n",
    "    humid = np.array(data.pop('Humidifier'))\n",
    "    led = np.array(data.pop('LED'))\n",
    "    return fan, humid, led    "
   ],
   "id": "3e8155928e77ac46",
   "outputs": [],
   "execution_count": 10
  },
  {
   "metadata": {
    "ExecuteTime": {
     "end_time": "2024-06-07T17:30:33.992263Z",
     "start_time": "2024-06-07T17:30:33.979264Z"
    }
   },
   "cell_type": "code",
   "source": [
    "train_label = format_output(train)\n",
    "test_label = format_output(test)"
   ],
   "id": "2f2f1ef8765cc10f",
   "outputs": [],
   "execution_count": 11
  },
  {
   "metadata": {
    "ExecuteTime": {
     "end_time": "2024-06-07T17:30:34.007264Z",
     "start_time": "2024-06-07T17:30:33.994265Z"
    }
   },
   "cell_type": "code",
   "source": "train_label",
   "id": "d3d9a773bc013571",
   "outputs": [
    {
     "data": {
      "text/plain": [
       "(array([0, 0, 0, ..., 0, 0, 0], dtype=int64),\n",
       " array([0, 0, 0, ..., 1, 0, 0], dtype=int64),\n",
       " array([0, 1, 0, ..., 1, 1, 0], dtype=int64))"
      ]
     },
     "execution_count": 12,
     "metadata": {},
     "output_type": "execute_result"
    }
   ],
   "execution_count": 12
  },
  {
   "metadata": {
    "ExecuteTime": {
     "end_time": "2024-06-07T17:30:34.023265Z",
     "start_time": "2024-06-07T17:30:34.009267Z"
    }
   },
   "cell_type": "code",
   "source": "len(train_label[0]) == len(train)",
   "id": "8e8dc4d8016454a2",
   "outputs": [
    {
     "data": {
      "text/plain": [
       "True"
      ]
     },
     "execution_count": 13,
     "metadata": {},
     "output_type": "execute_result"
    }
   ],
   "execution_count": 13
  },
  {
   "metadata": {
    "ExecuteTime": {
     "end_time": "2024-06-07T17:30:34.039263Z",
     "start_time": "2024-06-07T17:30:34.025263Z"
    }
   },
   "cell_type": "code",
   "source": [
    "inputs = Input(shape=(3, ))\n",
    "bc = tf.keras.losses.BinaryCrossentropy()\n",
    "rms = tf.keras.optimizers.RMSprop(learning_rate=.0001)"
   ],
   "id": "442aaac6ee713e14",
   "outputs": [],
   "execution_count": 14
  },
  {
   "metadata": {},
   "cell_type": "markdown",
   "source": "# Siamese neural network",
   "id": "b274ed32d7e4f729"
  },
  {
   "metadata": {
    "ExecuteTime": {
     "end_time": "2024-06-07T17:30:34.055265Z",
     "start_time": "2024-06-07T17:30:34.041267Z"
    }
   },
   "cell_type": "code",
   "source": [
    "def base_model(input_layer):\n",
    "    # x = Conv1D(32, 5, 1, 'causal', activation='relu')(input_layer)\n",
    "    # x = LSTM(64, return_sequences=True)(input_layer)\n",
    "    # x = LSTM(64, return_sequences=True)(x)\n",
    "    x = Dense(128, activation='relu')(input_layer)\n",
    "    x = Dense(128, activation='relu')(x)\n",
    "    return x\n",
    "    "
   ],
   "id": "7aacfcca24562f7f",
   "outputs": [],
   "execution_count": 15
  },
  {
   "metadata": {
    "ExecuteTime": {
     "end_time": "2024-06-07T17:30:34.071262Z",
     "start_time": "2024-06-07T17:30:34.060265Z"
    }
   },
   "cell_type": "code",
   "source": [
    "def final_model(input_layer):\n",
    "    x = base_model(input_layer)\n",
    "    fan_output = Dense(1, activation='sigmoid', name='fan_output')(x)\n",
    "    led_output = Dense(1, activation='sigmoid', name='led_output')(x)   \n",
    "    humid = Dense(1, activation='sigmoid', name='humid_output')(x)\n",
    "    return tf.keras.Model(inputs=input_layer, outputs=[fan_output, led_output, humid])"
   ],
   "id": "f89e572867fcd4bc",
   "outputs": [],
   "execution_count": 16
  },
  {
   "metadata": {
    "ExecuteTime": {
     "end_time": "2024-06-07T17:30:34.879462Z",
     "start_time": "2024-06-07T17:30:34.073266Z"
    }
   },
   "cell_type": "code",
   "source": [
    "model = final_model(inputs)\n",
    "model.compile(\n",
    "    loss= {\n",
    "        'fan_output': bc, \n",
    "        'led_output': bc, \n",
    "        'humid_output': bc, \n",
    "    },\n",
    "    optimizer=rms,\n",
    "    metrics={\n",
    "        'fan_output': 'accuracy', \n",
    "        'led_output': 'accuracy', \n",
    "        'humid_output': 'accuracy',\n",
    "    }\n",
    ")"
   ],
   "id": "318437a5447110fd",
   "outputs": [],
   "execution_count": 17
  },
  {
   "metadata": {
    "ExecuteTime": {
     "end_time": "2024-06-07T17:34:03.683045Z",
     "start_time": "2024-06-07T17:32:22.160451Z"
    }
   },
   "cell_type": "code",
   "source": [
    "model.fit(\n",
    "    x=train,\n",
    "    y=train_label,\n",
    "    epochs=25,\n",
    "    validation_data=(test, test_label)\n",
    ")"
   ],
   "id": "2a35867326a92bd",
   "outputs": [
    {
     "name": "stdout",
     "output_type": "stream",
     "text": [
      "Epoch 1/25\n",
      "288/288 [==============================] - 4s 14ms/step - loss: nan - fan_output_loss: nan - led_output_loss: nan - humid_output_loss: nan - fan_output_accuracy: 0.9710 - led_output_accuracy: 0.7419 - humid_output_accuracy: 0.2677 - val_loss: nan - val_fan_output_loss: nan - val_led_output_loss: nan - val_humid_output_loss: nan - val_fan_output_accuracy: 0.9683 - val_led_output_accuracy: 0.7242 - val_humid_output_accuracy: 0.2802\n",
      "Epoch 2/25\n",
      "288/288 [==============================] - 4s 13ms/step - loss: nan - fan_output_loss: nan - led_output_loss: nan - humid_output_loss: nan - fan_output_accuracy: 0.9710 - led_output_accuracy: 0.7419 - humid_output_accuracy: 0.2677 - val_loss: nan - val_fan_output_loss: nan - val_led_output_loss: nan - val_humid_output_loss: nan - val_fan_output_accuracy: 0.9683 - val_led_output_accuracy: 0.7242 - val_humid_output_accuracy: 0.2802\n",
      "Epoch 3/25\n",
      "288/288 [==============================] - 4s 14ms/step - loss: nan - fan_output_loss: nan - led_output_loss: nan - humid_output_loss: nan - fan_output_accuracy: 0.9710 - led_output_accuracy: 0.7419 - humid_output_accuracy: 0.2677 - val_loss: nan - val_fan_output_loss: nan - val_led_output_loss: nan - val_humid_output_loss: nan - val_fan_output_accuracy: 0.9683 - val_led_output_accuracy: 0.7242 - val_humid_output_accuracy: 0.2802\n",
      "Epoch 4/25\n",
      "288/288 [==============================] - 4s 13ms/step - loss: nan - fan_output_loss: nan - led_output_loss: nan - humid_output_loss: nan - fan_output_accuracy: 0.9710 - led_output_accuracy: 0.7419 - humid_output_accuracy: 0.2677 - val_loss: nan - val_fan_output_loss: nan - val_led_output_loss: nan - val_humid_output_loss: nan - val_fan_output_accuracy: 0.9683 - val_led_output_accuracy: 0.7242 - val_humid_output_accuracy: 0.2802\n",
      "Epoch 5/25\n",
      "288/288 [==============================] - 4s 14ms/step - loss: nan - fan_output_loss: nan - led_output_loss: nan - humid_output_loss: nan - fan_output_accuracy: 0.9710 - led_output_accuracy: 0.7419 - humid_output_accuracy: 0.2677 - val_loss: nan - val_fan_output_loss: nan - val_led_output_loss: nan - val_humid_output_loss: nan - val_fan_output_accuracy: 0.9683 - val_led_output_accuracy: 0.7242 - val_humid_output_accuracy: 0.2802\n",
      "Epoch 6/25\n",
      "288/288 [==============================] - 4s 13ms/step - loss: nan - fan_output_loss: nan - led_output_loss: nan - humid_output_loss: nan - fan_output_accuracy: 0.9710 - led_output_accuracy: 0.7419 - humid_output_accuracy: 0.2677 - val_loss: nan - val_fan_output_loss: nan - val_led_output_loss: nan - val_humid_output_loss: nan - val_fan_output_accuracy: 0.9683 - val_led_output_accuracy: 0.7242 - val_humid_output_accuracy: 0.2802\n",
      "Epoch 7/25\n",
      "288/288 [==============================] - 4s 13ms/step - loss: nan - fan_output_loss: nan - led_output_loss: nan - humid_output_loss: nan - fan_output_accuracy: 0.9710 - led_output_accuracy: 0.7419 - humid_output_accuracy: 0.2677 - val_loss: nan - val_fan_output_loss: nan - val_led_output_loss: nan - val_humid_output_loss: nan - val_fan_output_accuracy: 0.9683 - val_led_output_accuracy: 0.7242 - val_humid_output_accuracy: 0.2802\n",
      "Epoch 8/25\n",
      "288/288 [==============================] - 4s 13ms/step - loss: nan - fan_output_loss: nan - led_output_loss: nan - humid_output_loss: nan - fan_output_accuracy: 0.9710 - led_output_accuracy: 0.7419 - humid_output_accuracy: 0.2677 - val_loss: nan - val_fan_output_loss: nan - val_led_output_loss: nan - val_humid_output_loss: nan - val_fan_output_accuracy: 0.9683 - val_led_output_accuracy: 0.7242 - val_humid_output_accuracy: 0.2802\n",
      "Epoch 9/25\n",
      "288/288 [==============================] - 4s 14ms/step - loss: nan - fan_output_loss: nan - led_output_loss: nan - humid_output_loss: nan - fan_output_accuracy: 0.9710 - led_output_accuracy: 0.7419 - humid_output_accuracy: 0.2677 - val_loss: nan - val_fan_output_loss: nan - val_led_output_loss: nan - val_humid_output_loss: nan - val_fan_output_accuracy: 0.9683 - val_led_output_accuracy: 0.7242 - val_humid_output_accuracy: 0.2802\n",
      "Epoch 10/25\n",
      "288/288 [==============================] - 4s 14ms/step - loss: nan - fan_output_loss: nan - led_output_loss: nan - humid_output_loss: nan - fan_output_accuracy: 0.9710 - led_output_accuracy: 0.7419 - humid_output_accuracy: 0.2677 - val_loss: nan - val_fan_output_loss: nan - val_led_output_loss: nan - val_humid_output_loss: nan - val_fan_output_accuracy: 0.9683 - val_led_output_accuracy: 0.7242 - val_humid_output_accuracy: 0.2802\n",
      "Epoch 11/25\n",
      "288/288 [==============================] - 6s 20ms/step - loss: nan - fan_output_loss: nan - led_output_loss: nan - humid_output_loss: nan - fan_output_accuracy: 0.9710 - led_output_accuracy: 0.7419 - humid_output_accuracy: 0.2677 - val_loss: nan - val_fan_output_loss: nan - val_led_output_loss: nan - val_humid_output_loss: nan - val_fan_output_accuracy: 0.9683 - val_led_output_accuracy: 0.7242 - val_humid_output_accuracy: 0.2802\n",
      "Epoch 12/25\n",
      "288/288 [==============================] - 5s 16ms/step - loss: nan - fan_output_loss: nan - led_output_loss: nan - humid_output_loss: nan - fan_output_accuracy: 0.9710 - led_output_accuracy: 0.7419 - humid_output_accuracy: 0.2677 - val_loss: nan - val_fan_output_loss: nan - val_led_output_loss: nan - val_humid_output_loss: nan - val_fan_output_accuracy: 0.9683 - val_led_output_accuracy: 0.7242 - val_humid_output_accuracy: 0.2802\n",
      "Epoch 13/25\n",
      "288/288 [==============================] - 4s 15ms/step - loss: nan - fan_output_loss: nan - led_output_loss: nan - humid_output_loss: nan - fan_output_accuracy: 0.9710 - led_output_accuracy: 0.7419 - humid_output_accuracy: 0.2677 - val_loss: nan - val_fan_output_loss: nan - val_led_output_loss: nan - val_humid_output_loss: nan - val_fan_output_accuracy: 0.9683 - val_led_output_accuracy: 0.7242 - val_humid_output_accuracy: 0.2802\n",
      "Epoch 14/25\n",
      "288/288 [==============================] - 5s 17ms/step - loss: nan - fan_output_loss: nan - led_output_loss: nan - humid_output_loss: nan - fan_output_accuracy: 0.9710 - led_output_accuracy: 0.7419 - humid_output_accuracy: 0.2677 - val_loss: nan - val_fan_output_loss: nan - val_led_output_loss: nan - val_humid_output_loss: nan - val_fan_output_accuracy: 0.9683 - val_led_output_accuracy: 0.7242 - val_humid_output_accuracy: 0.2802\n",
      "Epoch 15/25\n",
      "288/288 [==============================] - 4s 13ms/step - loss: nan - fan_output_loss: nan - led_output_loss: nan - humid_output_loss: nan - fan_output_accuracy: 0.9710 - led_output_accuracy: 0.7419 - humid_output_accuracy: 0.2677 - val_loss: nan - val_fan_output_loss: nan - val_led_output_loss: nan - val_humid_output_loss: nan - val_fan_output_accuracy: 0.9683 - val_led_output_accuracy: 0.7242 - val_humid_output_accuracy: 0.2802\n",
      "Epoch 16/25\n",
      "288/288 [==============================] - 4s 14ms/step - loss: nan - fan_output_loss: nan - led_output_loss: nan - humid_output_loss: nan - fan_output_accuracy: 0.9710 - led_output_accuracy: 0.7419 - humid_output_accuracy: 0.2677 - val_loss: nan - val_fan_output_loss: nan - val_led_output_loss: nan - val_humid_output_loss: nan - val_fan_output_accuracy: 0.9683 - val_led_output_accuracy: 0.7242 - val_humid_output_accuracy: 0.2802\n",
      "Epoch 17/25\n",
      "288/288 [==============================] - 4s 16ms/step - loss: nan - fan_output_loss: nan - led_output_loss: nan - humid_output_loss: nan - fan_output_accuracy: 0.9710 - led_output_accuracy: 0.7419 - humid_output_accuracy: 0.2677 - val_loss: nan - val_fan_output_loss: nan - val_led_output_loss: nan - val_humid_output_loss: nan - val_fan_output_accuracy: 0.9683 - val_led_output_accuracy: 0.7242 - val_humid_output_accuracy: 0.2802\n",
      "Epoch 18/25\n",
      "288/288 [==============================] - 4s 13ms/step - loss: nan - fan_output_loss: nan - led_output_loss: nan - humid_output_loss: nan - fan_output_accuracy: 0.9710 - led_output_accuracy: 0.7419 - humid_output_accuracy: 0.2677 - val_loss: nan - val_fan_output_loss: nan - val_led_output_loss: nan - val_humid_output_loss: nan - val_fan_output_accuracy: 0.9683 - val_led_output_accuracy: 0.7242 - val_humid_output_accuracy: 0.2802\n",
      "Epoch 19/25\n",
      "288/288 [==============================] - 4s 15ms/step - loss: nan - fan_output_loss: nan - led_output_loss: nan - humid_output_loss: nan - fan_output_accuracy: 0.9710 - led_output_accuracy: 0.7419 - humid_output_accuracy: 0.2677 - val_loss: nan - val_fan_output_loss: nan - val_led_output_loss: nan - val_humid_output_loss: nan - val_fan_output_accuracy: 0.9683 - val_led_output_accuracy: 0.7242 - val_humid_output_accuracy: 0.2802\n",
      "Epoch 20/25\n",
      "288/288 [==============================] - 4s 13ms/step - loss: nan - fan_output_loss: nan - led_output_loss: nan - humid_output_loss: nan - fan_output_accuracy: 0.9710 - led_output_accuracy: 0.7419 - humid_output_accuracy: 0.2677 - val_loss: nan - val_fan_output_loss: nan - val_led_output_loss: nan - val_humid_output_loss: nan - val_fan_output_accuracy: 0.9683 - val_led_output_accuracy: 0.7242 - val_humid_output_accuracy: 0.2802\n",
      "Epoch 21/25\n",
      "288/288 [==============================] - 4s 12ms/step - loss: nan - fan_output_loss: nan - led_output_loss: nan - humid_output_loss: nan - fan_output_accuracy: 0.9710 - led_output_accuracy: 0.7419 - humid_output_accuracy: 0.2677 - val_loss: nan - val_fan_output_loss: nan - val_led_output_loss: nan - val_humid_output_loss: nan - val_fan_output_accuracy: 0.9683 - val_led_output_accuracy: 0.7242 - val_humid_output_accuracy: 0.2802\n",
      "Epoch 22/25\n",
      "288/288 [==============================] - 4s 13ms/step - loss: nan - fan_output_loss: nan - led_output_loss: nan - humid_output_loss: nan - fan_output_accuracy: 0.9710 - led_output_accuracy: 0.7419 - humid_output_accuracy: 0.2677 - val_loss: nan - val_fan_output_loss: nan - val_led_output_loss: nan - val_humid_output_loss: nan - val_fan_output_accuracy: 0.9683 - val_led_output_accuracy: 0.7242 - val_humid_output_accuracy: 0.2802\n",
      "Epoch 23/25\n",
      "288/288 [==============================] - 4s 13ms/step - loss: nan - fan_output_loss: nan - led_output_loss: nan - humid_output_loss: nan - fan_output_accuracy: 0.9710 - led_output_accuracy: 0.7419 - humid_output_accuracy: 0.2677 - val_loss: nan - val_fan_output_loss: nan - val_led_output_loss: nan - val_humid_output_loss: nan - val_fan_output_accuracy: 0.9683 - val_led_output_accuracy: 0.7242 - val_humid_output_accuracy: 0.2802\n",
      "Epoch 24/25\n",
      "288/288 [==============================] - 4s 13ms/step - loss: nan - fan_output_loss: nan - led_output_loss: nan - humid_output_loss: nan - fan_output_accuracy: 0.9710 - led_output_accuracy: 0.7419 - humid_output_accuracy: 0.2677 - val_loss: nan - val_fan_output_loss: nan - val_led_output_loss: nan - val_humid_output_loss: nan - val_fan_output_accuracy: 0.9683 - val_led_output_accuracy: 0.7242 - val_humid_output_accuracy: 0.2802\n",
      "Epoch 25/25\n",
      "288/288 [==============================] - 4s 13ms/step - loss: nan - fan_output_loss: nan - led_output_loss: nan - humid_output_loss: nan - fan_output_accuracy: 0.9710 - led_output_accuracy: 0.7419 - humid_output_accuracy: 0.2677 - val_loss: nan - val_fan_output_loss: nan - val_led_output_loss: nan - val_humid_output_loss: nan - val_fan_output_accuracy: 0.9683 - val_led_output_accuracy: 0.7242 - val_humid_output_accuracy: 0.2802\n"
     ]
    },
    {
     "data": {
      "text/plain": [
       "<keras.callbacks.History at 0x1cfb493be50>"
      ]
     },
     "execution_count": 19,
     "metadata": {},
     "output_type": "execute_result"
    }
   ],
   "execution_count": 19
  },
  {
   "metadata": {
    "ExecuteTime": {
     "end_time": "2024-06-07T17:35:00.794243Z",
     "start_time": "2024-06-07T17:35:00.758235Z"
    }
   },
   "cell_type": "code",
   "source": "",
   "id": "4ad8803cb9e7f787",
   "outputs": [
    {
     "ename": "TypeError",
     "evalue": "'Functional' object is not iterable",
     "output_type": "error",
     "traceback": [
      "\u001B[1;31m---------------------------------------------------------------------------\u001B[0m",
      "\u001B[1;31mTypeError\u001B[0m                                 Traceback (most recent call last)",
      "Cell \u001B[1;32mIn[23], line 1\u001B[0m\n\u001B[1;32m----> 1\u001B[0m \u001B[38;5;28;01mfor\u001B[39;00m i \u001B[38;5;129;01min\u001B[39;00m model:\n\u001B[0;32m      2\u001B[0m     \u001B[38;5;28mprint\u001B[39m(i)\n",
      "\u001B[1;31mTypeError\u001B[0m: 'Functional' object is not iterable"
     ]
    }
   ],
   "execution_count": 23
  },
  {
   "metadata": {},
   "cell_type": "code",
   "outputs": [],
   "execution_count": null,
   "source": "",
   "id": "13d4898202114834"
  }
 ],
 "metadata": {
  "kernelspec": {
   "display_name": "Python 3",
   "language": "python",
   "name": "python3"
  },
  "language_info": {
   "codemirror_mode": {
    "name": "ipython",
    "version": 2
   },
   "file_extension": ".py",
   "mimetype": "text/x-python",
   "name": "python",
   "nbconvert_exporter": "python",
   "pygments_lexer": "ipython2",
   "version": "2.7.6"
  }
 },
 "nbformat": 4,
 "nbformat_minor": 5
}
