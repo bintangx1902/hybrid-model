{
 "cells": [
  {
   "cell_type": "code",
   "id": "initial_id",
   "metadata": {
    "collapsed": true,
    "ExecuteTime": {
     "end_time": "2024-06-09T07:12:51.080602Z",
     "start_time": "2024-06-09T07:12:47.451944Z"
    }
   },
   "source": [
    "from tensorflow.keras.layers import *\n",
    "import tensorflow as tf\n",
    "import numpy as np\n",
    "import pandas as pd\n",
    "from matplotlib import pyplot as plt\n",
    "import seaborn as sns\n",
    "from sklearn.preprocessing import StandardScaler\n",
    "from sklearn.model_selection import train_test_split"
   ],
   "outputs": [],
   "execution_count": 1
  },
  {
   "metadata": {
    "ExecuteTime": {
     "end_time": "2024-06-09T07:12:51.144556Z",
     "start_time": "2024-06-09T07:12:51.083597Z"
    }
   },
   "cell_type": "code",
   "source": "data = pd.read_csv('./dataset/clean-sensors.csv', infer_datetime_format=True, header=0, index_col='datetime')",
   "id": "e85d1f9a53145283",
   "outputs": [
    {
     "name": "stderr",
     "output_type": "stream",
     "text": [
      "C:\\Users\\Bintang\\AppData\\Local\\Temp\\ipykernel_24348\\3182949423.py:1: FutureWarning: The argument 'infer_datetime_format' is deprecated and will be removed in a future version. A strict version of it is now the default, see https://pandas.pydata.org/pdeps/0004-consistent-to-datetime-parsing.html. You can safely remove this argument.\n",
      "  data = pd.read_csv('./dataset/clean-sensors.csv', infer_datetime_format=True, header=0, index_col='datetime')\n"
     ]
    }
   ],
   "execution_count": 2
  },
  {
   "metadata": {
    "ExecuteTime": {
     "end_time": "2024-06-09T07:12:51.176552Z",
     "start_time": "2024-06-09T07:12:51.147553Z"
    }
   },
   "cell_type": "code",
   "source": "data.head()",
   "id": "a6f1b2fb23d31f3b",
   "outputs": [
    {
     "data": {
      "text/plain": [
       "                    Temperature  Humidity  Illumination  kat_temperature  \\\n",
       "datetime                                                                   \n",
       "03/07/2023 0:00:00         28.0        75         76.61                2   \n",
       "03/07/2023 0:01:00         28.0        75         75.33                2   \n",
       "03/07/2023 0:02:00         28.0        75         74.49                2   \n",
       "03/07/2023 0:03:00         28.0        75         74.49                2   \n",
       "03/07/2023 0:04:00         28.0        75         74.49                2   \n",
       "\n",
       "                    kat_humidity  kat_illumination  Kipas  Humidifier  LED  \n",
       "datetime                                                                    \n",
       "03/07/2023 0:00:00             2                 3      0           0    1  \n",
       "03/07/2023 0:01:00             2                 3      0           0    1  \n",
       "03/07/2023 0:02:00             2                 3      0           0    1  \n",
       "03/07/2023 0:03:00             2                 3      0           0    1  \n",
       "03/07/2023 0:04:00             2                 3      0           0    1  "
      ],
      "text/html": [
       "<div>\n",
       "<style scoped>\n",
       "    .dataframe tbody tr th:only-of-type {\n",
       "        vertical-align: middle;\n",
       "    }\n",
       "\n",
       "    .dataframe tbody tr th {\n",
       "        vertical-align: top;\n",
       "    }\n",
       "\n",
       "    .dataframe thead th {\n",
       "        text-align: right;\n",
       "    }\n",
       "</style>\n",
       "<table border=\"1\" class=\"dataframe\">\n",
       "  <thead>\n",
       "    <tr style=\"text-align: right;\">\n",
       "      <th></th>\n",
       "      <th>Temperature</th>\n",
       "      <th>Humidity</th>\n",
       "      <th>Illumination</th>\n",
       "      <th>kat_temperature</th>\n",
       "      <th>kat_humidity</th>\n",
       "      <th>kat_illumination</th>\n",
       "      <th>Kipas</th>\n",
       "      <th>Humidifier</th>\n",
       "      <th>LED</th>\n",
       "    </tr>\n",
       "    <tr>\n",
       "      <th>datetime</th>\n",
       "      <th></th>\n",
       "      <th></th>\n",
       "      <th></th>\n",
       "      <th></th>\n",
       "      <th></th>\n",
       "      <th></th>\n",
       "      <th></th>\n",
       "      <th></th>\n",
       "      <th></th>\n",
       "    </tr>\n",
       "  </thead>\n",
       "  <tbody>\n",
       "    <tr>\n",
       "      <th>03/07/2023 0:00:00</th>\n",
       "      <td>28.0</td>\n",
       "      <td>75</td>\n",
       "      <td>76.61</td>\n",
       "      <td>2</td>\n",
       "      <td>2</td>\n",
       "      <td>3</td>\n",
       "      <td>0</td>\n",
       "      <td>0</td>\n",
       "      <td>1</td>\n",
       "    </tr>\n",
       "    <tr>\n",
       "      <th>03/07/2023 0:01:00</th>\n",
       "      <td>28.0</td>\n",
       "      <td>75</td>\n",
       "      <td>75.33</td>\n",
       "      <td>2</td>\n",
       "      <td>2</td>\n",
       "      <td>3</td>\n",
       "      <td>0</td>\n",
       "      <td>0</td>\n",
       "      <td>1</td>\n",
       "    </tr>\n",
       "    <tr>\n",
       "      <th>03/07/2023 0:02:00</th>\n",
       "      <td>28.0</td>\n",
       "      <td>75</td>\n",
       "      <td>74.49</td>\n",
       "      <td>2</td>\n",
       "      <td>2</td>\n",
       "      <td>3</td>\n",
       "      <td>0</td>\n",
       "      <td>0</td>\n",
       "      <td>1</td>\n",
       "    </tr>\n",
       "    <tr>\n",
       "      <th>03/07/2023 0:03:00</th>\n",
       "      <td>28.0</td>\n",
       "      <td>75</td>\n",
       "      <td>74.49</td>\n",
       "      <td>2</td>\n",
       "      <td>2</td>\n",
       "      <td>3</td>\n",
       "      <td>0</td>\n",
       "      <td>0</td>\n",
       "      <td>1</td>\n",
       "    </tr>\n",
       "    <tr>\n",
       "      <th>03/07/2023 0:04:00</th>\n",
       "      <td>28.0</td>\n",
       "      <td>75</td>\n",
       "      <td>74.49</td>\n",
       "      <td>2</td>\n",
       "      <td>2</td>\n",
       "      <td>3</td>\n",
       "      <td>0</td>\n",
       "      <td>0</td>\n",
       "      <td>1</td>\n",
       "    </tr>\n",
       "  </tbody>\n",
       "</table>\n",
       "</div>"
      ]
     },
     "execution_count": 3,
     "metadata": {},
     "output_type": "execute_result"
    }
   ],
   "execution_count": 3
  },
  {
   "metadata": {
    "ExecuteTime": {
     "end_time": "2024-06-09T07:12:51.192551Z",
     "start_time": "2024-06-09T07:12:51.178550Z"
    }
   },
   "cell_type": "code",
   "source": "data.columns",
   "id": "2c482582294b21d6",
   "outputs": [
    {
     "data": {
      "text/plain": [
       "Index(['Temperature', 'Humidity', 'Illumination', 'kat_temperature',\n",
       "       'kat_humidity', 'kat_illumination', 'Kipas', 'Humidifier', 'LED'],\n",
       "      dtype='object')"
      ]
     },
     "execution_count": 4,
     "metadata": {},
     "output_type": "execute_result"
    }
   ],
   "execution_count": 4
  },
  {
   "metadata": {
    "ExecuteTime": {
     "end_time": "2024-06-09T07:12:51.224558Z",
     "start_time": "2024-06-09T07:12:51.195550Z"
    }
   },
   "cell_type": "code",
   "source": "data.info()",
   "id": "5ba0502c2c8260dd",
   "outputs": [
    {
     "name": "stdout",
     "output_type": "stream",
     "text": [
      "<class 'pandas.core.frame.DataFrame'>\n",
      "Index: 11507 entries, 03/07/2023 0:00:00 to 10/07/2023 23:59:00\n",
      "Data columns (total 9 columns):\n",
      " #   Column            Non-Null Count  Dtype  \n",
      "---  ------            --------------  -----  \n",
      " 0   Temperature       11507 non-null  float64\n",
      " 1   Humidity          11507 non-null  int64  \n",
      " 2   Illumination      11063 non-null  float64\n",
      " 3   kat_temperature   11507 non-null  int64  \n",
      " 4   kat_humidity      11507 non-null  int64  \n",
      " 5   kat_illumination  11507 non-null  int64  \n",
      " 6   Kipas             11507 non-null  int64  \n",
      " 7   Humidifier        11507 non-null  int64  \n",
      " 8   LED               11507 non-null  int64  \n",
      "dtypes: float64(2), int64(7)\n",
      "memory usage: 899.0+ KB\n"
     ]
    }
   ],
   "execution_count": 5
  },
  {
   "metadata": {
    "ExecuteTime": {
     "end_time": "2024-06-09T07:12:51.240554Z",
     "start_time": "2024-06-09T07:12:51.227550Z"
    }
   },
   "cell_type": "code",
   "source": "data = data[[col for col in data.columns if not col.startswith('kat_')]]",
   "id": "9733873346a607bb",
   "outputs": [],
   "execution_count": 6
  },
  {
   "metadata": {
    "ExecuteTime": {
     "end_time": "2024-06-09T07:12:51.288550Z",
     "start_time": "2024-06-09T07:12:51.246553Z"
    }
   },
   "cell_type": "code",
   "source": [
    "stats = data.describe()\n",
    "stats.pop('Kipas')\n",
    "stats.pop('LED') \n",
    "stats.pop('Humidifier')\n",
    "stats = stats.transpose()\n",
    "stats"
   ],
   "id": "8bf63580e7507f23",
   "outputs": [
    {
     "data": {
      "text/plain": [
       "                count        mean         std    min    25%    50%    75%  \\\n",
       "Temperature   11507.0   30.018954    1.249807  27.20  28.90  30.20  30.80   \n",
       "Humidity      11507.0   66.055618    5.500173  51.00  62.00  67.00  70.00   \n",
       "Illumination  11063.0  147.412321  201.545117  28.89  73.24  73.24  76.61   \n",
       "\n",
       "                  max  \n",
       "Temperature     33.30  \n",
       "Humidity        76.00  \n",
       "Illumination  1508.57  "
      ],
      "text/html": [
       "<div>\n",
       "<style scoped>\n",
       "    .dataframe tbody tr th:only-of-type {\n",
       "        vertical-align: middle;\n",
       "    }\n",
       "\n",
       "    .dataframe tbody tr th {\n",
       "        vertical-align: top;\n",
       "    }\n",
       "\n",
       "    .dataframe thead th {\n",
       "        text-align: right;\n",
       "    }\n",
       "</style>\n",
       "<table border=\"1\" class=\"dataframe\">\n",
       "  <thead>\n",
       "    <tr style=\"text-align: right;\">\n",
       "      <th></th>\n",
       "      <th>count</th>\n",
       "      <th>mean</th>\n",
       "      <th>std</th>\n",
       "      <th>min</th>\n",
       "      <th>25%</th>\n",
       "      <th>50%</th>\n",
       "      <th>75%</th>\n",
       "      <th>max</th>\n",
       "    </tr>\n",
       "  </thead>\n",
       "  <tbody>\n",
       "    <tr>\n",
       "      <th>Temperature</th>\n",
       "      <td>11507.0</td>\n",
       "      <td>30.018954</td>\n",
       "      <td>1.249807</td>\n",
       "      <td>27.20</td>\n",
       "      <td>28.90</td>\n",
       "      <td>30.20</td>\n",
       "      <td>30.80</td>\n",
       "      <td>33.30</td>\n",
       "    </tr>\n",
       "    <tr>\n",
       "      <th>Humidity</th>\n",
       "      <td>11507.0</td>\n",
       "      <td>66.055618</td>\n",
       "      <td>5.500173</td>\n",
       "      <td>51.00</td>\n",
       "      <td>62.00</td>\n",
       "      <td>67.00</td>\n",
       "      <td>70.00</td>\n",
       "      <td>76.00</td>\n",
       "    </tr>\n",
       "    <tr>\n",
       "      <th>Illumination</th>\n",
       "      <td>11063.0</td>\n",
       "      <td>147.412321</td>\n",
       "      <td>201.545117</td>\n",
       "      <td>28.89</td>\n",
       "      <td>73.24</td>\n",
       "      <td>73.24</td>\n",
       "      <td>76.61</td>\n",
       "      <td>1508.57</td>\n",
       "    </tr>\n",
       "  </tbody>\n",
       "</table>\n",
       "</div>"
      ]
     },
     "execution_count": 7,
     "metadata": {},
     "output_type": "execute_result"
    }
   ],
   "execution_count": 7
  },
  {
   "metadata": {
    "ExecuteTime": {
     "end_time": "2024-06-09T07:12:51.303560Z",
     "start_time": "2024-06-09T07:12:51.290550Z"
    }
   },
   "cell_type": "code",
   "source": "train, test = train_test_split(data, test_size=.2, random_state=1)",
   "id": "7469d247ab6d73b1",
   "outputs": [],
   "execution_count": 8
  },
  {
   "metadata": {
    "ExecuteTime": {
     "end_time": "2024-06-09T07:12:51.319557Z",
     "start_time": "2024-06-09T07:12:51.305576Z"
    }
   },
   "cell_type": "code",
   "source": [
    "def format_output(data):\n",
    "    fan = np.array(data.pop('Kipas'))\n",
    "    humid = np.array(data.pop('Humidifier'))\n",
    "    led = np.array(data.pop('LED'))\n",
    "    return fan, humid, led    "
   ],
   "id": "3e8155928e77ac46",
   "outputs": [],
   "execution_count": 9
  },
  {
   "metadata": {
    "ExecuteTime": {
     "end_time": "2024-06-09T07:12:51.335557Z",
     "start_time": "2024-06-09T07:12:51.321559Z"
    }
   },
   "cell_type": "code",
   "source": [
    "train_label = format_output(train)\n",
    "test_label = format_output(test)"
   ],
   "id": "2f2f1ef8765cc10f",
   "outputs": [],
   "execution_count": 10
  },
  {
   "metadata": {
    "ExecuteTime": {
     "end_time": "2024-06-09T07:12:51.350553Z",
     "start_time": "2024-06-09T07:12:51.338554Z"
    }
   },
   "cell_type": "code",
   "source": "train_label",
   "id": "d3d9a773bc013571",
   "outputs": [
    {
     "data": {
      "text/plain": [
       "(array([0, 0, 0, ..., 0, 0, 0], dtype=int64),\n",
       " array([0, 0, 0, ..., 1, 0, 0], dtype=int64),\n",
       " array([0, 1, 0, ..., 1, 1, 0], dtype=int64))"
      ]
     },
     "execution_count": 11,
     "metadata": {},
     "output_type": "execute_result"
    }
   ],
   "execution_count": 11
  },
  {
   "metadata": {
    "ExecuteTime": {
     "end_time": "2024-06-09T07:12:51.366559Z",
     "start_time": "2024-06-09T07:12:51.354550Z"
    }
   },
   "cell_type": "code",
   "source": "len(train_label[0]) == len(train)",
   "id": "8e8dc4d8016454a2",
   "outputs": [
    {
     "data": {
      "text/plain": [
       "True"
      ]
     },
     "execution_count": 12,
     "metadata": {},
     "output_type": "execute_result"
    }
   ],
   "execution_count": 12
  },
  {
   "metadata": {
    "ExecuteTime": {
     "end_time": "2024-06-09T07:12:51.382555Z",
     "start_time": "2024-06-09T07:12:51.368551Z"
    }
   },
   "cell_type": "code",
   "source": [
    "scaler = StandardScaler()\n",
    "scaler.fit(train)"
   ],
   "id": "fe6edd6aa91c23e8",
   "outputs": [
    {
     "data": {
      "text/plain": [
       "StandardScaler()"
      ],
      "text/html": [
       "<style>#sk-container-id-1 {\n",
       "  /* Definition of color scheme common for light and dark mode */\n",
       "  --sklearn-color-text: black;\n",
       "  --sklearn-color-line: gray;\n",
       "  /* Definition of color scheme for unfitted estimators */\n",
       "  --sklearn-color-unfitted-level-0: #fff5e6;\n",
       "  --sklearn-color-unfitted-level-1: #f6e4d2;\n",
       "  --sklearn-color-unfitted-level-2: #ffe0b3;\n",
       "  --sklearn-color-unfitted-level-3: chocolate;\n",
       "  /* Definition of color scheme for fitted estimators */\n",
       "  --sklearn-color-fitted-level-0: #f0f8ff;\n",
       "  --sklearn-color-fitted-level-1: #d4ebff;\n",
       "  --sklearn-color-fitted-level-2: #b3dbfd;\n",
       "  --sklearn-color-fitted-level-3: cornflowerblue;\n",
       "\n",
       "  /* Specific color for light theme */\n",
       "  --sklearn-color-text-on-default-background: var(--sg-text-color, var(--theme-code-foreground, var(--jp-content-font-color1, black)));\n",
       "  --sklearn-color-background: var(--sg-background-color, var(--theme-background, var(--jp-layout-color0, white)));\n",
       "  --sklearn-color-border-box: var(--sg-text-color, var(--theme-code-foreground, var(--jp-content-font-color1, black)));\n",
       "  --sklearn-color-icon: #696969;\n",
       "\n",
       "  @media (prefers-color-scheme: dark) {\n",
       "    /* Redefinition of color scheme for dark theme */\n",
       "    --sklearn-color-text-on-default-background: var(--sg-text-color, var(--theme-code-foreground, var(--jp-content-font-color1, white)));\n",
       "    --sklearn-color-background: var(--sg-background-color, var(--theme-background, var(--jp-layout-color0, #111)));\n",
       "    --sklearn-color-border-box: var(--sg-text-color, var(--theme-code-foreground, var(--jp-content-font-color1, white)));\n",
       "    --sklearn-color-icon: #878787;\n",
       "  }\n",
       "}\n",
       "\n",
       "#sk-container-id-1 {\n",
       "  color: var(--sklearn-color-text);\n",
       "}\n",
       "\n",
       "#sk-container-id-1 pre {\n",
       "  padding: 0;\n",
       "}\n",
       "\n",
       "#sk-container-id-1 input.sk-hidden--visually {\n",
       "  border: 0;\n",
       "  clip: rect(1px 1px 1px 1px);\n",
       "  clip: rect(1px, 1px, 1px, 1px);\n",
       "  height: 1px;\n",
       "  margin: -1px;\n",
       "  overflow: hidden;\n",
       "  padding: 0;\n",
       "  position: absolute;\n",
       "  width: 1px;\n",
       "}\n",
       "\n",
       "#sk-container-id-1 div.sk-dashed-wrapped {\n",
       "  border: 1px dashed var(--sklearn-color-line);\n",
       "  margin: 0 0.4em 0.5em 0.4em;\n",
       "  box-sizing: border-box;\n",
       "  padding-bottom: 0.4em;\n",
       "  background-color: var(--sklearn-color-background);\n",
       "}\n",
       "\n",
       "#sk-container-id-1 div.sk-container {\n",
       "  /* jupyter's `normalize.less` sets `[hidden] { display: none; }`\n",
       "     but bootstrap.min.css set `[hidden] { display: none !important; }`\n",
       "     so we also need the `!important` here to be able to override the\n",
       "     default hidden behavior on the sphinx rendered scikit-learn.org.\n",
       "     See: https://github.com/scikit-learn/scikit-learn/issues/21755 */\n",
       "  display: inline-block !important;\n",
       "  position: relative;\n",
       "}\n",
       "\n",
       "#sk-container-id-1 div.sk-text-repr-fallback {\n",
       "  display: none;\n",
       "}\n",
       "\n",
       "div.sk-parallel-item,\n",
       "div.sk-serial,\n",
       "div.sk-item {\n",
       "  /* draw centered vertical line to link estimators */\n",
       "  background-image: linear-gradient(var(--sklearn-color-text-on-default-background), var(--sklearn-color-text-on-default-background));\n",
       "  background-size: 2px 100%;\n",
       "  background-repeat: no-repeat;\n",
       "  background-position: center center;\n",
       "}\n",
       "\n",
       "/* Parallel-specific style estimator block */\n",
       "\n",
       "#sk-container-id-1 div.sk-parallel-item::after {\n",
       "  content: \"\";\n",
       "  width: 100%;\n",
       "  border-bottom: 2px solid var(--sklearn-color-text-on-default-background);\n",
       "  flex-grow: 1;\n",
       "}\n",
       "\n",
       "#sk-container-id-1 div.sk-parallel {\n",
       "  display: flex;\n",
       "  align-items: stretch;\n",
       "  justify-content: center;\n",
       "  background-color: var(--sklearn-color-background);\n",
       "  position: relative;\n",
       "}\n",
       "\n",
       "#sk-container-id-1 div.sk-parallel-item {\n",
       "  display: flex;\n",
       "  flex-direction: column;\n",
       "}\n",
       "\n",
       "#sk-container-id-1 div.sk-parallel-item:first-child::after {\n",
       "  align-self: flex-end;\n",
       "  width: 50%;\n",
       "}\n",
       "\n",
       "#sk-container-id-1 div.sk-parallel-item:last-child::after {\n",
       "  align-self: flex-start;\n",
       "  width: 50%;\n",
       "}\n",
       "\n",
       "#sk-container-id-1 div.sk-parallel-item:only-child::after {\n",
       "  width: 0;\n",
       "}\n",
       "\n",
       "/* Serial-specific style estimator block */\n",
       "\n",
       "#sk-container-id-1 div.sk-serial {\n",
       "  display: flex;\n",
       "  flex-direction: column;\n",
       "  align-items: center;\n",
       "  background-color: var(--sklearn-color-background);\n",
       "  padding-right: 1em;\n",
       "  padding-left: 1em;\n",
       "}\n",
       "\n",
       "\n",
       "/* Toggleable style: style used for estimator/Pipeline/ColumnTransformer box that is\n",
       "clickable and can be expanded/collapsed.\n",
       "- Pipeline and ColumnTransformer use this feature and define the default style\n",
       "- Estimators will overwrite some part of the style using the `sk-estimator` class\n",
       "*/\n",
       "\n",
       "/* Pipeline and ColumnTransformer style (default) */\n",
       "\n",
       "#sk-container-id-1 div.sk-toggleable {\n",
       "  /* Default theme specific background. It is overwritten whether we have a\n",
       "  specific estimator or a Pipeline/ColumnTransformer */\n",
       "  background-color: var(--sklearn-color-background);\n",
       "}\n",
       "\n",
       "/* Toggleable label */\n",
       "#sk-container-id-1 label.sk-toggleable__label {\n",
       "  cursor: pointer;\n",
       "  display: block;\n",
       "  width: 100%;\n",
       "  margin-bottom: 0;\n",
       "  padding: 0.5em;\n",
       "  box-sizing: border-box;\n",
       "  text-align: center;\n",
       "}\n",
       "\n",
       "#sk-container-id-1 label.sk-toggleable__label-arrow:before {\n",
       "  /* Arrow on the left of the label */\n",
       "  content: \"▸\";\n",
       "  float: left;\n",
       "  margin-right: 0.25em;\n",
       "  color: var(--sklearn-color-icon);\n",
       "}\n",
       "\n",
       "#sk-container-id-1 label.sk-toggleable__label-arrow:hover:before {\n",
       "  color: var(--sklearn-color-text);\n",
       "}\n",
       "\n",
       "/* Toggleable content - dropdown */\n",
       "\n",
       "#sk-container-id-1 div.sk-toggleable__content {\n",
       "  max-height: 0;\n",
       "  max-width: 0;\n",
       "  overflow: hidden;\n",
       "  text-align: left;\n",
       "  /* unfitted */\n",
       "  background-color: var(--sklearn-color-unfitted-level-0);\n",
       "}\n",
       "\n",
       "#sk-container-id-1 div.sk-toggleable__content.fitted {\n",
       "  /* fitted */\n",
       "  background-color: var(--sklearn-color-fitted-level-0);\n",
       "}\n",
       "\n",
       "#sk-container-id-1 div.sk-toggleable__content pre {\n",
       "  margin: 0.2em;\n",
       "  border-radius: 0.25em;\n",
       "  color: var(--sklearn-color-text);\n",
       "  /* unfitted */\n",
       "  background-color: var(--sklearn-color-unfitted-level-0);\n",
       "}\n",
       "\n",
       "#sk-container-id-1 div.sk-toggleable__content.fitted pre {\n",
       "  /* unfitted */\n",
       "  background-color: var(--sklearn-color-fitted-level-0);\n",
       "}\n",
       "\n",
       "#sk-container-id-1 input.sk-toggleable__control:checked~div.sk-toggleable__content {\n",
       "  /* Expand drop-down */\n",
       "  max-height: 200px;\n",
       "  max-width: 100%;\n",
       "  overflow: auto;\n",
       "}\n",
       "\n",
       "#sk-container-id-1 input.sk-toggleable__control:checked~label.sk-toggleable__label-arrow:before {\n",
       "  content: \"▾\";\n",
       "}\n",
       "\n",
       "/* Pipeline/ColumnTransformer-specific style */\n",
       "\n",
       "#sk-container-id-1 div.sk-label input.sk-toggleable__control:checked~label.sk-toggleable__label {\n",
       "  color: var(--sklearn-color-text);\n",
       "  background-color: var(--sklearn-color-unfitted-level-2);\n",
       "}\n",
       "\n",
       "#sk-container-id-1 div.sk-label.fitted input.sk-toggleable__control:checked~label.sk-toggleable__label {\n",
       "  background-color: var(--sklearn-color-fitted-level-2);\n",
       "}\n",
       "\n",
       "/* Estimator-specific style */\n",
       "\n",
       "/* Colorize estimator box */\n",
       "#sk-container-id-1 div.sk-estimator input.sk-toggleable__control:checked~label.sk-toggleable__label {\n",
       "  /* unfitted */\n",
       "  background-color: var(--sklearn-color-unfitted-level-2);\n",
       "}\n",
       "\n",
       "#sk-container-id-1 div.sk-estimator.fitted input.sk-toggleable__control:checked~label.sk-toggleable__label {\n",
       "  /* fitted */\n",
       "  background-color: var(--sklearn-color-fitted-level-2);\n",
       "}\n",
       "\n",
       "#sk-container-id-1 div.sk-label label.sk-toggleable__label,\n",
       "#sk-container-id-1 div.sk-label label {\n",
       "  /* The background is the default theme color */\n",
       "  color: var(--sklearn-color-text-on-default-background);\n",
       "}\n",
       "\n",
       "/* On hover, darken the color of the background */\n",
       "#sk-container-id-1 div.sk-label:hover label.sk-toggleable__label {\n",
       "  color: var(--sklearn-color-text);\n",
       "  background-color: var(--sklearn-color-unfitted-level-2);\n",
       "}\n",
       "\n",
       "/* Label box, darken color on hover, fitted */\n",
       "#sk-container-id-1 div.sk-label.fitted:hover label.sk-toggleable__label.fitted {\n",
       "  color: var(--sklearn-color-text);\n",
       "  background-color: var(--sklearn-color-fitted-level-2);\n",
       "}\n",
       "\n",
       "/* Estimator label */\n",
       "\n",
       "#sk-container-id-1 div.sk-label label {\n",
       "  font-family: monospace;\n",
       "  font-weight: bold;\n",
       "  display: inline-block;\n",
       "  line-height: 1.2em;\n",
       "}\n",
       "\n",
       "#sk-container-id-1 div.sk-label-container {\n",
       "  text-align: center;\n",
       "}\n",
       "\n",
       "/* Estimator-specific */\n",
       "#sk-container-id-1 div.sk-estimator {\n",
       "  font-family: monospace;\n",
       "  border: 1px dotted var(--sklearn-color-border-box);\n",
       "  border-radius: 0.25em;\n",
       "  box-sizing: border-box;\n",
       "  margin-bottom: 0.5em;\n",
       "  /* unfitted */\n",
       "  background-color: var(--sklearn-color-unfitted-level-0);\n",
       "}\n",
       "\n",
       "#sk-container-id-1 div.sk-estimator.fitted {\n",
       "  /* fitted */\n",
       "  background-color: var(--sklearn-color-fitted-level-0);\n",
       "}\n",
       "\n",
       "/* on hover */\n",
       "#sk-container-id-1 div.sk-estimator:hover {\n",
       "  /* unfitted */\n",
       "  background-color: var(--sklearn-color-unfitted-level-2);\n",
       "}\n",
       "\n",
       "#sk-container-id-1 div.sk-estimator.fitted:hover {\n",
       "  /* fitted */\n",
       "  background-color: var(--sklearn-color-fitted-level-2);\n",
       "}\n",
       "\n",
       "/* Specification for estimator info (e.g. \"i\" and \"?\") */\n",
       "\n",
       "/* Common style for \"i\" and \"?\" */\n",
       "\n",
       ".sk-estimator-doc-link,\n",
       "a:link.sk-estimator-doc-link,\n",
       "a:visited.sk-estimator-doc-link {\n",
       "  float: right;\n",
       "  font-size: smaller;\n",
       "  line-height: 1em;\n",
       "  font-family: monospace;\n",
       "  background-color: var(--sklearn-color-background);\n",
       "  border-radius: 1em;\n",
       "  height: 1em;\n",
       "  width: 1em;\n",
       "  text-decoration: none !important;\n",
       "  margin-left: 1ex;\n",
       "  /* unfitted */\n",
       "  border: var(--sklearn-color-unfitted-level-1) 1pt solid;\n",
       "  color: var(--sklearn-color-unfitted-level-1);\n",
       "}\n",
       "\n",
       ".sk-estimator-doc-link.fitted,\n",
       "a:link.sk-estimator-doc-link.fitted,\n",
       "a:visited.sk-estimator-doc-link.fitted {\n",
       "  /* fitted */\n",
       "  border: var(--sklearn-color-fitted-level-1) 1pt solid;\n",
       "  color: var(--sklearn-color-fitted-level-1);\n",
       "}\n",
       "\n",
       "/* On hover */\n",
       "div.sk-estimator:hover .sk-estimator-doc-link:hover,\n",
       ".sk-estimator-doc-link:hover,\n",
       "div.sk-label-container:hover .sk-estimator-doc-link:hover,\n",
       ".sk-estimator-doc-link:hover {\n",
       "  /* unfitted */\n",
       "  background-color: var(--sklearn-color-unfitted-level-3);\n",
       "  color: var(--sklearn-color-background);\n",
       "  text-decoration: none;\n",
       "}\n",
       "\n",
       "div.sk-estimator.fitted:hover .sk-estimator-doc-link.fitted:hover,\n",
       ".sk-estimator-doc-link.fitted:hover,\n",
       "div.sk-label-container:hover .sk-estimator-doc-link.fitted:hover,\n",
       ".sk-estimator-doc-link.fitted:hover {\n",
       "  /* fitted */\n",
       "  background-color: var(--sklearn-color-fitted-level-3);\n",
       "  color: var(--sklearn-color-background);\n",
       "  text-decoration: none;\n",
       "}\n",
       "\n",
       "/* Span, style for the box shown on hovering the info icon */\n",
       ".sk-estimator-doc-link span {\n",
       "  display: none;\n",
       "  z-index: 9999;\n",
       "  position: relative;\n",
       "  font-weight: normal;\n",
       "  right: .2ex;\n",
       "  padding: .5ex;\n",
       "  margin: .5ex;\n",
       "  width: min-content;\n",
       "  min-width: 20ex;\n",
       "  max-width: 50ex;\n",
       "  color: var(--sklearn-color-text);\n",
       "  box-shadow: 2pt 2pt 4pt #999;\n",
       "  /* unfitted */\n",
       "  background: var(--sklearn-color-unfitted-level-0);\n",
       "  border: .5pt solid var(--sklearn-color-unfitted-level-3);\n",
       "}\n",
       "\n",
       ".sk-estimator-doc-link.fitted span {\n",
       "  /* fitted */\n",
       "  background: var(--sklearn-color-fitted-level-0);\n",
       "  border: var(--sklearn-color-fitted-level-3);\n",
       "}\n",
       "\n",
       ".sk-estimator-doc-link:hover span {\n",
       "  display: block;\n",
       "}\n",
       "\n",
       "/* \"?\"-specific style due to the `<a>` HTML tag */\n",
       "\n",
       "#sk-container-id-1 a.estimator_doc_link {\n",
       "  float: right;\n",
       "  font-size: 1rem;\n",
       "  line-height: 1em;\n",
       "  font-family: monospace;\n",
       "  background-color: var(--sklearn-color-background);\n",
       "  border-radius: 1rem;\n",
       "  height: 1rem;\n",
       "  width: 1rem;\n",
       "  text-decoration: none;\n",
       "  /* unfitted */\n",
       "  color: var(--sklearn-color-unfitted-level-1);\n",
       "  border: var(--sklearn-color-unfitted-level-1) 1pt solid;\n",
       "}\n",
       "\n",
       "#sk-container-id-1 a.estimator_doc_link.fitted {\n",
       "  /* fitted */\n",
       "  border: var(--sklearn-color-fitted-level-1) 1pt solid;\n",
       "  color: var(--sklearn-color-fitted-level-1);\n",
       "}\n",
       "\n",
       "/* On hover */\n",
       "#sk-container-id-1 a.estimator_doc_link:hover {\n",
       "  /* unfitted */\n",
       "  background-color: var(--sklearn-color-unfitted-level-3);\n",
       "  color: var(--sklearn-color-background);\n",
       "  text-decoration: none;\n",
       "}\n",
       "\n",
       "#sk-container-id-1 a.estimator_doc_link.fitted:hover {\n",
       "  /* fitted */\n",
       "  background-color: var(--sklearn-color-fitted-level-3);\n",
       "}\n",
       "</style><div id=\"sk-container-id-1\" class=\"sk-top-container\"><div class=\"sk-text-repr-fallback\"><pre>StandardScaler()</pre><b>In a Jupyter environment, please rerun this cell to show the HTML representation or trust the notebook. <br />On GitHub, the HTML representation is unable to render, please try loading this page with nbviewer.org.</b></div><div class=\"sk-container\" hidden><div class=\"sk-item\"><div class=\"sk-estimator fitted sk-toggleable\"><input class=\"sk-toggleable__control sk-hidden--visually\" id=\"sk-estimator-id-1\" type=\"checkbox\" checked><label for=\"sk-estimator-id-1\" class=\"sk-toggleable__label fitted sk-toggleable__label-arrow fitted\">&nbsp;&nbsp;StandardScaler<a class=\"sk-estimator-doc-link fitted\" rel=\"noreferrer\" target=\"_blank\" href=\"https://scikit-learn.org/1.4/modules/generated/sklearn.preprocessing.StandardScaler.html\">?<span>Documentation for StandardScaler</span></a><span class=\"sk-estimator-doc-link fitted\">i<span>Fitted</span></span></label><div class=\"sk-toggleable__content fitted\"><pre>StandardScaler()</pre></div> </div></div></div></div>"
      ]
     },
     "execution_count": 13,
     "metadata": {},
     "output_type": "execute_result"
    }
   ],
   "execution_count": 13
  },
  {
   "metadata": {
    "ExecuteTime": {
     "end_time": "2024-06-09T07:12:51.398553Z",
     "start_time": "2024-06-09T07:12:51.385550Z"
    }
   },
   "cell_type": "code",
   "source": [
    "x_train = scaler.transform(train)\n",
    "x_test = scaler.transform(test)"
   ],
   "id": "c1d98415322a3d32",
   "outputs": [],
   "execution_count": 14
  },
  {
   "metadata": {
    "ExecuteTime": {
     "end_time": "2024-06-09T07:12:51.414560Z",
     "start_time": "2024-06-09T07:12:51.400552Z"
    }
   },
   "cell_type": "code",
   "source": "x_train",
   "id": "2d83fb7b0abf298e",
   "outputs": [
    {
     "data": {
      "text/plain": [
       "array([[-0.8958881 ,  0.71388536, -0.37880097],\n",
       "       [-0.57439694,  0.89633573, -0.36430899],\n",
       "       [-0.8958881 ,  0.71388536, -0.376767  ],\n",
       "       ...,\n",
       "       [ 1.43492276, -1.47551901, -0.35368154],\n",
       "       [-0.57439694,  0.89633573, -0.36644465],\n",
       "       [ 0.63119488,  0.16653427,  1.8292167 ]])"
      ]
     },
     "execution_count": 15,
     "metadata": {},
     "output_type": "execute_result"
    }
   ],
   "execution_count": 15
  },
  {
   "metadata": {
    "ExecuteTime": {
     "end_time": "2024-06-09T07:12:51.430553Z",
     "start_time": "2024-06-09T07:12:51.417549Z"
    }
   },
   "cell_type": "code",
   "source": [
    "print(\"Shape of x_train before reshaping:\", x_train.shape)\n",
    "print(\"Shape of x_test before reshaping:\", x_test.shape)\n",
    "\n",
    "# Reshape the data to be 3D for LSTM input\n",
    "x_train = x_train.reshape((x_train.shape[0], 1, x_train.shape[1]))\n",
    "x_test = x_test.reshape((x_test.shape[0], 1, x_test.shape[1]))\n",
    "\n",
    "# Check the shape after reshaping\n",
    "print(\"Shape of x_train after reshaping:\", x_train.shape)\n",
    "print(\"Shape of x_test after reshaping:\", x_test.shape)\n"
   ],
   "id": "c9ec0aab05c8a57d",
   "outputs": [
    {
     "name": "stdout",
     "output_type": "stream",
     "text": [
      "Shape of x_train before reshaping: (9205, 3)\n",
      "Shape of x_test before reshaping: (2302, 3)\n",
      "Shape of x_train after reshaping: (9205, 1, 3)\n",
      "Shape of x_test after reshaping: (2302, 1, 3)\n"
     ]
    }
   ],
   "execution_count": 16
  },
  {
   "metadata": {
    "ExecuteTime": {
     "end_time": "2024-06-09T07:12:51.462557Z",
     "start_time": "2024-06-09T07:12:51.434553Z"
    }
   },
   "cell_type": "code",
   "source": [
    "inputs = Input(shape=(x_train.shape[1], x_train.shape[2]))\n",
    "bc = tf.keras.losses.BinaryCrossentropy()\n",
    "opt = tf.keras.optimizers.SGD(learning_rate=.0001, momentum=.9)"
   ],
   "id": "442aaac6ee713e14",
   "outputs": [],
   "execution_count": 17
  },
  {
   "metadata": {},
   "cell_type": "markdown",
   "source": "# Siamese neural network",
   "id": "b274ed32d7e4f729"
  },
  {
   "metadata": {
    "ExecuteTime": {
     "end_time": "2024-06-09T07:12:51.478569Z",
     "start_time": "2024-06-09T07:12:51.465557Z"
    }
   },
   "cell_type": "code",
   "source": [
    "def base_model(input_layer):\n",
    "    x = Conv1D(32, 5, 1, 'causal', activation='relu')(input_layer)\n",
    "    x = LSTM(64, return_sequences=True)(x)\n",
    "    x = LSTM(64, return_sequences=True)(x)\n",
    "    x = Flatten()(x)\n",
    "    x = Dense(64, activation='relu')(x)\n",
    "    return x\n",
    "    "
   ],
   "id": "7aacfcca24562f7f",
   "outputs": [],
   "execution_count": 18
  },
  {
   "metadata": {
    "ExecuteTime": {
     "end_time": "2024-06-09T07:12:51.494551Z",
     "start_time": "2024-06-09T07:12:51.482554Z"
    }
   },
   "cell_type": "code",
   "source": [
    "def final_model(input_layer):\n",
    "    x = base_model(input_layer)\n",
    "    fan_output = Dense(1, activation='sigmoid', name='fan_output')(x)\n",
    "    led_output = Dense(1, activation='sigmoid', name='led_output')(x)   \n",
    "    humid = Dense(1, activation='sigmoid', name='humid_output')(x)\n",
    "    return tf.keras.Model(inputs=input_layer, outputs=[fan_output, led_output, humid])"
   ],
   "id": "f89e572867fcd4bc",
   "outputs": [],
   "execution_count": 19
  },
  {
   "metadata": {
    "ExecuteTime": {
     "end_time": "2024-06-09T07:12:54.690928Z",
     "start_time": "2024-06-09T07:12:51.497557Z"
    }
   },
   "cell_type": "code",
   "source": [
    "model = final_model(inputs)\n",
    "model.compile(\n",
    "    loss= {\n",
    "        'fan_output': bc, \n",
    "        'led_output': bc, \n",
    "        'humid_output': bc, \n",
    "    },\n",
    "    optimizer=opt,\n",
    "    metrics={\n",
    "        'fan_output': 'accuracy', \n",
    "        'led_output': 'accuracy', \n",
    "        'humid_output': 'accuracy',\n",
    "    }\n",
    ")"
   ],
   "id": "318437a5447110fd",
   "outputs": [],
   "execution_count": 20
  },
  {
   "metadata": {
    "ExecuteTime": {
     "end_time": "2024-06-09T07:14:44.454686Z",
     "start_time": "2024-06-09T07:14:44.257883Z"
    }
   },
   "cell_type": "code",
   "source": "tf.keras.utils.plot_model(model, show_shapes=True)",
   "id": "f0730a34e3bf28b0",
   "outputs": [
    {
     "data": {
      "image/png": "[encoded data removed]",
      "text/plain": [
       "<IPython.core.display.Image object>"
      ]
     },
     "execution_count": 26,
     "metadata": {},
     "output_type": "execute_result"
    }
   ],
   "execution_count": 26
  },
  {
   "metadata": {
    "ExecuteTime": {
     "end_time": "2024-06-09T07:14:41.932385Z",
     "start_time": "2024-06-09T07:12:55.455933Z"
    }
   },
   "cell_type": "code",
   "source": [
    "H = model.fit(\n",
    "    x=x_train,\n",
    "    y=train_label,\n",
    "    epochs=25,\n",
    "    # validation_data=(x_test, test_label),\n",
    "    validation_split=.2,\n",
    "    verbose=2\n",
    ")"
   ],
   "id": "2a35867326a92bd",
   "outputs": [
    {
     "name": "stdout",
     "output_type": "stream",
     "text": [
      "Epoch 1/25\n",
      "231/231 - 10s - loss: nan - fan_output_loss: nan - led_output_loss: nan - humid_output_loss: nan - fan_output_accuracy: 0.9667 - led_output_accuracy: 0.7397 - humid_output_accuracy: 0.2720 - val_loss: nan - val_fan_output_loss: nan - val_led_output_loss: nan - val_humid_output_loss: nan - val_fan_output_accuracy: 0.9772 - val_led_output_accuracy: 0.7507 - val_humid_output_accuracy: 0.2553 - 10s/epoch - 42ms/step\n",
      "Epoch 2/25\n",
      "231/231 - 3s - loss: nan - fan_output_loss: nan - led_output_loss: nan - humid_output_loss: nan - fan_output_accuracy: 0.9694 - led_output_accuracy: 0.7397 - humid_output_accuracy: 0.2708 - val_loss: nan - val_fan_output_loss: nan - val_led_output_loss: nan - val_humid_output_loss: nan - val_fan_output_accuracy: 0.9772 - val_led_output_accuracy: 0.7507 - val_humid_output_accuracy: 0.2553 - 3s/epoch - 14ms/step\n",
      "Epoch 3/25\n",
      "231/231 - 6s - loss: nan - fan_output_loss: nan - led_output_loss: nan - humid_output_loss: nan - fan_output_accuracy: 0.9694 - led_output_accuracy: 0.7397 - humid_output_accuracy: 0.2708 - val_loss: nan - val_fan_output_loss: nan - val_led_output_loss: nan - val_humid_output_loss: nan - val_fan_output_accuracy: 0.9772 - val_led_output_accuracy: 0.7507 - val_humid_output_accuracy: 0.2553 - 6s/epoch - 28ms/step\n",
      "Epoch 4/25\n",
      "231/231 - 4s - loss: nan - fan_output_loss: nan - led_output_loss: nan - humid_output_loss: nan - fan_output_accuracy: 0.9694 - led_output_accuracy: 0.7397 - humid_output_accuracy: 0.2708 - val_loss: nan - val_fan_output_loss: nan - val_led_output_loss: nan - val_humid_output_loss: nan - val_fan_output_accuracy: 0.9772 - val_led_output_accuracy: 0.7507 - val_humid_output_accuracy: 0.2553 - 4s/epoch - 19ms/step\n",
      "Epoch 5/25\n",
      "231/231 - 4s - loss: nan - fan_output_loss: nan - led_output_loss: nan - humid_output_loss: nan - fan_output_accuracy: 0.9694 - led_output_accuracy: 0.7397 - humid_output_accuracy: 0.2708 - val_loss: nan - val_fan_output_loss: nan - val_led_output_loss: nan - val_humid_output_loss: nan - val_fan_output_accuracy: 0.9772 - val_led_output_accuracy: 0.7507 - val_humid_output_accuracy: 0.2553 - 4s/epoch - 18ms/step\n",
      "Epoch 6/25\n",
      "231/231 - 4s - loss: nan - fan_output_loss: nan - led_output_loss: nan - humid_output_loss: nan - fan_output_accuracy: 0.9694 - led_output_accuracy: 0.7397 - humid_output_accuracy: 0.2708 - val_loss: nan - val_fan_output_loss: nan - val_led_output_loss: nan - val_humid_output_loss: nan - val_fan_output_accuracy: 0.9772 - val_led_output_accuracy: 0.7507 - val_humid_output_accuracy: 0.2553 - 4s/epoch - 17ms/step\n",
      "Epoch 7/25\n",
      "231/231 - 4s - loss: nan - fan_output_loss: nan - led_output_loss: nan - humid_output_loss: nan - fan_output_accuracy: 0.9694 - led_output_accuracy: 0.7397 - humid_output_accuracy: 0.2708 - val_loss: nan - val_fan_output_loss: nan - val_led_output_loss: nan - val_humid_output_loss: nan - val_fan_output_accuracy: 0.9772 - val_led_output_accuracy: 0.7507 - val_humid_output_accuracy: 0.2553 - 4s/epoch - 18ms/step\n",
      "Epoch 8/25\n",
      "231/231 - 4s - loss: nan - fan_output_loss: nan - led_output_loss: nan - humid_output_loss: nan - fan_output_accuracy: 0.9694 - led_output_accuracy: 0.7397 - humid_output_accuracy: 0.2708 - val_loss: nan - val_fan_output_loss: nan - val_led_output_loss: nan - val_humid_output_loss: nan - val_fan_output_accuracy: 0.9772 - val_led_output_accuracy: 0.7507 - val_humid_output_accuracy: 0.2553 - 4s/epoch - 17ms/step\n",
      "Epoch 9/25\n",
      "231/231 - 3s - loss: nan - fan_output_loss: nan - led_output_loss: nan - humid_output_loss: nan - fan_output_accuracy: 0.9694 - led_output_accuracy: 0.7397 - humid_output_accuracy: 0.2708 - val_loss: nan - val_fan_output_loss: nan - val_led_output_loss: nan - val_humid_output_loss: nan - val_fan_output_accuracy: 0.9772 - val_led_output_accuracy: 0.7507 - val_humid_output_accuracy: 0.2553 - 3s/epoch - 15ms/step\n",
      "Epoch 10/25\n",
      "231/231 - 4s - loss: nan - fan_output_loss: nan - led_output_loss: nan - humid_output_loss: nan - fan_output_accuracy: 0.9694 - led_output_accuracy: 0.7397 - humid_output_accuracy: 0.2708 - val_loss: nan - val_fan_output_loss: nan - val_led_output_loss: nan - val_humid_output_loss: nan - val_fan_output_accuracy: 0.9772 - val_led_output_accuracy: 0.7507 - val_humid_output_accuracy: 0.2553 - 4s/epoch - 16ms/step\n",
      "Epoch 11/25\n",
      "231/231 - 5s - loss: nan - fan_output_loss: nan - led_output_loss: nan - humid_output_loss: nan - fan_output_accuracy: 0.9694 - led_output_accuracy: 0.7397 - humid_output_accuracy: 0.2708 - val_loss: nan - val_fan_output_loss: nan - val_led_output_loss: nan - val_humid_output_loss: nan - val_fan_output_accuracy: 0.9772 - val_led_output_accuracy: 0.7507 - val_humid_output_accuracy: 0.2553 - 5s/epoch - 20ms/step\n",
      "Epoch 12/25\n",
      "231/231 - 4s - loss: nan - fan_output_loss: nan - led_output_loss: nan - humid_output_loss: nan - fan_output_accuracy: 0.9694 - led_output_accuracy: 0.7397 - humid_output_accuracy: 0.2708 - val_loss: nan - val_fan_output_loss: nan - val_led_output_loss: nan - val_humid_output_loss: nan - val_fan_output_accuracy: 0.9772 - val_led_output_accuracy: 0.7507 - val_humid_output_accuracy: 0.2553 - 4s/epoch - 18ms/step\n",
      "Epoch 13/25\n",
      "231/231 - 4s - loss: nan - fan_output_loss: nan - led_output_loss: nan - humid_output_loss: nan - fan_output_accuracy: 0.9694 - led_output_accuracy: 0.7397 - humid_output_accuracy: 0.2708 - val_loss: nan - val_fan_output_loss: nan - val_led_output_loss: nan - val_humid_output_loss: nan - val_fan_output_accuracy: 0.9772 - val_led_output_accuracy: 0.7507 - val_humid_output_accuracy: 0.2553 - 4s/epoch - 18ms/step\n",
      "Epoch 14/25\n",
      "231/231 - 4s - loss: nan - fan_output_loss: nan - led_output_loss: nan - humid_output_loss: nan - fan_output_accuracy: 0.9694 - led_output_accuracy: 0.7397 - humid_output_accuracy: 0.2708 - val_loss: nan - val_fan_output_loss: nan - val_led_output_loss: nan - val_humid_output_loss: nan - val_fan_output_accuracy: 0.9772 - val_led_output_accuracy: 0.7507 - val_humid_output_accuracy: 0.2553 - 4s/epoch - 17ms/step\n",
      "Epoch 15/25\n",
      "231/231 - 4s - loss: nan - fan_output_loss: nan - led_output_loss: nan - humid_output_loss: nan - fan_output_accuracy: 0.9694 - led_output_accuracy: 0.7397 - humid_output_accuracy: 0.2708 - val_loss: nan - val_fan_output_loss: nan - val_led_output_loss: nan - val_humid_output_loss: nan - val_fan_output_accuracy: 0.9772 - val_led_output_accuracy: 0.7507 - val_humid_output_accuracy: 0.2553 - 4s/epoch - 17ms/step\n",
      "Epoch 16/25\n",
      "231/231 - 4s - loss: nan - fan_output_loss: nan - led_output_loss: nan - humid_output_loss: nan - fan_output_accuracy: 0.9694 - led_output_accuracy: 0.7397 - humid_output_accuracy: 0.2708 - val_loss: nan - val_fan_output_loss: nan - val_led_output_loss: nan - val_humid_output_loss: nan - val_fan_output_accuracy: 0.9772 - val_led_output_accuracy: 0.7507 - val_humid_output_accuracy: 0.2553 - 4s/epoch - 17ms/step\n",
      "Epoch 17/25\n",
      "231/231 - 4s - loss: nan - fan_output_loss: nan - led_output_loss: nan - humid_output_loss: nan - fan_output_accuracy: 0.9694 - led_output_accuracy: 0.7397 - humid_output_accuracy: 0.2708 - val_loss: nan - val_fan_output_loss: nan - val_led_output_loss: nan - val_humid_output_loss: nan - val_fan_output_accuracy: 0.9772 - val_led_output_accuracy: 0.7507 - val_humid_output_accuracy: 0.2553 - 4s/epoch - 17ms/step\n",
      "Epoch 18/25\n",
      "231/231 - 4s - loss: nan - fan_output_loss: nan - led_output_loss: nan - humid_output_loss: nan - fan_output_accuracy: 0.9694 - led_output_accuracy: 0.7397 - humid_output_accuracy: 0.2708 - val_loss: nan - val_fan_output_loss: nan - val_led_output_loss: nan - val_humid_output_loss: nan - val_fan_output_accuracy: 0.9772 - val_led_output_accuracy: 0.7507 - val_humid_output_accuracy: 0.2553 - 4s/epoch - 18ms/step\n",
      "Epoch 19/25\n",
      "231/231 - 4s - loss: nan - fan_output_loss: nan - led_output_loss: nan - humid_output_loss: nan - fan_output_accuracy: 0.9694 - led_output_accuracy: 0.7397 - humid_output_accuracy: 0.2708 - val_loss: nan - val_fan_output_loss: nan - val_led_output_loss: nan - val_humid_output_loss: nan - val_fan_output_accuracy: 0.9772 - val_led_output_accuracy: 0.7507 - val_humid_output_accuracy: 0.2553 - 4s/epoch - 16ms/step\n",
      "Epoch 20/25\n",
      "231/231 - 4s - loss: nan - fan_output_loss: nan - led_output_loss: nan - humid_output_loss: nan - fan_output_accuracy: 0.9694 - led_output_accuracy: 0.7397 - humid_output_accuracy: 0.2708 - val_loss: nan - val_fan_output_loss: nan - val_led_output_loss: nan - val_humid_output_loss: nan - val_fan_output_accuracy: 0.9772 - val_led_output_accuracy: 0.7507 - val_humid_output_accuracy: 0.2553 - 4s/epoch - 15ms/step\n",
      "Epoch 21/25\n",
      "231/231 - 4s - loss: nan - fan_output_loss: nan - led_output_loss: nan - humid_output_loss: nan - fan_output_accuracy: 0.9694 - led_output_accuracy: 0.7397 - humid_output_accuracy: 0.2708 - val_loss: nan - val_fan_output_loss: nan - val_led_output_loss: nan - val_humid_output_loss: nan - val_fan_output_accuracy: 0.9772 - val_led_output_accuracy: 0.7507 - val_humid_output_accuracy: 0.2553 - 4s/epoch - 17ms/step\n",
      "Epoch 22/25\n",
      "231/231 - 4s - loss: nan - fan_output_loss: nan - led_output_loss: nan - humid_output_loss: nan - fan_output_accuracy: 0.9694 - led_output_accuracy: 0.7397 - humid_output_accuracy: 0.2708 - val_loss: nan - val_fan_output_loss: nan - val_led_output_loss: nan - val_humid_output_loss: nan - val_fan_output_accuracy: 0.9772 - val_led_output_accuracy: 0.7507 - val_humid_output_accuracy: 0.2553 - 4s/epoch - 16ms/step\n",
      "Epoch 23/25\n",
      "231/231 - 4s - loss: nan - fan_output_loss: nan - led_output_loss: nan - humid_output_loss: nan - fan_output_accuracy: 0.9694 - led_output_accuracy: 0.7397 - humid_output_accuracy: 0.2708 - val_loss: nan - val_fan_output_loss: nan - val_led_output_loss: nan - val_humid_output_loss: nan - val_fan_output_accuracy: 0.9772 - val_led_output_accuracy: 0.7507 - val_humid_output_accuracy: 0.2553 - 4s/epoch - 16ms/step\n",
      "Epoch 24/25\n",
      "231/231 - 4s - loss: nan - fan_output_loss: nan - led_output_loss: nan - humid_output_loss: nan - fan_output_accuracy: 0.9694 - led_output_accuracy: 0.7397 - humid_output_accuracy: 0.2708 - val_loss: nan - val_fan_output_loss: nan - val_led_output_loss: nan - val_humid_output_loss: nan - val_fan_output_accuracy: 0.9772 - val_led_output_accuracy: 0.7507 - val_humid_output_accuracy: 0.2553 - 4s/epoch - 16ms/step\n",
      "Epoch 25/25\n",
      "231/231 - 4s - loss: nan - fan_output_loss: nan - led_output_loss: nan - humid_output_loss: nan - fan_output_accuracy: 0.9694 - led_output_accuracy: 0.7397 - humid_output_accuracy: 0.2708 - val_loss: nan - val_fan_output_loss: nan - val_led_output_loss: nan - val_humid_output_loss: nan - val_fan_output_accuracy: 0.9772 - val_led_output_accuracy: 0.7507 - val_humid_output_accuracy: 0.2553 - 4s/epoch - 17ms/step\n"
     ]
    }
   ],
   "execution_count": 22
  },
  {
   "metadata": {
    "ExecuteTime": {
     "end_time": "2024-06-09T07:14:43.427824Z",
     "start_time": "2024-06-09T07:14:41.933389Z"
    }
   },
   "cell_type": "code",
   "source": "predictions = model.predict(x_test)",
   "id": "4ad8803cb9e7f787",
   "outputs": [
    {
     "name": "stdout",
     "output_type": "stream",
     "text": [
      "72/72 [==============================] - 1s 6ms/step\n"
     ]
    }
   ],
   "execution_count": 23
  },
  {
   "metadata": {
    "ExecuteTime": {
     "end_time": "2024-06-09T07:14:44.221069Z",
     "start_time": "2024-06-09T07:14:43.429840Z"
    }
   },
   "cell_type": "code",
   "source": "model.evaluate(x_test, test_label)",
   "id": "13d4898202114834",
   "outputs": [
    {
     "name": "stdout",
     "output_type": "stream",
     "text": [
      "72/72 [==============================] - 1s 9ms/step - loss: nan - fan_output_loss: nan - led_output_loss: nan - humid_output_loss: nan - fan_output_accuracy: 0.9683 - led_output_accuracy: 0.7242 - humid_output_accuracy: 0.2802\n"
     ]
    },
    {
     "data": {
      "text/plain": [
       "[nan,\n",
       " nan,\n",
       " nan,\n",
       " nan,\n",
       " 0.9682884216308594,\n",
       " 0.7241529226303101,\n",
       " 0.2801911234855652]"
      ]
     },
     "execution_count": 24,
     "metadata": {},
     "output_type": "execute_result"
    }
   ],
   "execution_count": 24
  },
  {
   "metadata": {
    "ExecuteTime": {
     "end_time": "2024-06-09T07:14:44.236122Z",
     "start_time": "2024-06-09T07:14:44.223071Z"
    }
   },
   "cell_type": "code",
   "source": "predictions",
   "id": "4725c106ee8966c9",
   "outputs": [
    {
     "data": {
      "text/plain": [
       "[array([[nan],\n",
       "        [nan],\n",
       "        [nan],\n",
       "        ...,\n",
       "        [nan],\n",
       "        [nan],\n",
       "        [nan]], dtype=float32),\n",
       " array([[nan],\n",
       "        [nan],\n",
       "        [nan],\n",
       "        ...,\n",
       "        [nan],\n",
       "        [nan],\n",
       "        [nan]], dtype=float32),\n",
       " array([[nan],\n",
       "        [nan],\n",
       "        [nan],\n",
       "        ...,\n",
       "        [nan],\n",
       "        [nan],\n",
       "        [nan]], dtype=float32)]"
      ]
     },
     "execution_count": 25,
     "metadata": {},
     "output_type": "execute_result"
    }
   ],
   "execution_count": 25
  },
  {
   "metadata": {
    "ExecuteTime": {
     "end_time": "2024-06-09T07:14:44.251658Z",
     "start_time": "2024-06-09T07:14:44.240121Z"
    }
   },
   "cell_type": "code",
   "source": "",
   "id": "4d0fd476e3fcfdc",
   "outputs": [],
   "execution_count": 25
  }
 ],
 "metadata": {
  "kernelspec": {
   "display_name": "Python 3",
   "language": "python",
   "name": "python3"
  },
  "language_info": {
   "codemirror_mode": {
    "name": "ipython",
    "version": 2
   },
   "file_extension": ".py",
   "mimetype": "text/x-python",
   "name": "python",
   "nbconvert_exporter": "python",
   "pygments_lexer": "ipython2",
   "version": "2.7.6"
  }
 },
 "nbformat": 4,
 "nbformat_minor": 5
}
