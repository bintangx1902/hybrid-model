{
 "cells": [
  {
   "cell_type": "code",
   "id": "initial_id",
   "metadata": {
    "collapsed": true,
    "ExecuteTime": {
     "end_time": "2024-09-02T10:22:28.291596Z",
     "start_time": "2024-09-02T10:22:28.272571Z"
    }
   },
   "source": [
    "import shutil\n",
    "import os\n",
    "import random"
   ],
   "outputs": [],
   "execution_count": 1
  },
  {
   "metadata": {
    "ExecuteTime": {
     "end_time": "2024-09-02T10:22:28.307574Z",
     "start_time": "2024-09-02T10:22:28.294568Z"
    }
   },
   "cell_type": "code",
   "source": [
    "locate_dir = r'D:\\PEN\\paddy\\8 Day'\n",
    "save_dir = r'D:\\PEN\\paddy_balance\\day 8'"
   ],
   "id": "7ed5f73db50b3033",
   "outputs": [],
   "execution_count": 2
  },
  {
   "metadata": {
    "ExecuteTime": {
     "end_time": "2024-09-02T10:22:28.323561Z",
     "start_time": "2024-09-02T10:22:28.310570Z"
    }
   },
   "cell_type": "code",
   "source": "os.makedirs(save_dir, exist_ok=True)",
   "id": "77aad7f64be57ad7",
   "outputs": [],
   "execution_count": 3
  },
  {
   "metadata": {
    "ExecuteTime": {
     "end_time": "2024-09-02T10:22:28.451019Z",
     "start_time": "2024-09-02T10:22:28.326558Z"
    }
   },
   "cell_type": "code",
   "source": "all_images = [f for f in os.listdir(locate_dir) if os.path.isfile(os.path.join(locate_dir, f))]",
   "id": "c998d8e8fbc366b6",
   "outputs": [],
   "execution_count": 4
  },
  {
   "metadata": {
    "ExecuteTime": {
     "end_time": "2024-09-02T10:22:28.466300Z",
     "start_time": "2024-09-02T10:22:28.454299Z"
    }
   },
   "cell_type": "code",
   "source": "selected_images = random.sample(all_images, 1296)",
   "id": "79d4d4ab0e26d76b",
   "outputs": [],
   "execution_count": 5
  },
  {
   "metadata": {
    "ExecuteTime": {
     "end_time": "2024-09-02T10:22:29.492790Z",
     "start_time": "2024-09-02T10:22:28.469303Z"
    }
   },
   "cell_type": "code",
   "source": [
    "for image in selected_images:\n",
    "    src_path = os.path.join(locate_dir, image)\n",
    "    dst_path = os.path.join(save_dir, image)\n",
    "    shutil.copy(src_path, dst_path)\n"
   ],
   "id": "7de1a4c165fe7ec7",
   "outputs": [],
   "execution_count": 6
  },
  {
   "metadata": {},
   "cell_type": "code",
   "outputs": [],
   "execution_count": null,
   "source": "",
   "id": "4db5f97fdd2e299c"
  }
 ],
 "metadata": {
  "kernelspec": {
   "display_name": "Python 3",
   "language": "python",
   "name": "python3"
  },
  "language_info": {
   "codemirror_mode": {
    "name": "ipython",
    "version": 2
   },
   "file_extension": ".py",
   "mimetype": "text/x-python",
   "name": "python",
   "nbconvert_exporter": "python",
   "pygments_lexer": "ipython2",
   "version": "2.7.6"
  }
 },
 "nbformat": 4,
 "nbformat_minor": 5
}
